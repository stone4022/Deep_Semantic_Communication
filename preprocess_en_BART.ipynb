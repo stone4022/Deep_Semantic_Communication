{
 "cells": [
  {
   "cell_type": "code",
   "execution_count": 4,
   "metadata": {},
   "outputs": [],
   "source": [
    "import unicodedata\n",
    "import re\n",
    "from w3lib.html import remove_tags\n",
    "import pickle\n",
    "import argparse\n",
    "import os\n",
    "import json\n",
    "import csv\n",
    "from tqdm import tqdm\n",
    "from transformers import BartTokenizer, BartModel"
   ]
  },
  {
   "cell_type": "code",
   "execution_count": 5,
   "metadata": {},
   "outputs": [],
   "source": [
    "def unicode_to_ascii(s):\n",
    "    return ''.join(c for c in unicodedata.normalize('NFD', s)\n",
    "                   if unicodedata.category(c) != 'Mn')\n",
    "\n",
    "def normalize_string(s):\n",
    "    # normalize unicode characters\n",
    "    s = unicode_to_ascii(s)\n",
    "    # remove the XML-tags\n",
    "    s = remove_tags(s)\n",
    "    # add white space before !.?\n",
    "    s = re.sub(r'([!.?])', r' \\1', s)\n",
    "    s = re.sub(r'[^a-zA-Z.!?]+', r' ', s)\n",
    "    s = re.sub(r'\\s+', r' ', s)\n",
    "    # change to lower letter\n",
    "    s = s.lower()\n",
    "    return s\n",
    "\n",
    "def cutted_data(cleaned, MIN_LENGTH=4, MAX_LENGTH=30):\n",
    "    ss = []\n",
    "    for x in cleaned:\n",
    "        if 30>=len(x.split(' '))>=3 :\n",
    "            ss.append(x)\n",
    "    return ss\n",
    "\n",
    "def save_clean_sentences(sentence, save_path):\n",
    "    pickle.dump(sentence, open(save_path, 'wb'))\n",
    "    print('Saved: %s' % save_path)\n",
    "\n",
    "def process(text_path):\n",
    "    fop = open(text_path, 'r', encoding='utf8')\n",
    "    raw_data = fop.read()\n",
    "    sentences = raw_data.strip().split('\\n')\n",
    "    raw_data_input = [normalize_string(data) for data in sentences]\n",
    "    raw_data_input = cutted_data(raw_data_input)\n",
    "    fop.close()\n",
    "\n",
    "    return raw_data_input"
   ]
  },
  {
   "cell_type": "code",
   "execution_count": 6,
   "metadata": {},
   "outputs": [
    {
     "name": "stdout",
     "output_type": "stream",
     "text": [
      "Preprocess Raw Text\n"
     ]
    },
    {
     "name": "stderr",
     "output_type": "stream",
     "text": [
      "100%|██████████| 9672/9672 [02:11<00:00, 73.42it/s] \n"
     ]
    },
    {
     "name": "stdout",
     "output_type": "stream",
     "text": [
      "Number of sentences: 119032\n",
      "Start encoding txt\n"
     ]
    },
    {
     "name": "stderr",
     "output_type": "stream",
     "text": [
      "100%|██████████| 119032/119032 [00:20<00:00, 5914.17it/s]"
     ]
    },
    {
     "name": "stdout",
     "output_type": "stream",
     "text": [
      "Writing Data\n",
      "resumption of the session\n",
      "[0, 1535, 21236, 9, 5, 1852, 2]\n",
      " the house rose and observed a minute s silence \n",
      "[0, 5, 790, 1458, 8, 6373, 10, 2289, 579, 7308, 1437, 2]\n",
      "that is precisely the time when you may if you wish raise this question i .e . on thursday prior to the start of the presentation of the report .\n",
      "[0, 6025, 16, 12810, 5, 86, 77, 47, 189, 114, 47, 2813, 1693, 42, 864, 939, 479, 242, 479, 15, 3553, 46806, 2052, 7, 5, 386, 9, 5, 5209, 9, 5, 266, 479, 2]\n",
      "this is all in accordance with the principles that we have always upheld .\n",
      "[0, 9226, 16, 70, 11, 10753, 19, 5, 7797, 14, 52, 33, 460, 14817, 479, 2]\n",
      "thank you mr segni i shall do so gladly . indeed it is quite in keeping with the positions this house has always adopted .\n",
      "[0, 31653, 47, 475, 338, 842, 16993, 118, 939, 5658, 109, 98, 36811, 479, 5329, 24, 16, 1341, 11, 2396, 19, 5, 2452, 42, 790, 34, 460, 5091, 479, 2]\n",
      "yes mrs schroedter i shall be pleased to look into the facts of this case when i have received your letter .\n",
      "[0, 10932, 475, 4926, 8447, 1001, 196, 1334, 939, 5658, 28, 4343, 7, 356, 88, 5, 4905, 9, 42, 403, 77, 939, 33, 829, 110, 1601, 479, 2]\n",
      "in any event this question is not presently included among the requests for topical and urgent debate on thursday .\n",
      "[0, 179, 143, 515, 42, 864, 16, 45, 10375, 1165, 566, 5, 5034, 13, 33469, 8, 9047, 2625, 15, 3553, 46806, 479, 2]\n",
      "relating to wednesday \n",
      "[0, 5982, 1295, 7, 18862, 46836, 1437, 2]\n",
      " applause from the pse group \n",
      "[0, 17288, 31, 5, 35504, 333, 1437, 2]\n",
      " applause from the ppe de group \n",
      "[0, 17288, 31, 5, 181, 2379, 263, 333, 1437, 2]\n"
     ]
    },
    {
     "name": "stderr",
     "output_type": "stream",
     "text": [
      "\n"
     ]
    }
   ],
   "source": [
    "parser = argparse.ArgumentParser()\n",
    "parser.add_argument('--input-data-dir', default='europarl/en', type=str)\n",
    "parser.add_argument('--output-train-dir', default='BART/train_data.pkl', type=str)\n",
    "parser.add_argument('--output-test-dir', default='BART/test_data.pkl', type=str)\n",
    "\n",
    "    \n",
    "args = parser.parse_args(args=[])\n",
    "data_dir = './data/'\n",
    "\n",
    "args.input_data_dir = data_dir + args.input_data_dir\n",
    "args.output_train_dir = data_dir + args.output_train_dir\n",
    "args.output_test_dir = data_dir + args.output_test_dir\n",
    "\n",
    "sentences = []\n",
    "print('Preprocess Raw Text')\n",
    "for fn in tqdm(os.listdir(args.input_data_dir)):\n",
    "    if not fn.endswith('.txt'): continue\n",
    "    process_sentences = process(os.path.join(args.input_data_dir, fn))\n",
    "    sentences += process_sentences\n",
    "\n",
    "print('Number of sentences: {}'.format(len(sentences)))\n",
    "\n",
    "# use BartTokenizer\n",
    "tokenizer = BartTokenizer.from_pretrained(\"facebook/bart-base\")\n",
    "\n",
    "print('Start encoding txt')\n",
    "results = []\n",
    "for seq in tqdm(sentences):\n",
    "    tokens = tokenizer(seq)['input_ids']\n",
    "    # tokens = tokenizer(seq, return_tensors=\"pt\")['input_ids']\n",
    "    results.append(tokens)\n",
    "\n",
    "print('Writing Data')\n",
    "train_data = results[: round(len(results) * 0.9)]\n",
    "test_data = results[round(len(results) * 0.9):]\n",
    "\n",
    "with open(args.output_train_dir, 'wb') as f:\n",
    "    pickle.dump(train_data, f)\n",
    "with open(args.output_test_dir, 'wb') as f:\n",
    "    pickle.dump(test_data, f)\n",
    "\n",
    "# spot check\n",
    "for i in range(10):\n",
    "    print(sentences[i])\n",
    "    print(results[i])"
   ]
  },
  {
   "cell_type": "code",
   "execution_count": 7,
   "metadata": {},
   "outputs": [
    {
     "name": "stdout",
     "output_type": "stream",
     "text": [
      "119032\n",
      "69\n"
     ]
    }
   ],
   "source": [
    "print(len(results))\n",
    "max_len = 0\n",
    "for i in range(len(results)):\n",
    "    tmp = len(results[i])\n",
    "    if tmp > max_len:\n",
    "        max_len = tmp\n",
    "print(max_len)"
   ]
  }
 ],
 "metadata": {
  "kernelspec": {
   "display_name": "Python 3.8.13 ('pytorch38')",
   "language": "python",
   "name": "python3"
  },
  "language_info": {
   "codemirror_mode": {
    "name": "ipython",
    "version": 3
   },
   "file_extension": ".py",
   "mimetype": "text/x-python",
   "name": "python",
   "nbconvert_exporter": "python",
   "pygments_lexer": "ipython3",
   "version": "3.8.13 (default, Mar 28 2022, 06:59:08) [MSC v.1916 64 bit (AMD64)]"
  },
  "orig_nbformat": 4,
  "vscode": {
   "interpreter": {
    "hash": "ec35eb9b335c7e254c8f905d982b9b8442353d7ca0606de2b8530d7f26352d53"
   }
  }
 },
 "nbformat": 4,
 "nbformat_minor": 2
}
