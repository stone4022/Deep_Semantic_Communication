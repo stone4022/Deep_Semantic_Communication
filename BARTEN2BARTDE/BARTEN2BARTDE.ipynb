{
 "cells": [
  {
   "cell_type": "code",
   "execution_count": null,
   "metadata": {},
   "outputs": [
    {
     "name": "stdout",
     "output_type": "stream",
     "text": [
      "../checkpoints/BARTEN2BARTDE/lr=3e-5/checkpoint_07.pth\n",
      "model load!\n"
     ]
    },
    {
     "name": "stderr",
     "output_type": "stream",
     "text": [
      "Epoch: 7;  Type: Train; Loss: 3.12385: 100%|██████████| 837/837 [05:45<00:00,  2.42it/s]\n",
      "Epoch: 7; Type: VAL; Loss: 2.42680: 100%|██████████| 93/93 [00:11<00:00,  7.87it/s]\n"
     ]
    },
    {
     "name": "stdout",
     "output_type": "stream",
     "text": [
      "Validation loss decreased (inf --> 2.801236).  Saving model ...\n"
     ]
    },
    {
     "name": "stderr",
     "output_type": "stream",
     "text": [
      "Epoch: 8;  Type: Train; Loss: 2.88081: 100%|██████████| 837/837 [05:45<00:00,  2.42it/s]\n",
      "Epoch: 8; Type: VAL; Loss: 2.42507: 100%|██████████| 93/93 [00:11<00:00,  7.88it/s]\n"
     ]
    },
    {
     "name": "stdout",
     "output_type": "stream",
     "text": [
      "Validation loss decreased (2.801236 --> 2.800363).  Saving model ...\n"
     ]
    },
    {
     "name": "stderr",
     "output_type": "stream",
     "text": [
      "Epoch: 9;  Type: Train; Loss: 2.38095: 100%|██████████| 837/837 [05:46<00:00,  2.42it/s]\n",
      "Epoch: 9; Type: VAL; Loss: 2.42407: 100%|██████████| 93/93 [00:11<00:00,  7.89it/s]\n"
     ]
    },
    {
     "name": "stdout",
     "output_type": "stream",
     "text": [
      "Validation loss decreased (2.800363 --> 2.799847).  Saving model ...\n"
     ]
    },
    {
     "name": "stderr",
     "output_type": "stream",
     "text": [
      "Epoch: 10;  Type: Train; Loss: 3.01100: 100%|██████████| 837/837 [05:45<00:00,  2.42it/s]\n",
      "Epoch: 10; Type: VAL; Loss: 2.42227: 100%|██████████| 93/93 [00:11<00:00,  7.88it/s]\n"
     ]
    },
    {
     "name": "stdout",
     "output_type": "stream",
     "text": [
      "Validation loss decreased (2.799847 --> 2.799523).  Saving model ...\n"
     ]
    },
    {
     "name": "stderr",
     "output_type": "stream",
     "text": [
      "Epoch: 11;  Type: Train; Loss: 3.09065: 100%|██████████| 837/837 [05:45<00:00,  2.42it/s]\n",
      "Epoch: 11; Type: VAL; Loss: 2.42125: 100%|██████████| 93/93 [00:11<00:00,  7.89it/s]\n"
     ]
    },
    {
     "name": "stdout",
     "output_type": "stream",
     "text": [
      "Validation loss decreased (2.799523 --> 2.799217).  Saving model ...\n"
     ]
    },
    {
     "name": "stderr",
     "output_type": "stream",
     "text": [
      "Epoch: 12;  Type: Train; Loss: 3.05994: 100%|██████████| 837/837 [05:46<00:00,  2.42it/s]\n",
      "Epoch: 12; Type: VAL; Loss: 2.42077: 100%|██████████| 93/93 [00:11<00:00,  7.89it/s]\n"
     ]
    },
    {
     "name": "stdout",
     "output_type": "stream",
     "text": [
      "Validation loss decreased (2.799217 --> 2.798939).  Saving model ...\n"
     ]
    }
   ],
   "source": [
    "# -*- coding: utf-8 -*-\n",
    "\"\"\"\n",
    "Created on Tue May 26 16:59:14 2020\n",
    "\n",
    "@author: HQ Xie\n",
    "\"\"\"\n",
    "import os\n",
    "import argparse\n",
    "import time\n",
    "import json\n",
    "import torch\n",
    "import random\n",
    "import torch.nn as nn\n",
    "import numpy as np\n",
    "import logging\n",
    "from dataset_BART import EurDataset, collate_data\n",
    "from performance_BARTEN2BARTDE import performance\n",
    "import sys \n",
    "sys.path.append(\"..\") \n",
    "from models.BARTEN2BARTDE import DeepSC_BARTEN2BARTDE\n",
    "from utils import SNR_to_noise, initNetParams, train_step_barten2bartde, val_step_barten2bartde, NoamOpt, EarlyStopping\n",
    "from torch.utils.data import DataLoader\n",
    "from torch.utils.tensorboard import SummaryWriter\n",
    "from tqdm import tqdm\n",
    "\n",
    "parser = argparse.ArgumentParser()\n",
    "parser.add_argument('--data-dir', default='../data/BART/train_data.pkl', type=str)\n",
    "parser.add_argument('--checkpoint-path', default='../checkpoints/BARTEN2BARTDE/lr=3e-5', type=str)\n",
    "parser.add_argument('--channel', default='TEST', type=str, help='Please choose AWGN, Rayleigh, and Rician')\n",
    "parser.add_argument('--MAX-LENGTH', default=65, type=int)\n",
    "parser.add_argument('--batch-size', default=128, type=int)\n",
    "parser.add_argument('--epochs', default=100, type=int)\n",
    "parser.add_argument('--resume', default=True, type=bool)\n",
    "parser.add_argument('--Test_epochs', default=1, type=int)\n",
    "device = torch.device(\"cuda:0\" if torch.cuda.is_available() else \"cpu\")\n",
    "\n",
    "log_format = '%(asctime)s %(message)s'\n",
    "logging.basicConfig(filename='myLog.log', \n",
    "                    filemode='w',\n",
    "                    level=logging.INFO,\n",
    "                    format=log_format,\n",
    "                    datefmt='%m/%d %I:%M:%S %p')\n",
    "logger = logging.getLogger()\n",
    "\n",
    "def setup_seed(seed):\n",
    "    torch.manual_seed(seed)\n",
    "    torch.cuda.manual_seed_all(seed)\n",
    "    np.random.seed(seed)\n",
    "    random.seed(seed)\n",
    "    torch.backends.cudnn.deterministic = True\n",
    "\n",
    "\n",
    "def validate(epoch, args, net, noise_std):\n",
    "    test_eur = EurDataset('test')\n",
    "    test_iterator = DataLoader(test_eur, batch_size=args.batch_size, num_workers=0,\n",
    "                               pin_memory=True, collate_fn=collate_data)\n",
    "    pbar = tqdm(test_iterator)\n",
    "    total = 0\n",
    "\n",
    "    with torch.no_grad():\n",
    "        for sents in pbar:\n",
    "            sents = sents.to(device)\n",
    "            loss = val_step_barten2bartde(net, sents, sents, noise_std, pad_idx, criterion, args.channel)\n",
    "            total += loss\n",
    "            pbar.set_description('Epoch: {}; Type: VAL; Loss: {:.5f}'.format(epoch, loss))\n",
    "\n",
    "    early_stopping(total / len(test_iterator), net, logger)\n",
    "    if early_stopping.early_stop:\n",
    "        sys.exit(\"Early stopping\")\n",
    "        \n",
    "    return total / len(test_iterator)\n",
    "\n",
    "\n",
    "def train(epoch, args, net, noise_std):\n",
    "    train_eur = EurDataset('train')\n",
    "    train_iterator = DataLoader(train_eur, batch_size=args.batch_size, num_workers=0, shuffle=True,\n",
    "                                pin_memory=True, collate_fn=collate_data)\n",
    "    pbar = tqdm(train_iterator)\n",
    "    total = 0\n",
    "\n",
    "    for sents in pbar:\n",
    "        sents = sents.to(device)\n",
    "        loss = train_step_barten2bartde(net, sents, sents, noise_std, pad_idx, opt, criterion, args.channel)\n",
    "        total += loss\n",
    "        pbar.set_description('Epoch: {};  Type: Train; Loss: {:.5f}'.format(epoch, loss))\n",
    "\n",
    "    return total / len(train_iterator)\n",
    "\n",
    "\n",
    "\n",
    "if __name__ == '__main__':\n",
    "\n",
    "    \"\"\" parameter setting\"\"\"\n",
    "    setup_seed(42)\n",
    "    args = parser.parse_args(args=[])\n",
    "    early_stopping = EarlyStopping(args.checkpoint_path + '/best')\n",
    "    loss_curve = SummaryWriter(\"../logs/BARTEN2BARTDE/lr=3e-5\", flush_secs=1)\n",
    "    logger.info('The args: {}'.format(args))\n",
    "\n",
    "\n",
    "    \"\"\" special token idx \"\"\"\n",
    "    vocab_size = 50265\n",
    "    start_idx = 0\n",
    "    pad_idx = 1\n",
    "    end_idx = 2\n",
    "\n",
    "\n",
    "    \"\"\" define model \"\"\"\n",
    "    deepsc_barten2bartde = DeepSC_BARTEN2BARTDE(vocab_size).to(device)\n",
    "\n",
    "\n",
    "    \"\"\" load existed model\"\"\"\n",
    "    if args.resume:\n",
    "        model_paths = []\n",
    "        for fn in os.listdir(args.checkpoint_path):\n",
    "            if not fn.endswith('.pth'): continue\n",
    "            idx = int(os.path.splitext(fn)[0].split('_')[-1])  # read the idx of image\n",
    "            model_paths.append((os.path.join(args.checkpoint_path, fn), idx))\n",
    "\n",
    "        model_paths.sort(key=lambda x: x[1])  # sort the image by the idx\n",
    "        model_path, _ = model_paths[-1]\n",
    "        print(model_path)\n",
    "        checkpoint = torch.load(model_path, map_location='cpu')\n",
    "        deepsc_barten2bartde.load_state_dict(checkpoint,strict=False)\n",
    "        print('model load!')\n",
    "    else:\n",
    "        print('no existed checkpoint')\n",
    "        for p in deepsc_barten2bartde.dense.parameters():\n",
    "            if p.dim() > 1:\n",
    "                nn.init.xavier_uniform_(p)\n",
    "    \n",
    "    \"\"\" define optimizer and loss function \"\"\"\n",
    "    criterion = nn.CrossEntropyLoss(reduction='none')\n",
    "    opt = torch.optim.Adam(deepsc_barten2bartde.parameters(), lr=3e-7, betas=(0.9, 0.98), eps=1e-8, weight_decay=5e-4)\n",
    "    # opt = NoamOpt(768, 1, 12000, optimizer)\n",
    "\n",
    "    record_acc = 10\n",
    "    for epoch in range(7 , 7 + args.epochs):\n",
    "\n",
    "        start = time.time()\n",
    "        n_std = np.random.uniform(SNR_to_noise(5), SNR_to_noise(10))\n",
    "\n",
    "        tra_acc = train(epoch, args, deepsc_barten2bartde, n_std)\n",
    "        avg_acc = validate(epoch, args, deepsc_barten2bartde, n_std)\n",
    "\n",
    "        if record_acc >= avg_acc:\n",
    "            record_acc = avg_acc\n",
    "            if not os.path.exists(args.checkpoint_path):\n",
    "                os.makedirs(args.checkpoint_path)\n",
    "            with open(args.checkpoint_path + '/checkpoint_{}.pth'.format(str(epoch).zfill(2)), 'wb') as f:\n",
    "                torch.save(deepsc_barten2bartde.state_dict(), f)\n",
    "\n",
    "        bleu1, bleu2, bleu3, bleu4 = performance(args, [0], deepsc_barten2bartde, pad_idx, start_idx, end_idx)\n",
    "        \n",
    "        # record the results\n",
    "        logger.info('Epoch: {}; Type: Train; Loss: {:.5f}'.format(epoch, tra_acc))  \n",
    "        logger.info('Epoch: {}; Type: Vaild; Loss: {:.5f}'.format(epoch, avg_acc))\n",
    "        logger.info('Epoch: {}; Type: Vaild; BLEU score: {:.5f} {:.5f} {:.5f} {:.5f}'.format(epoch, bleu1[0], bleu2[0], bleu3[0], bleu4[0]))\n",
    "\n",
    "        loss_curve.add_scalar(\"Train loss\", tra_acc, epoch)\n",
    "        loss_curve.add_scalar(\"Vaild loss\", avg_acc, epoch)\n",
    "        loss_curve.add_scalar(\"BLEU score\", bleu1[0], epoch)\n",
    "\n",
    "    loss_curve.close()\n"
   ]
  }
 ],
 "metadata": {
  "kernelspec": {
<<<<<<< Updated upstream
   "display_name": "base",
=======
   "display_name": "Python 3 (ipykernel)",
>>>>>>> Stashed changes
   "language": "python",
   "name": "python3"
  },
  "language_info": {
   "codemirror_mode": {
    "name": "ipython",
    "version": 3
   },
   "file_extension": ".py",
   "mimetype": "text/x-python",
   "name": "python",
   "nbconvert_exporter": "python",
   "pygments_lexer": "ipython3",
<<<<<<< Updated upstream
   "version": "3.9.12 (main, Apr  4 2022, 05:22:27) [MSC v.1916 64 bit (AMD64)]"
=======
   "version": "3.8.10"
>>>>>>> Stashed changes
  },
  "vscode": {
   "interpreter": {
    "hash": "d3d303814ca5ff286526fa90e0ab70cd661e2119bac7791e3f542b984082dd37"
   }
  }
 },
 "nbformat": 4,
 "nbformat_minor": 2
}
