{
 "cells": [
  {
   "cell_type": "code",
   "execution_count": 1,
   "metadata": {},
   "outputs": [],
   "source": [
    "import unicodedata\n",
    "import re\n",
    "from w3lib.html import remove_tags\n",
    "import pickle\n",
    "import argparse\n",
    "import os\n",
    "import json\n",
    "import csv\n",
    "from tqdm import tqdm\n",
    "from transformers import BertTokenizer"
   ]
  },
  {
   "cell_type": "code",
   "execution_count": 2,
   "metadata": {},
   "outputs": [],
   "source": [
    "def unicode_to_ascii(s):\n",
    "    return ''.join(c for c in unicodedata.normalize('NFD', s)\n",
    "                   if unicodedata.category(c) != 'Mn')\n",
    "\n",
    "def normalize_string(s):\n",
    "    # normalize unicode characters\n",
    "    s = unicode_to_ascii(s)\n",
    "    # remove the XML-tags\n",
    "    s = remove_tags(s)\n",
    "    # add white space before !.?\n",
    "    s = re.sub(r'([!.?])', r' \\1', s)\n",
    "    s = re.sub(r'[^a-zA-Z.!?]+', r' ', s)\n",
    "    s = re.sub(r'\\s+', r' ', s)\n",
    "    # change to lower letter\n",
    "    s = s.lower()\n",
    "    return s\n",
    "\n",
    "def cutted_data(cleaned, MIN_LENGTH=4, MAX_LENGTH=30):\n",
    "    ss = []\n",
    "    for x in cleaned:\n",
    "        if 30>=len(x.split(' '))>=3 :\n",
    "            ss.append(x)\n",
    "    return ss\n",
    "\n",
    "def save_clean_sentences(sentence, save_path):\n",
    "    pickle.dump(sentence, open(save_path, 'wb'))\n",
    "    print('Saved: %s' % save_path)\n",
    "\n",
    "def process(text_path):\n",
    "    fop = open(text_path, 'r', encoding='utf8')\n",
    "    raw_data = fop.read()\n",
    "    sentences = raw_data.strip().split('\\n')\n",
    "    raw_data_input = [normalize_string(data) for data in sentences]\n",
    "    raw_data_input = cutted_data(raw_data_input)\n",
    "    fop.close()\n",
    "\n",
    "    return raw_data_input"
   ]
  },
  {
   "cell_type": "code",
   "execution_count": 4,
   "metadata": {},
   "outputs": [
    {
     "name": "stdout",
     "output_type": "stream",
     "text": [
      "Preprocess Raw Text\n"
     ]
    },
    {
     "name": "stderr",
     "output_type": "stream",
     "text": [
      "  1%|          | 72/9672 [00:07<17:28,  9.16it/s]\n"
     ]
    },
    {
     "ename": "KeyboardInterrupt",
     "evalue": "",
     "output_type": "error",
     "traceback": [
      "\u001b[1;31m---------------------------------------------------------------------------\u001b[0m",
      "\u001b[1;31mKeyboardInterrupt\u001b[0m                         Traceback (most recent call last)",
      "\u001b[1;32mc:\\Users\\stone4022\\Downloads\\DeepSC-master_bart\\BERT2FC\\preprocess_en_BERT.ipynb Cell 3\u001b[0m in \u001b[0;36m<cell line: 16>\u001b[1;34m()\u001b[0m\n\u001b[0;32m     <a href='vscode-notebook-cell:/c%3A/Users/stone4022/Downloads/DeepSC-master_bart/BERT2FC/preprocess_en_BERT.ipynb#W2sZmlsZQ%3D%3D?line=15'>16</a>\u001b[0m \u001b[39mfor\u001b[39;00m fn \u001b[39min\u001b[39;00m tqdm(os\u001b[39m.\u001b[39mlistdir(args\u001b[39m.\u001b[39minput_data_dir)):\n\u001b[0;32m     <a href='vscode-notebook-cell:/c%3A/Users/stone4022/Downloads/DeepSC-master_bart/BERT2FC/preprocess_en_BERT.ipynb#W2sZmlsZQ%3D%3D?line=16'>17</a>\u001b[0m     \u001b[39mif\u001b[39;00m \u001b[39mnot\u001b[39;00m fn\u001b[39m.\u001b[39mendswith(\u001b[39m'\u001b[39m\u001b[39m.txt\u001b[39m\u001b[39m'\u001b[39m): \u001b[39mcontinue\u001b[39;00m\n\u001b[1;32m---> <a href='vscode-notebook-cell:/c%3A/Users/stone4022/Downloads/DeepSC-master_bart/BERT2FC/preprocess_en_BERT.ipynb#W2sZmlsZQ%3D%3D?line=17'>18</a>\u001b[0m     process_sentences \u001b[39m=\u001b[39m process(os\u001b[39m.\u001b[39;49mpath\u001b[39m.\u001b[39;49mjoin(args\u001b[39m.\u001b[39;49minput_data_dir, fn))\n\u001b[0;32m     <a href='vscode-notebook-cell:/c%3A/Users/stone4022/Downloads/DeepSC-master_bart/BERT2FC/preprocess_en_BERT.ipynb#W2sZmlsZQ%3D%3D?line=18'>19</a>\u001b[0m     sentences \u001b[39m+\u001b[39m\u001b[39m=\u001b[39m process_sentences\n\u001b[0;32m     <a href='vscode-notebook-cell:/c%3A/Users/stone4022/Downloads/DeepSC-master_bart/BERT2FC/preprocess_en_BERT.ipynb#W2sZmlsZQ%3D%3D?line=20'>21</a>\u001b[0m \u001b[39mprint\u001b[39m(\u001b[39m'\u001b[39m\u001b[39mNumber of sentences: \u001b[39m\u001b[39m{}\u001b[39;00m\u001b[39m'\u001b[39m\u001b[39m.\u001b[39mformat(\u001b[39mlen\u001b[39m(sentences)))\n",
      "\u001b[1;32mc:\\Users\\stone4022\\Downloads\\DeepSC-master_bart\\BERT2FC\\preprocess_en_BERT.ipynb Cell 3\u001b[0m in \u001b[0;36mprocess\u001b[1;34m(text_path)\u001b[0m\n\u001b[0;32m     <a href='vscode-notebook-cell:/c%3A/Users/stone4022/Downloads/DeepSC-master_bart/BERT2FC/preprocess_en_BERT.ipynb#W2sZmlsZQ%3D%3D?line=30'>31</a>\u001b[0m raw_data \u001b[39m=\u001b[39m fop\u001b[39m.\u001b[39mread()\n\u001b[0;32m     <a href='vscode-notebook-cell:/c%3A/Users/stone4022/Downloads/DeepSC-master_bart/BERT2FC/preprocess_en_BERT.ipynb#W2sZmlsZQ%3D%3D?line=31'>32</a>\u001b[0m sentences \u001b[39m=\u001b[39m raw_data\u001b[39m.\u001b[39mstrip()\u001b[39m.\u001b[39msplit(\u001b[39m'\u001b[39m\u001b[39m\\n\u001b[39;00m\u001b[39m'\u001b[39m)\n\u001b[1;32m---> <a href='vscode-notebook-cell:/c%3A/Users/stone4022/Downloads/DeepSC-master_bart/BERT2FC/preprocess_en_BERT.ipynb#W2sZmlsZQ%3D%3D?line=32'>33</a>\u001b[0m raw_data_input \u001b[39m=\u001b[39m [normalize_string(data) \u001b[39mfor\u001b[39;00m data \u001b[39min\u001b[39;00m sentences]\n\u001b[0;32m     <a href='vscode-notebook-cell:/c%3A/Users/stone4022/Downloads/DeepSC-master_bart/BERT2FC/preprocess_en_BERT.ipynb#W2sZmlsZQ%3D%3D?line=33'>34</a>\u001b[0m raw_data_input \u001b[39m=\u001b[39m cutted_data(raw_data_input)\n\u001b[0;32m     <a href='vscode-notebook-cell:/c%3A/Users/stone4022/Downloads/DeepSC-master_bart/BERT2FC/preprocess_en_BERT.ipynb#W2sZmlsZQ%3D%3D?line=34'>35</a>\u001b[0m fop\u001b[39m.\u001b[39mclose()\n",
      "\u001b[1;32mc:\\Users\\stone4022\\Downloads\\DeepSC-master_bart\\BERT2FC\\preprocess_en_BERT.ipynb Cell 3\u001b[0m in \u001b[0;36m<listcomp>\u001b[1;34m(.0)\u001b[0m\n\u001b[0;32m     <a href='vscode-notebook-cell:/c%3A/Users/stone4022/Downloads/DeepSC-master_bart/BERT2FC/preprocess_en_BERT.ipynb#W2sZmlsZQ%3D%3D?line=30'>31</a>\u001b[0m raw_data \u001b[39m=\u001b[39m fop\u001b[39m.\u001b[39mread()\n\u001b[0;32m     <a href='vscode-notebook-cell:/c%3A/Users/stone4022/Downloads/DeepSC-master_bart/BERT2FC/preprocess_en_BERT.ipynb#W2sZmlsZQ%3D%3D?line=31'>32</a>\u001b[0m sentences \u001b[39m=\u001b[39m raw_data\u001b[39m.\u001b[39mstrip()\u001b[39m.\u001b[39msplit(\u001b[39m'\u001b[39m\u001b[39m\\n\u001b[39;00m\u001b[39m'\u001b[39m)\n\u001b[1;32m---> <a href='vscode-notebook-cell:/c%3A/Users/stone4022/Downloads/DeepSC-master_bart/BERT2FC/preprocess_en_BERT.ipynb#W2sZmlsZQ%3D%3D?line=32'>33</a>\u001b[0m raw_data_input \u001b[39m=\u001b[39m [normalize_string(data) \u001b[39mfor\u001b[39;00m data \u001b[39min\u001b[39;00m sentences]\n\u001b[0;32m     <a href='vscode-notebook-cell:/c%3A/Users/stone4022/Downloads/DeepSC-master_bart/BERT2FC/preprocess_en_BERT.ipynb#W2sZmlsZQ%3D%3D?line=33'>34</a>\u001b[0m raw_data_input \u001b[39m=\u001b[39m cutted_data(raw_data_input)\n\u001b[0;32m     <a href='vscode-notebook-cell:/c%3A/Users/stone4022/Downloads/DeepSC-master_bart/BERT2FC/preprocess_en_BERT.ipynb#W2sZmlsZQ%3D%3D?line=34'>35</a>\u001b[0m fop\u001b[39m.\u001b[39mclose()\n",
      "\u001b[1;32mc:\\Users\\stone4022\\Downloads\\DeepSC-master_bart\\BERT2FC\\preprocess_en_BERT.ipynb Cell 3\u001b[0m in \u001b[0;36mnormalize_string\u001b[1;34m(s)\u001b[0m\n\u001b[0;32m     <a href='vscode-notebook-cell:/c%3A/Users/stone4022/Downloads/DeepSC-master_bart/BERT2FC/preprocess_en_BERT.ipynb#W2sZmlsZQ%3D%3D?line=10'>11</a>\u001b[0m s \u001b[39m=\u001b[39m re\u001b[39m.\u001b[39msub(\u001b[39mr\u001b[39m\u001b[39m'\u001b[39m\u001b[39m([!.?])\u001b[39m\u001b[39m'\u001b[39m, \u001b[39mr\u001b[39m\u001b[39m'\u001b[39m\u001b[39m \u001b[39m\u001b[39m\\\u001b[39m\u001b[39m1\u001b[39m\u001b[39m'\u001b[39m, s)\n\u001b[0;32m     <a href='vscode-notebook-cell:/c%3A/Users/stone4022/Downloads/DeepSC-master_bart/BERT2FC/preprocess_en_BERT.ipynb#W2sZmlsZQ%3D%3D?line=11'>12</a>\u001b[0m s \u001b[39m=\u001b[39m re\u001b[39m.\u001b[39msub(\u001b[39mr\u001b[39m\u001b[39m'\u001b[39m\u001b[39m[^a-zA-Z.!?]+\u001b[39m\u001b[39m'\u001b[39m, \u001b[39mr\u001b[39m\u001b[39m'\u001b[39m\u001b[39m \u001b[39m\u001b[39m'\u001b[39m, s)\n\u001b[1;32m---> <a href='vscode-notebook-cell:/c%3A/Users/stone4022/Downloads/DeepSC-master_bart/BERT2FC/preprocess_en_BERT.ipynb#W2sZmlsZQ%3D%3D?line=12'>13</a>\u001b[0m s \u001b[39m=\u001b[39m re\u001b[39m.\u001b[39;49msub(\u001b[39mr\u001b[39;49m\u001b[39m'\u001b[39;49m\u001b[39m\\\u001b[39;49m\u001b[39ms+\u001b[39;49m\u001b[39m'\u001b[39;49m, \u001b[39mr\u001b[39;49m\u001b[39m'\u001b[39;49m\u001b[39m \u001b[39;49m\u001b[39m'\u001b[39;49m, s)\n\u001b[0;32m     <a href='vscode-notebook-cell:/c%3A/Users/stone4022/Downloads/DeepSC-master_bart/BERT2FC/preprocess_en_BERT.ipynb#W2sZmlsZQ%3D%3D?line=13'>14</a>\u001b[0m \u001b[39m# change to lower letter\u001b[39;00m\n\u001b[0;32m     <a href='vscode-notebook-cell:/c%3A/Users/stone4022/Downloads/DeepSC-master_bart/BERT2FC/preprocess_en_BERT.ipynb#W2sZmlsZQ%3D%3D?line=14'>15</a>\u001b[0m s \u001b[39m=\u001b[39m s\u001b[39m.\u001b[39mlower()\n",
      "\u001b[1;31mKeyboardInterrupt\u001b[0m: "
     ]
    }
   ],
   "source": [
    "parser = argparse.ArgumentParser()\n",
    "parser.add_argument('--input-data-dir', default='europarl/en', type=str)\n",
    "parser.add_argument('--output-train-dir', default='BERT/train_data.pkl', type=str)\n",
    "parser.add_argument('--output-test-dir', default='BERT/test_data.pkl', type=str)\n",
    "\n",
    "    \n",
    "args = parser.parse_args(args=[])\n",
    "data_dir = '../data/'\n",
    "\n",
    "args.input_data_dir = data_dir + args.input_data_dir\n",
    "args.output_train_dir = data_dir + args.output_train_dir\n",
    "args.output_test_dir = data_dir + args.output_test_dir\n",
    "\n",
    "sentences = []\n",
    "print('Preprocess Raw Text')\n",
    "for fn in tqdm(os.listdir(args.input_data_dir)):\n",
    "    if not fn.endswith('.txt'): continue\n",
    "    process_sentences = process(os.path.join(args.input_data_dir, fn))\n",
    "    sentences += process_sentences\n",
    "\n",
    "print('Number of sentences: {}'.format(len(sentences)))\n",
    "\n",
    "# use BartTokenizer\n",
    "tokenizer = BertTokenizer.from_pretrained(\"bert-base-uncased\")\n",
    "\n",
    "print('Start encoding txt')\n",
    "results = []\n",
    "for seq in tqdm(sentences):\n",
    "    tokens = tokenizer(seq)['input_ids']\n",
    "    # tokens = tokenizer(seq, return_tensors=\"pt\")['input_ids']\n",
    "    results.append(tokens)\n",
    "\n",
    "print('Writing Data')\n",
    "train_data = results[: round(len(results) * 0.9)]\n",
    "test_data = results[round(len(results) * 0.9):]\n",
    "\n",
    "with open(args.output_train_dir, 'wb') as f:\n",
    "    pickle.dump(train_data, f)\n",
    "with open(args.output_test_dir, 'wb') as f:\n",
    "    pickle.dump(test_data, f)\n",
    "\n",
    "# spot check\n",
    "for i in range(10):\n",
    "    print(sentences[i])\n",
    "    print(results[i])"
   ]
  },
  {
   "cell_type": "code",
   "execution_count": null,
   "metadata": {},
   "outputs": [
    {
     "name": "stdout",
     "output_type": "stream",
     "text": [
      "{'input_ids': tensor([[101, 101,   0, 100, 102, 102]]), 'token_type_ids': tensor([[0, 0, 0, 0, 0, 0]]), 'attention_mask': tensor([[1, 1, 1, 1, 1, 1]])}\n"
     ]
    }
   ],
   "source": [
    "inputs = tokenizer(\"[CLS][PAD][UNK][SEP]\", return_tensors=\"pt\")\n",
    "print(inputs)"
   ]
  },
  {
   "cell_type": "code",
   "execution_count": null,
   "metadata": {},
   "outputs": [
    {
     "name": "stdout",
     "output_type": "stream",
     "text": [
      "119032\n",
      "65\n"
     ]
    }
   ],
   "source": [
    "print(len(results))\n",
    "max_len = 0\n",
    "for i in range(len(results)):\n",
    "    tmp = len(results[i])\n",
    "    if tmp > max_len:\n",
    "        max_len = tmp\n",
    "print(max_len)"
   ]
  }
 ],
 "metadata": {
  "kernelspec": {
   "display_name": "Python 3.8.13 ('pytorch38')",
   "language": "python",
   "name": "python3"
  },
  "language_info": {
   "codemirror_mode": {
    "name": "ipython",
    "version": 3
   },
   "file_extension": ".py",
   "mimetype": "text/x-python",
   "name": "python",
   "nbconvert_exporter": "python",
   "pygments_lexer": "ipython3",
   "version": "3.8.13"
  },
  "orig_nbformat": 4,
  "vscode": {
   "interpreter": {
    "hash": "ec35eb9b335c7e254c8f905d982b9b8442353d7ca0606de2b8530d7f26352d53"
   }
  }
 },
 "nbformat": 4,
 "nbformat_minor": 2
}
