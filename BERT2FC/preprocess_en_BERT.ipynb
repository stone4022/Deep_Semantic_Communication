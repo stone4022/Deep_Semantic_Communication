{
 "cells": [
  {
   "cell_type": "code",
   "execution_count": 1,
   "metadata": {},
   "outputs": [],
   "source": [
    "import unicodedata\n",
    "import re\n",
    "from w3lib.html import remove_tags\n",
    "import pickle\n",
    "import argparse\n",
    "import os\n",
    "import json\n",
    "import csv\n",
    "from tqdm import tqdm\n",
    "from transformers import BertTokenizer"
   ]
  },
  {
   "cell_type": "code",
   "execution_count": 2,
   "metadata": {},
   "outputs": [],
   "source": [
    "def unicode_to_ascii(s):\n",
    "    return ''.join(c for c in unicodedata.normalize('NFD', s)\n",
    "                   if unicodedata.category(c) != 'Mn')\n",
    "\n",
    "def normalize_string(s):\n",
    "    # normalize unicode characters\n",
    "    s = unicode_to_ascii(s)\n",
    "    # remove the XML-tags\n",
    "    s = remove_tags(s)\n",
    "    # add white space before !.?\n",
    "    s = re.sub(r'([!.?])', r' \\1', s)\n",
    "    s = re.sub(r'[^a-zA-Z.!?]+', r' ', s)\n",
    "    s = re.sub(r'\\s+', r' ', s)\n",
    "    # change to lower letter\n",
    "    s = s.lower()\n",
    "    return s\n",
    "\n",
    "def cutted_data(cleaned, MIN_LENGTH=4, MAX_LENGTH=30):\n",
    "    ss = []\n",
    "    for x in cleaned:\n",
    "        if 30>=len(x.split(' '))>=3 :\n",
    "            ss.append(x)\n",
    "    return ss\n",
    "\n",
    "def save_clean_sentences(sentence, save_path):\n",
    "    pickle.dump(sentence, open(save_path, 'wb'))\n",
    "    print('Saved: %s' % save_path)\n",
    "\n",
    "def process(text_path):\n",
    "    fop = open(text_path, 'r', encoding='utf8')\n",
    "    raw_data = fop.read()\n",
    "    sentences = raw_data.strip().split('\\n')\n",
    "    raw_data_input = [normalize_string(data) for data in sentences]\n",
    "    raw_data_input = cutted_data(raw_data_input)\n",
    "    fop.close()\n",
    "\n",
    "    return raw_data_input"
   ]
  },
  {
   "cell_type": "code",
   "execution_count": 3,
   "metadata": {},
   "outputs": [
    {
     "name": "stdout",
     "output_type": "stream",
     "text": [
      "Preprocess Raw Text\n"
     ]
    },
    {
     "name": "stderr",
     "output_type": "stream",
     "text": [
      "100%|██████████| 9672/9672 [02:19<00:00, 69.30it/s] \n"
     ]
    },
    {
     "name": "stdout",
     "output_type": "stream",
     "text": [
      "Number of sentences: 119032\n",
      "Start encoding txt\n"
     ]
    },
    {
     "name": "stderr",
     "output_type": "stream",
     "text": [
      "100%|██████████| 119032/119032 [00:40<00:00, 2937.72it/s]\n"
     ]
    },
    {
     "name": "stdout",
     "output_type": "stream",
     "text": [
      "Writing Data\n",
      "resumption of the session\n",
      "[101, 24501, 24237, 3508, 1997, 1996, 5219, 102]\n",
      " the house rose and observed a minute s silence \n",
      "[101, 1996, 2160, 3123, 1998, 5159, 1037, 3371, 1055, 4223, 102]\n",
      "that is precisely the time when you may if you wish raise this question i .e . on thursday prior to the start of the presentation of the report .\n",
      "[101, 2008, 2003, 10785, 1996, 2051, 2043, 2017, 2089, 2065, 2017, 4299, 5333, 2023, 3160, 1045, 1012, 1041, 1012, 2006, 9432, 3188, 2000, 1996, 2707, 1997, 1996, 8312, 1997, 1996, 3189, 1012, 102]\n",
      "this is all in accordance with the principles that we have always upheld .\n",
      "[101, 2023, 2003, 2035, 1999, 10388, 2007, 1996, 6481, 2008, 2057, 2031, 2467, 16813, 1012, 102]\n",
      "thank you mr segni i shall do so gladly . indeed it is quite in keeping with the positions this house has always adopted .\n",
      "[101, 4067, 2017, 2720, 7367, 29076, 1045, 4618, 2079, 2061, 24986, 1012, 5262, 2009, 2003, 3243, 1999, 4363, 2007, 1996, 4460, 2023, 2160, 2038, 2467, 4233, 1012, 102]\n",
      "yes mrs schroedter i shall be pleased to look into the facts of this case when i have received your letter .\n",
      "[101, 2748, 3680, 8040, 8093, 29099, 3334, 1045, 4618, 2022, 7537, 2000, 2298, 2046, 1996, 8866, 1997, 2023, 2553, 2043, 1045, 2031, 2363, 2115, 3661, 1012, 102]\n",
      "in any event this question is not presently included among the requests for topical and urgent debate on thursday .\n",
      "[101, 1999, 2151, 2724, 2023, 3160, 2003, 2025, 12825, 2443, 2426, 1996, 11186, 2005, 25665, 1998, 13661, 5981, 2006, 9432, 1012, 102]\n",
      "relating to wednesday \n",
      "[101, 8800, 2000, 9317, 102]\n",
      " applause from the pse group \n",
      "[101, 20737, 2013, 1996, 8827, 2063, 2177, 102]\n",
      " applause from the ppe de group \n",
      "[101, 20737, 2013, 1996, 4903, 2063, 2139, 2177, 102]\n"
     ]
    }
   ],
   "source": [
    "parser = argparse.ArgumentParser()\n",
    "parser.add_argument('--input-data-dir', default='europarl/en', type=str)\n",
    "parser.add_argument('--output-train-dir', default='BERT/train_data.pkl', type=str)\n",
    "parser.add_argument('--output-test-dir', default='BERT/test_data.pkl', type=str)\n",
    "\n",
    "    \n",
    "args = parser.parse_args(args=[])\n",
    "data_dir = '../data/'\n",
    "\n",
    "args.input_data_dir = data_dir + args.input_data_dir\n",
    "args.output_train_dir = data_dir + args.output_train_dir\n",
    "args.output_test_dir = data_dir + args.output_test_dir\n",
    "\n",
    "sentences = []\n",
    "print('Preprocess Raw Text')\n",
    "for fn in tqdm(os.listdir(args.input_data_dir)):\n",
    "    if not fn.endswith('.txt'): continue\n",
    "    process_sentences = process(os.path.join(args.input_data_dir, fn))\n",
    "    sentences += process_sentences\n",
    "\n",
    "print('Number of sentences: {}'.format(len(sentences)))\n",
    "\n",
    "# use BartTokenizer\n",
    "tokenizer = BertTokenizer.from_pretrained(\"bert-base-uncased\")\n",
    "\n",
    "print('Start encoding txt')\n",
    "results = []\n",
    "for seq in tqdm(sentences):\n",
    "    tokens = tokenizer(seq)['input_ids']\n",
    "    # tokens = tokenizer(seq, return_tensors=\"pt\")['input_ids']\n",
    "    results.append(tokens)\n",
    "\n",
    "print('Writing Data')\n",
    "train_data = results[: round(len(results) * 0.9)]\n",
    "test_data = results[round(len(results) * 0.9):]\n",
    "\n",
    "with open(args.output_train_dir, 'wb') as f:\n",
    "    pickle.dump(train_data, f)\n",
    "with open(args.output_test_dir, 'wb') as f:\n",
    "    pickle.dump(test_data, f)\n",
    "\n",
    "# spot check\n",
    "for i in range(10):\n",
    "    print(sentences[i])\n",
    "    print(results[i])"
   ]
  },
  {
   "cell_type": "code",
   "execution_count": 4,
   "metadata": {},
   "outputs": [
    {
     "name": "stdout",
     "output_type": "stream",
     "text": [
      "{'input_ids': tensor([[101, 101,   0, 100, 102, 102]]), 'token_type_ids': tensor([[0, 0, 0, 0, 0, 0]]), 'attention_mask': tensor([[1, 1, 1, 1, 1, 1]])}\n"
     ]
    }
   ],
   "source": [
    "inputs = tokenizer(\"[CLS][PAD][UNK][SEP]\", return_tensors=\"pt\")\n",
    "print(inputs)"
   ]
  },
  {
   "cell_type": "code",
   "execution_count": 5,
   "metadata": {},
   "outputs": [
    {
     "name": "stdout",
     "output_type": "stream",
     "text": [
      "119032\n",
      "65\n"
     ]
    }
   ],
   "source": [
    "print(len(results))\n",
    "max_len = 0\n",
    "for i in range(len(results)):\n",
    "    tmp = len(results[i])\n",
    "    if tmp > max_len:\n",
    "        max_len = tmp\n",
    "print(max_len)"
   ]
  }
 ],
 "metadata": {
  "kernelspec": {
   "display_name": "Python 3.8.13 ('pytorch38')",
   "language": "python",
   "name": "python3"
  },
  "language_info": {
   "codemirror_mode": {
    "name": "ipython",
    "version": 3
   },
   "file_extension": ".py",
   "mimetype": "text/x-python",
   "name": "python",
   "nbconvert_exporter": "python",
   "pygments_lexer": "ipython3",
   "version": "3.8.13"
  },
  "orig_nbformat": 4,
  "vscode": {
   "interpreter": {
    "hash": "ec35eb9b335c7e254c8f905d982b9b8442353d7ca0606de2b8530d7f26352d53"
   }
  }
 },
 "nbformat": 4,
 "nbformat_minor": 2
}
