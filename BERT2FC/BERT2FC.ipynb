{
 "cells": [
  {
   "cell_type": "code",
   "execution_count": 1,
   "metadata": {},
   "outputs": [
    {
     "name": "stderr",
     "output_type": "stream",
     "text": [
      "Some weights of the model checkpoint at bert-base-uncased were not used when initializing BertModel: ['cls.seq_relationship.weight', 'cls.predictions.transform.LayerNorm.bias', 'cls.predictions.decoder.weight', 'cls.predictions.bias', 'cls.predictions.transform.LayerNorm.weight', 'cls.seq_relationship.bias', 'cls.predictions.transform.dense.bias', 'cls.predictions.transform.dense.weight']\n",
      "- This IS expected if you are initializing BertModel from the checkpoint of a model trained on another task or with another architecture (e.g. initializing a BertForSequenceClassification model from a BertForPreTraining model).\n",
      "- This IS NOT expected if you are initializing BertModel from the checkpoint of a model that you expect to be exactly identical (initializing a BertForSequenceClassification model from a BertForSequenceClassification model).\n"
     ]
    },
    {
     "name": "stdout",
     "output_type": "stream",
     "text": [
      "../checkpoints/BERT2FC/lr=1e-5\\checkpoint_357.pth\n",
      "model load!\n"
     ]
    },
    {
     "name": "stderr",
     "output_type": "stream",
     "text": [
      "Epoch: 358;  Type: Train; Loss: 0.24850: 100%|██████████| 3348/3348 [07:44<00:00,  7.20it/s]\n",
      "Epoch: 358; Type: Vaild; Loss: 0.18393: 100%|██████████| 372/372 [00:14<00:00, 26.37it/s]\n"
     ]
    },
    {
     "name": "stdout",
     "output_type": "stream",
     "text": [
      "Validation loss decreased (inf --> 0.303180).  Saving model ...\n"
     ]
    },
    {
     "name": "stderr",
     "output_type": "stream",
     "text": [
      "Epoch: 359;  Type: Train; Loss: 0.33048: 100%|██████████| 3348/3348 [07:43<00:00,  7.23it/s]\n",
      "Epoch: 359; Type: Vaild; Loss: 0.18310: 100%|██████████| 372/372 [00:13<00:00, 26.87it/s]\n"
     ]
    },
    {
     "name": "stdout",
     "output_type": "stream",
     "text": [
      "Validation loss decreased (0.303180 --> 0.302451).  Saving model ...\n"
     ]
    },
    {
     "name": "stderr",
     "output_type": "stream",
     "text": [
      "Epoch: 360;  Type: Train; Loss: 0.49684: 100%|██████████| 3348/3348 [07:15<00:00,  7.69it/s]\n",
      "Epoch: 360; Type: Vaild; Loss: 0.18268: 100%|██████████| 372/372 [00:14<00:00, 25.45it/s]\n"
     ]
    },
    {
     "name": "stdout",
     "output_type": "stream",
     "text": [
      "Validation loss decreased (0.302451 --> 0.301733).  Saving model ...\n"
     ]
    },
    {
     "name": "stderr",
     "output_type": "stream",
     "text": [
      "Epoch: 361;  Type: Train; Loss: 0.27626: 100%|██████████| 3348/3348 [08:09<00:00,  6.84it/s]\n",
      "Epoch: 361; Type: Vaild; Loss: 0.18234: 100%|██████████| 372/372 [00:14<00:00, 25.46it/s]\n"
     ]
    },
    {
     "name": "stdout",
     "output_type": "stream",
     "text": [
      "Validation loss decreased (0.301733 --> 0.301227).  Saving model ...\n"
     ]
    },
    {
     "name": "stderr",
     "output_type": "stream",
     "text": [
      "Epoch: 362;  Type: Train; Loss: 0.47747: 100%|██████████| 3348/3348 [08:09<00:00,  6.84it/s]\n",
      "Epoch: 362; Type: Vaild; Loss: 0.18186: 100%|██████████| 372/372 [00:14<00:00, 25.43it/s]\n"
     ]
    },
    {
     "name": "stdout",
     "output_type": "stream",
     "text": [
      "Validation loss decreased (0.301227 --> 0.300918).  Saving model ...\n"
     ]
    },
    {
     "name": "stderr",
     "output_type": "stream",
     "text": [
      "Epoch: 363;  Type: Train; Loss: 0.13869: 100%|██████████| 3348/3348 [07:49<00:00,  7.13it/s]\n",
      "Epoch: 363; Type: Vaild; Loss: 0.18208: 100%|██████████| 372/372 [00:13<00:00, 27.50it/s]\n"
     ]
    },
    {
     "name": "stdout",
     "output_type": "stream",
     "text": [
      "Validation loss decreased (0.300918 --> 0.300619).  Saving model ...\n"
     ]
    },
    {
     "name": "stderr",
     "output_type": "stream",
     "text": [
      "Epoch: 364;  Type: Train; Loss: 0.34624: 100%|██████████| 3348/3348 [07:30<00:00,  7.43it/s]\n",
      "Epoch: 364; Type: Vaild; Loss: 0.18293: 100%|██████████| 372/372 [00:13<00:00, 27.46it/s]\n"
     ]
    },
    {
     "name": "stdout",
     "output_type": "stream",
     "text": [
      "Validation loss decreased (0.300619 --> 0.300496).  Saving model ...\n"
     ]
    },
    {
     "name": "stderr",
     "output_type": "stream",
     "text": [
      "Epoch: 365;  Type: Train; Loss: 0.25063: 100%|██████████| 3348/3348 [07:30<00:00,  7.44it/s]\n",
      "Epoch: 365; Type: Vaild; Loss: 0.18205: 100%|██████████| 372/372 [00:13<00:00, 27.53it/s]\n"
     ]
    },
    {
     "name": "stdout",
     "output_type": "stream",
     "text": [
      "Validation loss decreased (0.300496 --> 0.300245).  Saving model ...\n"
     ]
    },
    {
     "name": "stderr",
     "output_type": "stream",
     "text": [
      "Epoch: 366;  Type: Train; Loss: 0.25009: 100%|██████████| 3348/3348 [07:30<00:00,  7.43it/s]\n",
      "Epoch: 366; Type: Vaild; Loss: 0.18249: 100%|██████████| 372/372 [00:13<00:00, 27.48it/s]\n"
     ]
    },
    {
     "name": "stdout",
     "output_type": "stream",
     "text": [
      "Validation loss decreased (0.300245 --> 0.300104).  Saving model ...\n"
     ]
    },
    {
     "name": "stderr",
     "output_type": "stream",
     "text": [
      "Epoch: 367;  Type: Train; Loss: 0.36003: 100%|██████████| 3348/3348 [07:18<00:00,  7.64it/s]\n",
      "Epoch: 367; Type: Vaild; Loss: 0.18241: 100%|██████████| 372/372 [00:12<00:00, 29.85it/s]\n"
     ]
    },
    {
     "name": "stdout",
     "output_type": "stream",
     "text": [
      "Validation loss decreased (0.300104 --> 0.299870).  Saving model ...\n"
     ]
    },
    {
     "name": "stderr",
     "output_type": "stream",
     "text": [
      "Epoch: 368;  Type: Train; Loss: 0.45853: 100%|██████████| 3348/3348 [07:16<00:00,  7.68it/s]\n",
      "Epoch: 368; Type: Vaild; Loss: 0.18239: 100%|██████████| 372/372 [00:12<00:00, 29.84it/s]\n"
     ]
    },
    {
     "name": "stdout",
     "output_type": "stream",
     "text": [
      "Validation loss decreased (0.299870 --> 0.299753).  Saving model ...\n"
     ]
    },
    {
     "name": "stderr",
     "output_type": "stream",
     "text": [
      "Epoch: 369;  Type: Train; Loss: 0.32260: 100%|██████████| 3348/3348 [07:15<00:00,  7.68it/s]\n",
      "Epoch: 369; Type: Vaild; Loss: 0.18231: 100%|██████████| 372/372 [00:12<00:00, 29.84it/s]\n"
     ]
    },
    {
     "name": "stdout",
     "output_type": "stream",
     "text": [
      "Validation loss decreased (0.299753 --> 0.299584).  Saving model ...\n"
     ]
    },
    {
     "name": "stderr",
     "output_type": "stream",
     "text": [
      "Epoch: 370;  Type: Train; Loss: 0.30370: 100%|██████████| 3348/3348 [07:17<00:00,  7.65it/s]\n",
      "Epoch: 370; Type: Vaild; Loss: 0.18262: 100%|██████████| 372/372 [00:12<00:00, 29.85it/s]\n"
     ]
    },
    {
     "name": "stdout",
     "output_type": "stream",
     "text": [
      "Validation loss decreased (0.299584 --> 0.299481).  Saving model ...\n"
     ]
    },
    {
     "name": "stderr",
     "output_type": "stream",
     "text": [
      "Epoch: 371;  Type: Train; Loss: 0.19087: 100%|██████████| 3348/3348 [07:15<00:00,  7.68it/s]\n",
      "Epoch: 371; Type: Vaild; Loss: 0.18277: 100%|██████████| 372/372 [00:12<00:00, 29.86it/s]\n"
     ]
    },
    {
     "name": "stdout",
     "output_type": "stream",
     "text": [
      "Validation loss decreased (0.299481 --> 0.299423).  Saving model ...\n"
     ]
    },
    {
     "name": "stderr",
     "output_type": "stream",
     "text": [
      "Epoch: 372;  Type: Train; Loss: 0.23790: 100%|██████████| 3348/3348 [07:15<00:00,  7.69it/s]\n",
      "Epoch: 372; Type: Vaild; Loss: 0.18292: 100%|██████████| 372/372 [00:12<00:00, 29.86it/s]\n"
     ]
    },
    {
     "name": "stdout",
     "output_type": "stream",
     "text": [
      "Validation loss decreased (0.299423 --> 0.299325).  Saving model ...\n"
     ]
    },
    {
     "name": "stderr",
     "output_type": "stream",
     "text": [
      "Epoch: 373;  Type: Train; Loss: 0.45039: 100%|██████████| 3348/3348 [07:15<00:00,  7.69it/s]\n",
      "Epoch: 373; Type: Vaild; Loss: 0.18352: 100%|██████████| 372/372 [00:12<00:00, 29.86it/s]\n"
     ]
    },
    {
     "name": "stdout",
     "output_type": "stream",
     "text": [
      "EarlyStopping counter: 1 out of 10 , Validation loss is 0.299368\n"
     ]
    },
    {
     "name": "stderr",
     "output_type": "stream",
     "text": [
      "Epoch: 374;  Type: Train; Loss: 0.37480: 100%|██████████| 3348/3348 [07:15<00:00,  7.69it/s]\n",
      "Epoch: 374; Type: Vaild; Loss: 0.18300: 100%|██████████| 372/372 [00:12<00:00, 29.86it/s]\n"
     ]
    },
    {
     "name": "stdout",
     "output_type": "stream",
     "text": [
      "Validation loss decreased (0.299325 --> 0.299041).  Saving model ...\n"
     ]
    },
    {
     "name": "stderr",
     "output_type": "stream",
     "text": [
      "Epoch: 375;  Type: Train; Loss: 0.28659: 100%|██████████| 3348/3348 [07:14<00:00,  7.70it/s]\n",
      "Epoch: 375; Type: Vaild; Loss: 0.18307: 100%|██████████| 372/372 [00:12<00:00, 29.86it/s]\n"
     ]
    },
    {
     "name": "stdout",
     "output_type": "stream",
     "text": [
      "Validation loss decreased (0.299041 --> 0.298849).  Saving model ...\n"
     ]
    },
    {
     "name": "stderr",
     "output_type": "stream",
     "text": [
      "Epoch: 376;  Type: Train; Loss: 0.32306: 100%|██████████| 3348/3348 [07:43<00:00,  7.22it/s]\n",
      "Epoch: 376; Type: Vaild; Loss: 0.18323: 100%|██████████| 372/372 [00:15<00:00, 24.44it/s]\n"
     ]
    },
    {
     "name": "stdout",
     "output_type": "stream",
     "text": [
      "Validation loss decreased (0.298849 --> 0.298633).  Saving model ...\n"
     ]
    },
    {
     "name": "stderr",
     "output_type": "stream",
     "text": [
      "Epoch: 377;  Type: Train; Loss: 0.22681: 100%|██████████| 3348/3348 [08:25<00:00,  6.63it/s]\n",
      "Epoch: 377; Type: Vaild; Loss: 0.18321: 100%|██████████| 372/372 [00:15<00:00, 24.14it/s]\n"
     ]
    },
    {
     "name": "stdout",
     "output_type": "stream",
     "text": [
      "Validation loss decreased (0.298633 --> 0.298203).  Saving model ...\n"
     ]
    },
    {
     "name": "stderr",
     "output_type": "stream",
     "text": [
      "Epoch: 378;  Type: Train; Loss: 0.31877: 100%|██████████| 3348/3348 [07:42<00:00,  7.24it/s]\n",
      "Epoch: 378; Type: Vaild; Loss: 0.18328: 100%|██████████| 372/372 [00:13<00:00, 26.68it/s]\n"
     ]
    },
    {
     "name": "stdout",
     "output_type": "stream",
     "text": [
      "Validation loss decreased (0.298203 --> 0.297624).  Saving model ...\n"
     ]
    },
    {
     "name": "stderr",
     "output_type": "stream",
     "text": [
      "Epoch: 379;  Type: Train; Loss: 0.36912: 100%|██████████| 3348/3348 [07:38<00:00,  7.30it/s]\n",
      "Epoch: 379; Type: Vaild; Loss: 0.18317: 100%|██████████| 372/372 [00:13<00:00, 26.91it/s]\n"
     ]
    },
    {
     "name": "stdout",
     "output_type": "stream",
     "text": [
      "Validation loss decreased (0.297624 --> 0.297085).  Saving model ...\n"
     ]
    },
    {
     "name": "stderr",
     "output_type": "stream",
     "text": [
      "Epoch: 380;  Type: Train; Loss: 0.62795: 100%|██████████| 3348/3348 [07:38<00:00,  7.30it/s]\n",
      "Epoch: 380; Type: Vaild; Loss: 0.18325: 100%|██████████| 372/372 [00:13<00:00, 27.24it/s]\n"
     ]
    },
    {
     "name": "stdout",
     "output_type": "stream",
     "text": [
      "Validation loss decreased (0.297085 --> 0.296567).  Saving model ...\n"
     ]
    },
    {
     "name": "stderr",
     "output_type": "stream",
     "text": [
      "Epoch: 381;  Type: Train; Loss: 0.20868: 100%|██████████| 3348/3348 [07:30<00:00,  7.43it/s]\n",
      "Epoch: 381; Type: Vaild; Loss: 0.18331: 100%|██████████| 372/372 [00:12<00:00, 29.67it/s]\n"
     ]
    },
    {
     "name": "stdout",
     "output_type": "stream",
     "text": [
      "Validation loss decreased (0.296567 --> 0.296032).  Saving model ...\n"
     ]
    },
    {
     "name": "stderr",
     "output_type": "stream",
     "text": [
      "Epoch: 382;  Type: Train; Loss: 0.34707: 100%|██████████| 3348/3348 [07:17<00:00,  7.66it/s]\n",
      "Epoch: 382; Type: Vaild; Loss: 0.18312: 100%|██████████| 372/372 [00:12<00:00, 29.66it/s]\n"
     ]
    },
    {
     "name": "stdout",
     "output_type": "stream",
     "text": [
      "Validation loss decreased (0.296032 --> 0.295580).  Saving model ...\n"
     ]
    },
    {
     "name": "stderr",
     "output_type": "stream",
     "text": [
      "Epoch: 383;  Type: Train; Loss: 0.22014: 100%|██████████| 3348/3348 [07:17<00:00,  7.66it/s]\n",
      "Epoch: 383; Type: Vaild; Loss: 0.18332: 100%|██████████| 372/372 [00:12<00:00, 29.68it/s]\n"
     ]
    },
    {
     "name": "stdout",
     "output_type": "stream",
     "text": [
      "Validation loss decreased (0.295580 --> 0.295173).  Saving model ...\n"
     ]
    },
    {
     "name": "stderr",
     "output_type": "stream",
     "text": [
      "Epoch: 384;  Type: Train; Loss: 0.39826: 100%|██████████| 3348/3348 [07:17<00:00,  7.65it/s]\n",
      "Epoch: 384; Type: Vaild; Loss: 0.18271: 100%|██████████| 372/372 [00:14<00:00, 25.65it/s]\n"
     ]
    },
    {
     "name": "stdout",
     "output_type": "stream",
     "text": [
      "Validation loss decreased (0.295173 --> 0.294656).  Saving model ...\n"
     ]
    },
    {
     "name": "stderr",
     "output_type": "stream",
     "text": [
      "Epoch: 385;  Type: Train; Loss: 0.37620: 100%|██████████| 3348/3348 [08:05<00:00,  6.89it/s]\n",
      "Epoch: 385; Type: Vaild; Loss: 0.18244: 100%|██████████| 372/372 [00:14<00:00, 26.15it/s]\n"
     ]
    },
    {
     "name": "stdout",
     "output_type": "stream",
     "text": [
      "Validation loss decreased (0.294656 --> 0.294070).  Saving model ...\n"
     ]
    },
    {
     "name": "stderr",
     "output_type": "stream",
     "text": [
      "Epoch: 386;  Type: Train; Loss: 0.24824: 100%|██████████| 3348/3348 [07:57<00:00,  7.00it/s]\n",
      "Epoch: 386; Type: Vaild; Loss: 0.18234: 100%|██████████| 372/372 [00:14<00:00, 26.30it/s]\n"
     ]
    },
    {
     "name": "stdout",
     "output_type": "stream",
     "text": [
      "Validation loss decreased (0.294070 --> 0.293547).  Saving model ...\n"
     ]
    },
    {
     "name": "stderr",
     "output_type": "stream",
     "text": [
      "Epoch: 387;  Type: Train; Loss: 0.34518: 100%|██████████| 3348/3348 [07:41<00:00,  7.25it/s]\n",
      "Epoch: 387; Type: Vaild; Loss: 0.18211: 100%|██████████| 372/372 [00:13<00:00, 26.99it/s]\n"
     ]
    },
    {
     "name": "stdout",
     "output_type": "stream",
     "text": [
      "Validation loss decreased (0.293547 --> 0.293045).  Saving model ...\n"
     ]
    },
    {
     "name": "stderr",
     "output_type": "stream",
     "text": [
      "Epoch: 388;  Type: Train; Loss: 0.38493: 100%|██████████| 3348/3348 [07:29<00:00,  7.45it/s]\n",
      "Epoch: 388; Type: Vaild; Loss: 0.18189: 100%|██████████| 372/372 [00:13<00:00, 27.52it/s]\n"
     ]
    },
    {
     "name": "stdout",
     "output_type": "stream",
     "text": [
      "Validation loss decreased (0.293045 --> 0.292609).  Saving model ...\n"
     ]
    },
    {
     "name": "stderr",
     "output_type": "stream",
     "text": [
      "Epoch: 389;  Type: Train; Loss: 0.31062: 100%|██████████| 3348/3348 [07:30<00:00,  7.43it/s]\n",
      "Epoch: 389; Type: Vaild; Loss: 0.18190: 100%|██████████| 372/372 [00:13<00:00, 27.51it/s]\n"
     ]
    },
    {
     "name": "stdout",
     "output_type": "stream",
     "text": [
      "Validation loss decreased (0.292609 --> 0.292120).  Saving model ...\n"
     ]
    },
    {
     "name": "stderr",
     "output_type": "stream",
     "text": [
      "Epoch: 390;  Type: Train; Loss: 0.21171: 100%|██████████| 3348/3348 [07:30<00:00,  7.44it/s]\n",
      "Epoch: 390; Type: Vaild; Loss: 0.18187: 100%|██████████| 372/372 [00:13<00:00, 27.54it/s]\n"
     ]
    },
    {
     "name": "stdout",
     "output_type": "stream",
     "text": [
      "Validation loss decreased (0.292120 --> 0.291694).  Saving model ...\n"
     ]
    },
    {
     "name": "stderr",
     "output_type": "stream",
     "text": [
      "Epoch: 391;  Type: Train; Loss: 0.21179: 100%|██████████| 3348/3348 [07:18<00:00,  7.64it/s]\n",
      "Epoch: 391; Type: Vaild; Loss: 0.18207: 100%|██████████| 372/372 [00:12<00:00, 29.90it/s]\n"
     ]
    },
    {
     "name": "stdout",
     "output_type": "stream",
     "text": [
      "Validation loss decreased (0.291694 --> 0.291293).  Saving model ...\n"
     ]
    },
    {
     "name": "stderr",
     "output_type": "stream",
     "text": [
      "Epoch: 392;  Type: Train; Loss: 0.19630: 100%|██████████| 3348/3348 [07:14<00:00,  7.70it/s]\n",
      "Epoch: 392; Type: Vaild; Loss: 0.18178: 100%|██████████| 372/372 [00:12<00:00, 29.93it/s]\n"
     ]
    },
    {
     "name": "stdout",
     "output_type": "stream",
     "text": [
      "Validation loss decreased (0.291293 --> 0.290947).  Saving model ...\n"
     ]
    },
    {
     "name": "stderr",
     "output_type": "stream",
     "text": [
      "Epoch: 393;  Type: Train; Loss: 0.31551: 100%|██████████| 3348/3348 [07:14<00:00,  7.70it/s]\n",
      "Epoch: 393; Type: Vaild; Loss: 0.18124: 100%|██████████| 372/372 [00:12<00:00, 29.93it/s]\n"
     ]
    },
    {
     "name": "stdout",
     "output_type": "stream",
     "text": [
      "Validation loss decreased (0.290947 --> 0.290276).  Saving model ...\n"
     ]
    },
    {
     "name": "stderr",
     "output_type": "stream",
     "text": [
      "Epoch: 394;  Type: Train; Loss: 0.32887: 100%|██████████| 3348/3348 [07:14<00:00,  7.70it/s]\n",
      "Epoch: 394; Type: Vaild; Loss: 0.18123: 100%|██████████| 372/372 [00:12<00:00, 29.93it/s]\n"
     ]
    },
    {
     "name": "stdout",
     "output_type": "stream",
     "text": [
      "Validation loss decreased (0.290276 --> 0.289876).  Saving model ...\n"
     ]
    },
    {
     "name": "stderr",
     "output_type": "stream",
     "text": [
      "Epoch: 395;  Type: Train; Loss: 0.32414: 100%|██████████| 3348/3348 [07:14<00:00,  7.70it/s]\n",
      "Epoch: 395; Type: Vaild; Loss: 0.18066: 100%|██████████| 372/372 [00:12<00:00, 29.93it/s]\n"
     ]
    },
    {
     "name": "stdout",
     "output_type": "stream",
     "text": [
      "Validation loss decreased (0.289876 --> 0.289368).  Saving model ...\n"
     ]
    },
    {
     "name": "stderr",
     "output_type": "stream",
     "text": [
      "Epoch: 396;  Type: Train; Loss: 0.25950: 100%|██████████| 3348/3348 [07:13<00:00,  7.72it/s]\n",
      "Epoch: 396; Type: Vaild; Loss: 0.18069: 100%|██████████| 372/372 [00:12<00:00, 30.60it/s]\n"
     ]
    },
    {
     "name": "stdout",
     "output_type": "stream",
     "text": [
      "Validation loss decreased (0.289368 --> 0.289156).  Saving model ...\n"
     ]
    },
    {
     "name": "stderr",
     "output_type": "stream",
     "text": [
      "Epoch: 397;  Type: Train; Loss: 0.34653: 100%|██████████| 3348/3348 [07:08<00:00,  7.81it/s]\n",
      "Epoch: 397; Type: Vaild; Loss: 0.18034: 100%|██████████| 372/372 [00:12<00:00, 30.58it/s]\n"
     ]
    },
    {
     "name": "stdout",
     "output_type": "stream",
     "text": [
      "Validation loss decreased (0.289156 --> 0.289039).  Saving model ...\n"
     ]
    },
    {
     "name": "stderr",
     "output_type": "stream",
     "text": [
      "Epoch: 398;  Type: Train; Loss: 0.50549: 100%|██████████| 3348/3348 [07:09<00:00,  7.80it/s]\n",
      "Epoch: 398; Type: Vaild; Loss: 0.18098: 100%|██████████| 372/372 [00:12<00:00, 30.57it/s]\n"
     ]
    },
    {
     "name": "stdout",
     "output_type": "stream",
     "text": [
      "Validation loss decreased (0.289039 --> 0.289024).  Saving model ...\n"
     ]
    },
    {
     "name": "stderr",
     "output_type": "stream",
     "text": [
      "Epoch: 399;  Type: Train; Loss: 0.24787: 100%|██████████| 3348/3348 [07:09<00:00,  7.80it/s]\n",
      "Epoch: 399; Type: Vaild; Loss: 0.18055: 100%|██████████| 372/372 [00:12<00:00, 30.53it/s]\n"
     ]
    },
    {
     "name": "stdout",
     "output_type": "stream",
     "text": [
      "Validation loss decreased (0.289024 --> 0.288857).  Saving model ...\n"
     ]
    },
    {
     "name": "stderr",
     "output_type": "stream",
     "text": [
      "Epoch: 400;  Type: Train; Loss: 0.41663: 100%|██████████| 3348/3348 [07:09<00:00,  7.79it/s]\n",
      "Epoch: 400; Type: Vaild; Loss: 0.18065: 100%|██████████| 372/372 [00:12<00:00, 30.47it/s]\n"
     ]
    },
    {
     "name": "stdout",
     "output_type": "stream",
     "text": [
      "Validation loss decreased (0.288857 --> 0.288693).  Saving model ...\n"
     ]
    },
    {
     "name": "stderr",
     "output_type": "stream",
     "text": [
      "Epoch: 401;  Type: Train; Loss: 0.37971: 100%|██████████| 3348/3348 [07:09<00:00,  7.79it/s]\n",
      "Epoch: 401; Type: Vaild; Loss: 0.18067: 100%|██████████| 372/372 [00:12<00:00, 30.72it/s]\n"
     ]
    },
    {
     "name": "stdout",
     "output_type": "stream",
     "text": [
      "Validation loss decreased (0.288693 --> 0.288672).  Saving model ...\n"
     ]
    },
    {
     "name": "stderr",
     "output_type": "stream",
     "text": [
      "Epoch: 402;  Type: Train; Loss: 0.30024: 100%|██████████| 3348/3348 [07:06<00:00,  7.84it/s]\n",
      "Epoch: 402; Type: Vaild; Loss: 0.18133: 100%|██████████| 372/372 [00:12<00:00, 30.67it/s]\n"
     ]
    },
    {
     "name": "stdout",
     "output_type": "stream",
     "text": [
      "EarlyStopping counter: 1 out of 10 , Validation loss is 0.288802\n"
     ]
    },
    {
     "name": "stderr",
     "output_type": "stream",
     "text": [
      "Epoch: 403;  Type: Train; Loss: 0.31854: 100%|██████████| 3348/3348 [07:06<00:00,  7.84it/s]\n",
      "Epoch: 403; Type: Vaild; Loss: 0.18091: 100%|██████████| 372/372 [00:12<00:00, 30.68it/s]\n"
     ]
    },
    {
     "name": "stdout",
     "output_type": "stream",
     "text": [
      "Validation loss decreased (0.288672 --> 0.288622).  Saving model ...\n"
     ]
    },
    {
     "name": "stderr",
     "output_type": "stream",
     "text": [
      "Epoch: 404;  Type: Train; Loss: 0.31959: 100%|██████████| 3348/3348 [07:06<00:00,  7.85it/s]\n",
      "Epoch: 404; Type: Vaild; Loss: 0.18073: 100%|██████████| 372/372 [00:12<00:00, 30.60it/s]\n"
     ]
    },
    {
     "name": "stdout",
     "output_type": "stream",
     "text": [
      "Validation loss decreased (0.288622 --> 0.288573).  Saving model ...\n"
     ]
    },
    {
     "name": "stderr",
     "output_type": "stream",
     "text": [
      "Epoch: 405;  Type: Train; Loss: 0.21258: 100%|██████████| 3348/3348 [07:06<00:00,  7.85it/s]\n",
      "Epoch: 405; Type: Vaild; Loss: 0.18130: 100%|██████████| 372/372 [00:12<00:00, 30.72it/s]\n"
     ]
    },
    {
     "name": "stdout",
     "output_type": "stream",
     "text": [
      "EarlyStopping counter: 1 out of 10 , Validation loss is 0.288622\n"
     ]
    },
    {
     "name": "stderr",
     "output_type": "stream",
     "text": [
      "Epoch: 406;  Type: Train; Loss: 0.37887: 100%|██████████| 3348/3348 [07:06<00:00,  7.85it/s]\n",
      "Epoch: 406; Type: Vaild; Loss: 0.18099: 100%|██████████| 372/372 [00:12<00:00, 30.65it/s]\n"
     ]
    },
    {
     "name": "stdout",
     "output_type": "stream",
     "text": [
      "Validation loss decreased (0.288573 --> 0.288353).  Saving model ...\n"
     ]
    },
    {
     "name": "stderr",
     "output_type": "stream",
     "text": [
      "Epoch: 407;  Type: Train; Loss: 0.25528: 100%|██████████| 3348/3348 [07:06<00:00,  7.85it/s]\n",
      "Epoch: 407; Type: Vaild; Loss: 0.18075: 100%|██████████| 372/372 [00:12<00:00, 30.62it/s]\n"
     ]
    },
    {
     "name": "stdout",
     "output_type": "stream",
     "text": [
      "EarlyStopping counter: 1 out of 10 , Validation loss is 0.288366\n"
     ]
    },
    {
     "name": "stderr",
     "output_type": "stream",
     "text": [
      "Epoch: 408;  Type: Train; Loss: 0.18313: 100%|██████████| 3348/3348 [07:07<00:00,  7.83it/s]\n",
      "Epoch: 408; Type: Vaild; Loss: 0.18097: 100%|██████████| 372/372 [00:12<00:00, 30.71it/s]\n"
     ]
    },
    {
     "name": "stdout",
     "output_type": "stream",
     "text": [
      "EarlyStopping counter: 2 out of 10 , Validation loss is 0.288371\n"
     ]
    },
    {
     "name": "stderr",
     "output_type": "stream",
     "text": [
      "Epoch: 409;  Type: Train; Loss: 0.32509: 100%|██████████| 3348/3348 [07:06<00:00,  7.84it/s]\n",
      "Epoch: 409; Type: Vaild; Loss: 0.18083: 100%|██████████| 372/372 [00:12<00:00, 30.65it/s]\n"
     ]
    },
    {
     "name": "stdout",
     "output_type": "stream",
     "text": [
      "Validation loss decreased (0.288353 --> 0.288290).  Saving model ...\n"
     ]
    },
    {
     "name": "stderr",
     "output_type": "stream",
     "text": [
      "Epoch: 410;  Type: Train; Loss: 0.17496: 100%|██████████| 3348/3348 [07:07<00:00,  7.84it/s]\n",
      "Epoch: 410; Type: Vaild; Loss: 0.18090: 100%|██████████| 372/372 [00:12<00:00, 30.62it/s]\n"
     ]
    },
    {
     "name": "stdout",
     "output_type": "stream",
     "text": [
      "Validation loss decreased (0.288290 --> 0.288157).  Saving model ...\n"
     ]
    },
    {
     "name": "stderr",
     "output_type": "stream",
     "text": [
      "Epoch: 411;  Type: Train; Loss: 0.42231: 100%|██████████| 3348/3348 [07:06<00:00,  7.85it/s]\n",
      "Epoch: 411; Type: Vaild; Loss: 0.18113: 100%|██████████| 372/372 [00:12<00:00, 30.59it/s]\n"
     ]
    },
    {
     "name": "stdout",
     "output_type": "stream",
     "text": [
      "Validation loss decreased (0.288157 --> 0.288066).  Saving model ...\n"
     ]
    },
    {
     "name": "stderr",
     "output_type": "stream",
     "text": [
      "Epoch: 412;  Type: Train; Loss: 0.21523: 100%|██████████| 3348/3348 [07:06<00:00,  7.85it/s]\n",
      "Epoch: 412; Type: Vaild; Loss: 0.18113: 100%|██████████| 372/372 [00:12<00:00, 30.66it/s]\n"
     ]
    },
    {
     "name": "stdout",
     "output_type": "stream",
     "text": [
      "Validation loss decreased (0.288066 --> 0.288001).  Saving model ...\n"
     ]
    },
    {
     "name": "stderr",
     "output_type": "stream",
     "text": [
      "Epoch: 413;  Type: Train; Loss: 0.25455: 100%|██████████| 3348/3348 [07:06<00:00,  7.85it/s]\n",
      "Epoch: 413; Type: Vaild; Loss: 0.18128: 100%|██████████| 372/372 [00:12<00:00, 30.71it/s]\n"
     ]
    },
    {
     "name": "stdout",
     "output_type": "stream",
     "text": [
      "Validation loss decreased (0.288001 --> 0.287795).  Saving model ...\n"
     ]
    },
    {
     "name": "stderr",
     "output_type": "stream",
     "text": [
      "Epoch: 414;  Type: Train; Loss: 0.26751: 100%|██████████| 3348/3348 [07:07<00:00,  7.84it/s]\n",
      "Epoch: 414; Type: Vaild; Loss: 0.18144: 100%|██████████| 372/372 [00:12<00:00, 30.61it/s]\n"
     ]
    },
    {
     "name": "stdout",
     "output_type": "stream",
     "text": [
      "Validation loss decreased (0.287795 --> 0.287748).  Saving model ...\n"
     ]
    },
    {
     "name": "stderr",
     "output_type": "stream",
     "text": [
      "Epoch: 415;  Type: Train; Loss: 0.24850: 100%|██████████| 3348/3348 [07:06<00:00,  7.85it/s]\n",
      "Epoch: 415; Type: Vaild; Loss: 0.18147: 100%|██████████| 372/372 [00:12<00:00, 30.69it/s]\n"
     ]
    },
    {
     "name": "stdout",
     "output_type": "stream",
     "text": [
      "EarlyStopping counter: 1 out of 10 , Validation loss is 0.287839\n"
     ]
    },
    {
     "name": "stderr",
     "output_type": "stream",
     "text": [
      "Epoch: 416;  Type: Train; Loss: 0.18445: 100%|██████████| 3348/3348 [07:06<00:00,  7.85it/s]\n",
      "Epoch: 416; Type: Vaild; Loss: 0.18175: 100%|██████████| 372/372 [00:12<00:00, 30.69it/s]\n"
     ]
    },
    {
     "name": "stdout",
     "output_type": "stream",
     "text": [
      "EarlyStopping counter: 2 out of 10 , Validation loss is 0.287786\n"
     ]
    },
    {
     "name": "stderr",
     "output_type": "stream",
     "text": [
      "Epoch: 417;  Type: Train; Loss: 0.33565: 100%|██████████| 3348/3348 [07:06<00:00,  7.84it/s]\n",
      "Epoch: 417; Type: Vaild; Loss: 0.18214: 100%|██████████| 372/372 [00:12<00:00, 30.63it/s]\n"
     ]
    },
    {
     "name": "stdout",
     "output_type": "stream",
     "text": [
      "Validation loss decreased (0.287748 --> 0.287369).  Saving model ...\n"
     ]
    },
    {
     "name": "stderr",
     "output_type": "stream",
     "text": [
      "Epoch: 418;  Type: Train; Loss: 0.38165: 100%|██████████| 3348/3348 [07:06<00:00,  7.84it/s]\n",
      "Epoch: 418; Type: Vaild; Loss: 0.18211: 100%|██████████| 372/372 [00:12<00:00, 30.65it/s]\n"
     ]
    },
    {
     "name": "stdout",
     "output_type": "stream",
     "text": [
      "Validation loss decreased (0.287369 --> 0.287275).  Saving model ...\n"
     ]
    },
    {
     "name": "stderr",
     "output_type": "stream",
     "text": [
      "Epoch: 419;  Type: Train; Loss: 0.23685: 100%|██████████| 3348/3348 [07:06<00:00,  7.85it/s]\n",
      "Epoch: 419; Type: Vaild; Loss: 0.18212: 100%|██████████| 372/372 [00:12<00:00, 30.70it/s]\n"
     ]
    },
    {
     "name": "stdout",
     "output_type": "stream",
     "text": [
      "Validation loss decreased (0.287275 --> 0.287121).  Saving model ...\n"
     ]
    },
    {
     "name": "stderr",
     "output_type": "stream",
     "text": [
      "Epoch: 420;  Type: Train; Loss: 0.25007: 100%|██████████| 3348/3348 [07:06<00:00,  7.85it/s]\n",
      "Epoch: 420; Type: Vaild; Loss: 0.18193: 100%|██████████| 372/372 [00:12<00:00, 30.64it/s]\n"
     ]
    },
    {
     "name": "stdout",
     "output_type": "stream",
     "text": [
      "Validation loss decreased (0.287121 --> 0.287100).  Saving model ...\n"
     ]
    },
    {
     "name": "stderr",
     "output_type": "stream",
     "text": [
      "Epoch: 421;  Type: Train; Loss: 0.32535: 100%|██████████| 3348/3348 [07:06<00:00,  7.84it/s]\n",
      "Epoch: 421; Type: Vaild; Loss: 0.18221: 100%|██████████| 372/372 [00:12<00:00, 30.65it/s]\n"
     ]
    },
    {
     "name": "stdout",
     "output_type": "stream",
     "text": [
      "Validation loss decreased (0.287100 --> 0.286842).  Saving model ...\n"
     ]
    },
    {
     "name": "stderr",
     "output_type": "stream",
     "text": [
      "Epoch: 422;  Type: Train; Loss: 0.21140: 100%|██████████| 3348/3348 [07:06<00:00,  7.85it/s]\n",
      "Epoch: 422; Type: Vaild; Loss: 0.18206: 100%|██████████| 372/372 [00:12<00:00, 30.73it/s]\n"
     ]
    },
    {
     "name": "stdout",
     "output_type": "stream",
     "text": [
      "Validation loss decreased (0.286842 --> 0.286730).  Saving model ...\n"
     ]
    },
    {
     "name": "stderr",
     "output_type": "stream",
     "text": [
      "Epoch: 423;  Type: Train; Loss: 0.30688: 100%|██████████| 3348/3348 [07:06<00:00,  7.85it/s]\n",
      "Epoch: 423; Type: Vaild; Loss: 0.18205: 100%|██████████| 372/372 [00:12<00:00, 30.71it/s]\n"
     ]
    },
    {
     "name": "stdout",
     "output_type": "stream",
     "text": [
      "Validation loss decreased (0.286730 --> 0.286548).  Saving model ...\n"
     ]
    },
    {
     "name": "stderr",
     "output_type": "stream",
     "text": [
      "Epoch: 424;  Type: Train; Loss: 0.26331: 100%|██████████| 3348/3348 [07:06<00:00,  7.85it/s]\n",
      "Epoch: 424; Type: Vaild; Loss: 0.18179: 100%|██████████| 372/372 [00:12<00:00, 30.61it/s]\n"
     ]
    },
    {
     "name": "stdout",
     "output_type": "stream",
     "text": [
      "Validation loss decreased (0.286548 --> 0.286370).  Saving model ...\n"
     ]
    },
    {
     "name": "stderr",
     "output_type": "stream",
     "text": [
      "Epoch: 425;  Type: Train; Loss: 0.23022: 100%|██████████| 3348/3348 [07:06<00:00,  7.84it/s]\n",
      "Epoch: 425; Type: Vaild; Loss: 0.18137: 100%|██████████| 372/372 [00:12<00:00, 30.67it/s]\n"
     ]
    },
    {
     "name": "stdout",
     "output_type": "stream",
     "text": [
      "Validation loss decreased (0.286370 --> 0.286000).  Saving model ...\n"
     ]
    },
    {
     "name": "stderr",
     "output_type": "stream",
     "text": [
      "Epoch: 426;  Type: Train; Loss: 0.27344: 100%|██████████| 3348/3348 [07:06<00:00,  7.84it/s]\n",
      "Epoch: 426; Type: Vaild; Loss: 0.18130: 100%|██████████| 372/372 [00:12<00:00, 30.69it/s]\n"
     ]
    },
    {
     "name": "stdout",
     "output_type": "stream",
     "text": [
      "Validation loss decreased (0.286000 --> 0.285894).  Saving model ...\n"
     ]
    },
    {
     "name": "stderr",
     "output_type": "stream",
     "text": [
      "Epoch: 427;  Type: Train; Loss: 0.29000: 100%|██████████| 3348/3348 [07:06<00:00,  7.85it/s]\n",
      "Epoch: 427; Type: Vaild; Loss: 0.18119: 100%|██████████| 372/372 [00:12<00:00, 30.67it/s]\n"
     ]
    },
    {
     "name": "stdout",
     "output_type": "stream",
     "text": [
      "Validation loss decreased (0.285894 --> 0.285472).  Saving model ...\n"
     ]
    },
    {
     "name": "stderr",
     "output_type": "stream",
     "text": [
      "Epoch: 428;  Type: Train; Loss: 0.21509: 100%|██████████| 3348/3348 [07:06<00:00,  7.85it/s]\n",
      "Epoch: 428; Type: Vaild; Loss: 0.18101: 100%|██████████| 372/372 [00:12<00:00, 30.61it/s]\n"
     ]
    },
    {
     "name": "stdout",
     "output_type": "stream",
     "text": [
      "Validation loss decreased (0.285472 --> 0.285196).  Saving model ...\n"
     ]
    },
    {
     "name": "stderr",
     "output_type": "stream",
     "text": [
      "Epoch: 429;  Type: Train; Loss: 0.19228: 100%|██████████| 3348/3348 [07:06<00:00,  7.85it/s]\n",
      "Epoch: 429; Type: Vaild; Loss: 0.18115: 100%|██████████| 372/372 [00:12<00:00, 30.74it/s]\n"
     ]
    },
    {
     "name": "stdout",
     "output_type": "stream",
     "text": [
      "Validation loss decreased (0.285196 --> 0.284620).  Saving model ...\n"
     ]
    },
    {
     "name": "stderr",
     "output_type": "stream",
     "text": [
      "Epoch: 430;  Type: Train; Loss: 0.25326: 100%|██████████| 3348/3348 [07:06<00:00,  7.85it/s]\n",
      "Epoch: 430; Type: Vaild; Loss: 0.18018: 100%|██████████| 372/372 [00:12<00:00, 30.73it/s]\n"
     ]
    },
    {
     "name": "stdout",
     "output_type": "stream",
     "text": [
      "Validation loss decreased (0.284620 --> 0.284199).  Saving model ...\n"
     ]
    },
    {
     "name": "stderr",
     "output_type": "stream",
     "text": [
      "Epoch: 431;  Type: Train; Loss: 0.22076: 100%|██████████| 3348/3348 [07:06<00:00,  7.85it/s]\n",
      "Epoch: 431; Type: Vaild; Loss: 0.18012: 100%|██████████| 372/372 [00:12<00:00, 30.64it/s]\n"
     ]
    },
    {
     "name": "stdout",
     "output_type": "stream",
     "text": [
      "Validation loss decreased (0.284199 --> 0.283781).  Saving model ...\n"
     ]
    },
    {
     "name": "stderr",
     "output_type": "stream",
     "text": [
      "Epoch: 432;  Type: Train; Loss: 0.48395: 100%|██████████| 3348/3348 [07:06<00:00,  7.85it/s]\n",
      "Epoch: 432; Type: Vaild; Loss: 0.17966: 100%|██████████| 372/372 [00:12<00:00, 30.64it/s]\n"
     ]
    },
    {
     "name": "stdout",
     "output_type": "stream",
     "text": [
      "Validation loss decreased (0.283781 --> 0.283560).  Saving model ...\n"
     ]
    },
    {
     "name": "stderr",
     "output_type": "stream",
     "text": [
      "Epoch: 433;  Type: Train; Loss: 0.20295: 100%|██████████| 3348/3348 [07:06<00:00,  7.85it/s]\n",
      "Epoch: 433; Type: Vaild; Loss: 0.17931: 100%|██████████| 372/372 [00:12<00:00, 30.73it/s]\n"
     ]
    },
    {
     "name": "stdout",
     "output_type": "stream",
     "text": [
      "Validation loss decreased (0.283560 --> 0.282923).  Saving model ...\n"
     ]
    },
    {
     "name": "stderr",
     "output_type": "stream",
     "text": [
      "Epoch: 434;  Type: Train; Loss: 0.21895: 100%|██████████| 3348/3348 [07:06<00:00,  7.85it/s]\n",
      "Epoch: 434; Type: Vaild; Loss: 0.17905: 100%|██████████| 372/372 [00:12<00:00, 30.67it/s]\n"
     ]
    },
    {
     "name": "stdout",
     "output_type": "stream",
     "text": [
      "Validation loss decreased (0.282923 --> 0.282515).  Saving model ...\n"
     ]
    },
    {
     "name": "stderr",
     "output_type": "stream",
     "text": [
      "Epoch: 435;  Type: Train; Loss: 0.30174: 100%|██████████| 3348/3348 [07:06<00:00,  7.85it/s]\n",
      "Epoch: 435; Type: Vaild; Loss: 0.17871: 100%|██████████| 372/372 [00:12<00:00, 30.60it/s]\n"
     ]
    },
    {
     "name": "stdout",
     "output_type": "stream",
     "text": [
      "Validation loss decreased (0.282515 --> 0.282184).  Saving model ...\n"
     ]
    },
    {
     "name": "stderr",
     "output_type": "stream",
     "text": [
      "Epoch: 436;  Type: Train; Loss: 0.22014: 100%|██████████| 3348/3348 [07:06<00:00,  7.85it/s]\n",
      "Epoch: 436; Type: Vaild; Loss: 0.17845: 100%|██████████| 372/372 [00:12<00:00, 30.73it/s]\n"
     ]
    },
    {
     "name": "stdout",
     "output_type": "stream",
     "text": [
      "Validation loss decreased (0.282184 --> 0.281685).  Saving model ...\n"
     ]
    },
    {
     "name": "stderr",
     "output_type": "stream",
     "text": [
      "Epoch: 437;  Type: Train; Loss: 0.18385: 100%|██████████| 3348/3348 [07:06<00:00,  7.85it/s]\n",
      "Epoch: 437; Type: Vaild; Loss: 0.17831: 100%|██████████| 372/372 [00:12<00:00, 30.76it/s]\n"
     ]
    },
    {
     "name": "stdout",
     "output_type": "stream",
     "text": [
      "Validation loss decreased (0.281685 --> 0.281277).  Saving model ...\n"
     ]
    },
    {
     "name": "stderr",
     "output_type": "stream",
     "text": [
      "Epoch: 438;  Type: Train; Loss: 0.36987: 100%|██████████| 3348/3348 [07:06<00:00,  7.85it/s]\n",
      "Epoch: 438; Type: Vaild; Loss: 0.17836: 100%|██████████| 372/372 [00:12<00:00, 30.61it/s]\n"
     ]
    },
    {
     "name": "stdout",
     "output_type": "stream",
     "text": [
      "Validation loss decreased (0.281277 --> 0.280859).  Saving model ...\n"
     ]
    },
    {
     "name": "stderr",
     "output_type": "stream",
     "text": [
      "Epoch: 439;  Type: Train; Loss: 0.18454: 100%|██████████| 3348/3348 [07:06<00:00,  7.85it/s]\n",
      "Epoch: 439; Type: Vaild; Loss: 0.17906: 100%|██████████| 372/372 [00:12<00:00, 30.66it/s]\n"
     ]
    },
    {
     "name": "stdout",
     "output_type": "stream",
     "text": [
      "Validation loss decreased (0.280859 --> 0.280344).  Saving model ...\n"
     ]
    },
    {
     "name": "stderr",
     "output_type": "stream",
     "text": [
      "Epoch: 440;  Type: Train; Loss: 0.27003: 100%|██████████| 3348/3348 [07:06<00:00,  7.85it/s]\n",
      "Epoch: 440; Type: Vaild; Loss: 0.17723: 100%|██████████| 372/372 [00:12<00:00, 30.74it/s]\n"
     ]
    },
    {
     "name": "stdout",
     "output_type": "stream",
     "text": [
      "Validation loss decreased (0.280344 --> 0.279754).  Saving model ...\n"
     ]
    },
    {
     "name": "stderr",
     "output_type": "stream",
     "text": [
      "Epoch: 441;  Type: Train; Loss: 0.26186: 100%|██████████| 3348/3348 [07:06<00:00,  7.85it/s]\n",
      "Epoch: 441; Type: Vaild; Loss: 0.17739: 100%|██████████| 372/372 [00:12<00:00, 30.61it/s]\n"
     ]
    },
    {
     "name": "stdout",
     "output_type": "stream",
     "text": [
      "Validation loss decreased (0.279754 --> 0.279242).  Saving model ...\n"
     ]
    },
    {
     "name": "stderr",
     "output_type": "stream",
     "text": [
      "Epoch: 442;  Type: Train; Loss: 0.35363: 100%|██████████| 3348/3348 [07:06<00:00,  7.85it/s]\n",
      "Epoch: 442; Type: Vaild; Loss: 0.17725: 100%|██████████| 372/372 [00:12<00:00, 30.62it/s]\n"
     ]
    },
    {
     "name": "stdout",
     "output_type": "stream",
     "text": [
      "Validation loss decreased (0.279242 --> 0.279159).  Saving model ...\n"
     ]
    },
    {
     "name": "stderr",
     "output_type": "stream",
     "text": [
      "Epoch: 443;  Type: Train; Loss: 0.24120: 100%|██████████| 3348/3348 [07:06<00:00,  7.85it/s]\n",
      "Epoch: 443; Type: Vaild; Loss: 0.17582: 100%|██████████| 372/372 [00:12<00:00, 30.75it/s]\n"
     ]
    },
    {
     "name": "stdout",
     "output_type": "stream",
     "text": [
      "Validation loss decreased (0.279159 --> 0.278763).  Saving model ...\n"
     ]
    },
    {
     "name": "stderr",
     "output_type": "stream",
     "text": [
      "Epoch: 444;  Type: Train; Loss: 0.23180: 100%|██████████| 3348/3348 [07:06<00:00,  7.86it/s]\n",
      "Epoch: 444; Type: Vaild; Loss: 0.17618: 100%|██████████| 372/372 [00:12<00:00, 30.70it/s]\n"
     ]
    },
    {
     "name": "stdout",
     "output_type": "stream",
     "text": [
      "Validation loss decreased (0.278763 --> 0.278134).  Saving model ...\n"
     ]
    },
    {
     "name": "stderr",
     "output_type": "stream",
     "text": [
      "Epoch: 445;  Type: Train; Loss: 0.28978: 100%|██████████| 3348/3348 [07:06<00:00,  7.85it/s]\n",
      "Epoch: 445; Type: Vaild; Loss: 0.17681: 100%|██████████| 372/372 [00:12<00:00, 30.59it/s]\n"
     ]
    },
    {
     "name": "stdout",
     "output_type": "stream",
     "text": [
      "EarlyStopping counter: 1 out of 10 , Validation loss is 0.278152\n"
     ]
    },
    {
     "name": "stderr",
     "output_type": "stream",
     "text": [
      "Epoch: 446;  Type: Train; Loss: 0.15597: 100%|██████████| 3348/3348 [07:06<00:00,  7.85it/s]\n",
      "Epoch: 446; Type: Vaild; Loss: 0.17509: 100%|██████████| 372/372 [00:12<00:00, 30.67it/s]\n"
     ]
    },
    {
     "name": "stdout",
     "output_type": "stream",
     "text": [
      "Validation loss decreased (0.278134 --> 0.277553).  Saving model ...\n"
     ]
    },
    {
     "name": "stderr",
     "output_type": "stream",
     "text": [
      "Epoch: 447;  Type: Train; Loss: 0.30007: 100%|██████████| 3348/3348 [07:06<00:00,  7.85it/s]\n",
      "Epoch: 447; Type: Vaild; Loss: 0.17612: 100%|██████████| 372/372 [00:12<00:00, 30.67it/s]\n"
     ]
    },
    {
     "name": "stdout",
     "output_type": "stream",
     "text": [
      "Validation loss decreased (0.277553 --> 0.277480).  Saving model ...\n"
     ]
    },
    {
     "name": "stderr",
     "output_type": "stream",
     "text": [
      "Epoch: 448;  Type: Train; Loss: 0.29798: 100%|██████████| 3348/3348 [07:06<00:00,  7.85it/s]\n",
      "Epoch: 448; Type: Vaild; Loss: 0.17511: 100%|██████████| 372/372 [00:12<00:00, 30.59it/s]\n"
     ]
    },
    {
     "name": "stdout",
     "output_type": "stream",
     "text": [
      "EarlyStopping counter: 1 out of 10 , Validation loss is 0.277595\n"
     ]
    },
    {
     "name": "stderr",
     "output_type": "stream",
     "text": [
      "Epoch: 449;  Type: Train; Loss: 0.24169: 100%|██████████| 3348/3348 [07:06<00:00,  7.85it/s]\n",
      "Epoch: 449; Type: Vaild; Loss: 0.17561: 100%|██████████| 372/372 [00:12<00:00, 30.53it/s]\n"
     ]
    },
    {
     "name": "stdout",
     "output_type": "stream",
     "text": [
      "EarlyStopping counter: 2 out of 10 , Validation loss is 0.277749\n"
     ]
    },
    {
     "name": "stderr",
     "output_type": "stream",
     "text": [
      "Epoch: 450;  Type: Train; Loss: 0.44763: 100%|██████████| 3348/3348 [07:06<00:00,  7.85it/s]\n",
      "Epoch: 450; Type: Vaild; Loss: 0.17569: 100%|██████████| 372/372 [00:12<00:00, 30.66it/s]\n"
     ]
    },
    {
     "name": "stdout",
     "output_type": "stream",
     "text": [
      "EarlyStopping counter: 3 out of 10 , Validation loss is 0.277795\n"
     ]
    },
    {
     "name": "stderr",
     "output_type": "stream",
     "text": [
      "Epoch: 451;  Type: Train; Loss: 0.21766: 100%|██████████| 3348/3348 [07:06<00:00,  7.85it/s]\n",
      "Epoch: 451; Type: Vaild; Loss: 0.17606: 100%|██████████| 372/372 [00:12<00:00, 30.67it/s]\n"
     ]
    },
    {
     "name": "stdout",
     "output_type": "stream",
     "text": [
      "EarlyStopping counter: 4 out of 10 , Validation loss is 0.277967\n"
     ]
    },
    {
     "name": "stderr",
     "output_type": "stream",
     "text": [
      "Epoch: 452;  Type: Train; Loss: 0.18580: 100%|██████████| 3348/3348 [07:06<00:00,  7.84it/s]\n",
      "Epoch: 452; Type: Vaild; Loss: 0.17660: 100%|██████████| 372/372 [00:12<00:00, 30.56it/s]\n"
     ]
    },
    {
     "name": "stdout",
     "output_type": "stream",
     "text": [
      "EarlyStopping counter: 5 out of 10 , Validation loss is 0.278170\n"
     ]
    },
    {
     "name": "stderr",
     "output_type": "stream",
     "text": [
      "Epoch: 453;  Type: Train; Loss: 0.39481: 100%|██████████| 3348/3348 [07:06<00:00,  7.84it/s]\n",
      "Epoch: 453; Type: Vaild; Loss: 0.17652: 100%|██████████| 372/372 [00:12<00:00, 30.68it/s]\n"
     ]
    },
    {
     "name": "stdout",
     "output_type": "stream",
     "text": [
      "EarlyStopping counter: 6 out of 10 , Validation loss is 0.278116\n"
     ]
    },
    {
     "name": "stderr",
     "output_type": "stream",
     "text": [
      "Epoch: 454;  Type: Train; Loss: 0.38723: 100%|██████████| 3348/3348 [07:06<00:00,  7.85it/s]\n",
      "Epoch: 454; Type: Vaild; Loss: 0.17713: 100%|██████████| 372/372 [00:12<00:00, 30.66it/s]\n"
     ]
    },
    {
     "name": "stdout",
     "output_type": "stream",
     "text": [
      "EarlyStopping counter: 7 out of 10 , Validation loss is 0.278190\n"
     ]
    },
    {
     "name": "stderr",
     "output_type": "stream",
     "text": [
      "Epoch: 455;  Type: Train; Loss: 0.20388: 100%|██████████| 3348/3348 [08:14<00:00,  6.78it/s]\n",
      "Epoch: 455; Type: Vaild; Loss: 0.17696: 100%|██████████| 372/372 [00:15<00:00, 24.12it/s]\n"
     ]
    },
    {
     "name": "stdout",
     "output_type": "stream",
     "text": [
      "EarlyStopping counter: 8 out of 10 , Validation loss is 0.277779\n"
     ]
    },
    {
     "name": "stderr",
     "output_type": "stream",
     "text": [
      "Epoch: 456;  Type: Train; Loss: 0.22656: 100%|██████████| 3348/3348 [08:57<00:00,  6.23it/s]\n",
      "Epoch: 456; Type: Vaild; Loss: 0.17673: 100%|██████████| 372/372 [00:14<00:00, 25.65it/s]\n"
     ]
    },
    {
     "name": "stdout",
     "output_type": "stream",
     "text": [
      "Validation loss decreased (0.277480 --> 0.277430).  Saving model ...\n"
     ]
    },
    {
     "name": "stderr",
     "output_type": "stream",
     "text": [
      "Epoch: 457;  Type: Train; Loss: 0.45217: 100%|██████████| 3348/3348 [07:41<00:00,  7.25it/s]\n",
      "Epoch: 457; Type: Vaild; Loss: 0.17630: 100%|██████████| 372/372 [00:12<00:00, 30.54it/s]\n"
     ]
    },
    {
     "name": "stdout",
     "output_type": "stream",
     "text": [
      "Validation loss decreased (0.277430 --> 0.276699).  Saving model ...\n"
     ]
    },
    {
     "name": "stderr",
     "output_type": "stream",
     "text": [
      "Epoch: 458;  Type: Train; Loss: 0.19069: 100%|██████████| 3348/3348 [07:09<00:00,  7.80it/s]\n",
      "Epoch: 458; Type: Vaild; Loss: 0.17634: 100%|██████████| 372/372 [00:12<00:00, 30.47it/s]\n"
     ]
    },
    {
     "name": "stdout",
     "output_type": "stream",
     "text": [
      "Validation loss decreased (0.276699 --> 0.276057).  Saving model ...\n"
     ]
    },
    {
     "name": "stderr",
     "output_type": "stream",
     "text": [
      "Epoch: 459;  Type: Train; Loss: 0.22026: 100%|██████████| 3348/3348 [07:09<00:00,  7.80it/s]\n",
      "Epoch: 459; Type: Vaild; Loss: 0.17657: 100%|██████████| 372/372 [00:12<00:00, 30.57it/s]\n"
     ]
    },
    {
     "name": "stdout",
     "output_type": "stream",
     "text": [
      "Validation loss decreased (0.276057 --> 0.275513).  Saving model ...\n"
     ]
    },
    {
     "name": "stderr",
     "output_type": "stream",
     "text": [
      "Epoch: 460;  Type: Train; Loss: 0.25612: 100%|██████████| 3348/3348 [07:09<00:00,  7.80it/s]\n",
      "Epoch: 460; Type: Vaild; Loss: 0.17600: 100%|██████████| 372/372 [00:12<00:00, 30.56it/s]\n"
     ]
    },
    {
     "name": "stdout",
     "output_type": "stream",
     "text": [
      "Validation loss decreased (0.275513 --> 0.274785).  Saving model ...\n"
     ]
    },
    {
     "name": "stderr",
     "output_type": "stream",
     "text": [
      "Epoch: 461;  Type: Train; Loss: 0.25156: 100%|██████████| 3348/3348 [07:08<00:00,  7.81it/s]\n",
      "Epoch: 461; Type: Vaild; Loss: 0.17621: 100%|██████████| 372/372 [00:12<00:00, 30.67it/s]\n"
     ]
    },
    {
     "name": "stdout",
     "output_type": "stream",
     "text": [
      "Validation loss decreased (0.274785 --> 0.274241).  Saving model ...\n"
     ]
    },
    {
     "name": "stderr",
     "output_type": "stream",
     "text": [
      "Epoch: 462;  Type: Train; Loss: 0.17716: 100%|██████████| 3348/3348 [07:06<00:00,  7.85it/s]\n",
      "Epoch: 462; Type: Vaild; Loss: 0.17599: 100%|██████████| 372/372 [00:12<00:00, 30.65it/s]\n"
     ]
    },
    {
     "name": "stdout",
     "output_type": "stream",
     "text": [
      "Validation loss decreased (0.274241 --> 0.273743).  Saving model ...\n"
     ]
    },
    {
     "name": "stderr",
     "output_type": "stream",
     "text": [
      "Epoch: 463;  Type: Train; Loss: 0.14519: 100%|██████████| 3348/3348 [07:06<00:00,  7.85it/s]\n",
      "Epoch: 463; Type: Vaild; Loss: 0.17567: 100%|██████████| 372/372 [00:12<00:00, 30.71it/s]\n"
     ]
    },
    {
     "name": "stdout",
     "output_type": "stream",
     "text": [
      "Validation loss decreased (0.273743 --> 0.273106).  Saving model ...\n"
     ]
    },
    {
     "name": "stderr",
     "output_type": "stream",
     "text": [
      "Epoch: 464;  Type: Train; Loss: 0.37471: 100%|██████████| 3348/3348 [07:06<00:00,  7.84it/s]\n",
      "Epoch: 464; Type: Vaild; Loss: 0.17526: 100%|██████████| 372/372 [00:12<00:00, 30.69it/s]\n"
     ]
    },
    {
     "name": "stdout",
     "output_type": "stream",
     "text": [
      "Validation loss decreased (0.273106 --> 0.272483).  Saving model ...\n"
     ]
    },
    {
     "name": "stderr",
     "output_type": "stream",
     "text": [
      "Epoch: 465;  Type: Train; Loss: 0.15868: 100%|██████████| 3348/3348 [07:06<00:00,  7.85it/s]\n",
      "Epoch: 465; Type: Vaild; Loss: 0.17516: 100%|██████████| 372/372 [00:12<00:00, 30.63it/s]\n"
     ]
    },
    {
     "name": "stdout",
     "output_type": "stream",
     "text": [
      "Validation loss decreased (0.272483 --> 0.271857).  Saving model ...\n"
     ]
    },
    {
     "name": "stderr",
     "output_type": "stream",
     "text": [
      "Epoch: 466;  Type: Train; Loss: 0.17606: 100%|██████████| 3348/3348 [07:06<00:00,  7.85it/s]\n",
      "Epoch: 466; Type: Vaild; Loss: 0.17496: 100%|██████████| 372/372 [00:12<00:00, 30.64it/s]\n"
     ]
    },
    {
     "name": "stdout",
     "output_type": "stream",
     "text": [
      "Validation loss decreased (0.271857 --> 0.271639).  Saving model ...\n"
     ]
    },
    {
     "name": "stderr",
     "output_type": "stream",
     "text": [
      "Epoch: 467;  Type: Train; Loss: 0.31682: 100%|██████████| 3348/3348 [07:06<00:00,  7.84it/s]\n",
      "Epoch: 467; Type: Vaild; Loss: 0.17549: 100%|██████████| 372/372 [00:12<00:00, 30.73it/s]\n"
     ]
    },
    {
     "name": "stdout",
     "output_type": "stream",
     "text": [
      "Validation loss decreased (0.271639 --> 0.271445).  Saving model ...\n"
     ]
    },
    {
     "name": "stderr",
     "output_type": "stream",
     "text": [
      "Epoch: 468;  Type: Train; Loss: 0.24045: 100%|██████████| 3348/3348 [07:07<00:00,  7.84it/s]\n",
      "Epoch: 468; Type: Vaild; Loss: 0.17522: 100%|██████████| 372/372 [00:12<00:00, 30.65it/s]\n"
     ]
    },
    {
     "name": "stdout",
     "output_type": "stream",
     "text": [
      "Validation loss decreased (0.271445 --> 0.271113).  Saving model ...\n"
     ]
    },
    {
     "name": "stderr",
     "output_type": "stream",
     "text": [
      "Epoch: 469;  Type: Train; Loss: 0.35625: 100%|██████████| 3348/3348 [07:06<00:00,  7.84it/s]\n",
      "Epoch: 469; Type: Vaild; Loss: 0.17566: 100%|██████████| 372/372 [00:12<00:00, 30.58it/s]\n"
     ]
    },
    {
     "name": "stdout",
     "output_type": "stream",
     "text": [
      "Validation loss decreased (0.271113 --> 0.270955).  Saving model ...\n"
     ]
    },
    {
     "name": "stderr",
     "output_type": "stream",
     "text": [
      "Epoch: 470;  Type: Train; Loss: 0.30871: 100%|██████████| 3348/3348 [07:06<00:00,  7.84it/s]\n",
      "Epoch: 470; Type: Vaild; Loss: 0.17608: 100%|██████████| 372/372 [00:12<00:00, 30.74it/s]\n"
     ]
    },
    {
     "name": "stdout",
     "output_type": "stream",
     "text": [
      "Validation loss decreased (0.270955 --> 0.270706).  Saving model ...\n"
     ]
    },
    {
     "name": "stderr",
     "output_type": "stream",
     "text": [
      "Epoch: 471;  Type: Train; Loss: 0.25980: 100%|██████████| 3348/3348 [07:06<00:00,  7.85it/s]\n",
      "Epoch: 471; Type: Vaild; Loss: 0.17621: 100%|██████████| 372/372 [00:12<00:00, 30.70it/s]\n"
     ]
    },
    {
     "name": "stdout",
     "output_type": "stream",
     "text": [
      "Validation loss decreased (0.270706 --> 0.270594).  Saving model ...\n"
     ]
    },
    {
     "name": "stderr",
     "output_type": "stream",
     "text": [
      "Epoch: 472;  Type: Train; Loss: 0.29231: 100%|██████████| 3348/3348 [07:06<00:00,  7.84it/s]\n",
      "Epoch: 472; Type: Vaild; Loss: 0.17533: 100%|██████████| 372/372 [00:12<00:00, 30.62it/s]\n"
     ]
    },
    {
     "name": "stdout",
     "output_type": "stream",
     "text": [
      "Validation loss decreased (0.270594 --> 0.270313).  Saving model ...\n"
     ]
    },
    {
     "name": "stderr",
     "output_type": "stream",
     "text": [
      "Epoch: 473;  Type: Train; Loss: 0.47618: 100%|██████████| 3348/3348 [07:06<00:00,  7.84it/s]\n",
      "Epoch: 473; Type: Vaild; Loss: 0.17539: 100%|██████████| 372/372 [00:12<00:00, 30.62it/s]\n"
     ]
    },
    {
     "name": "stdout",
     "output_type": "stream",
     "text": [
      "EarlyStopping counter: 1 out of 10 , Validation loss is 0.270317\n"
     ]
    },
    {
     "name": "stderr",
     "output_type": "stream",
     "text": [
      "Epoch: 474;  Type: Train; Loss: 0.15459: 100%|██████████| 3348/3348 [07:07<00:00,  7.84it/s]\n",
      "Epoch: 474; Type: Vaild; Loss: 0.17524: 100%|██████████| 372/372 [00:12<00:00, 30.70it/s]\n"
     ]
    },
    {
     "name": "stdout",
     "output_type": "stream",
     "text": [
      "Validation loss decreased (0.270313 --> 0.270094).  Saving model ...\n"
     ]
    },
    {
     "name": "stderr",
     "output_type": "stream",
     "text": [
      "Epoch: 475;  Type: Train; Loss: 0.27918: 100%|██████████| 3348/3348 [07:06<00:00,  7.85it/s]\n",
      "Epoch: 475; Type: Vaild; Loss: 0.17564: 100%|██████████| 372/372 [00:12<00:00, 30.65it/s]\n"
     ]
    },
    {
     "name": "stdout",
     "output_type": "stream",
     "text": [
      "Validation loss decreased (0.270094 --> 0.269864).  Saving model ...\n"
     ]
    },
    {
     "name": "stderr",
     "output_type": "stream",
     "text": [
      "Epoch: 476;  Type: Train; Loss: 0.22981: 100%|██████████| 3348/3348 [07:06<00:00,  7.85it/s]\n",
      "Epoch: 476; Type: Vaild; Loss: 0.17627: 100%|██████████| 372/372 [00:12<00:00, 30.63it/s]\n"
     ]
    },
    {
     "name": "stdout",
     "output_type": "stream",
     "text": [
      "EarlyStopping counter: 1 out of 10 , Validation loss is 0.270089\n"
     ]
    },
    {
     "name": "stderr",
     "output_type": "stream",
     "text": [
      "Epoch: 477;  Type: Train; Loss: 0.18708: 100%|██████████| 3348/3348 [07:06<00:00,  7.84it/s]\n",
      "Epoch: 477; Type: Vaild; Loss: 0.17540: 100%|██████████| 372/372 [00:12<00:00, 30.71it/s]\n"
     ]
    },
    {
     "name": "stdout",
     "output_type": "stream",
     "text": [
      "Validation loss decreased (0.269864 --> 0.269828).  Saving model ...\n"
     ]
    },
    {
     "name": "stderr",
     "output_type": "stream",
     "text": [
      "Epoch: 478;  Type: Train; Loss: 0.32925: 100%|██████████| 3348/3348 [07:06<00:00,  7.85it/s]\n",
      "Epoch: 478; Type: Vaild; Loss: 0.17514: 100%|██████████| 372/372 [00:12<00:00, 30.73it/s]\n"
     ]
    },
    {
     "name": "stdout",
     "output_type": "stream",
     "text": [
      "Validation loss decreased (0.269828 --> 0.269749).  Saving model ...\n"
     ]
    },
    {
     "name": "stderr",
     "output_type": "stream",
     "text": [
      "Epoch: 479;  Type: Train; Loss: 0.21338: 100%|██████████| 3348/3348 [07:06<00:00,  7.85it/s]\n",
      "Epoch: 479; Type: Vaild; Loss: 0.17491: 100%|██████████| 372/372 [00:12<00:00, 30.59it/s]\n"
     ]
    },
    {
     "name": "stdout",
     "output_type": "stream",
     "text": [
      "Validation loss decreased (0.269749 --> 0.269606).  Saving model ...\n"
     ]
    },
    {
     "name": "stderr",
     "output_type": "stream",
     "text": [
      "Epoch: 480;  Type: Train; Loss: 0.29933: 100%|██████████| 3348/3348 [07:06<00:00,  7.85it/s]\n",
      "Epoch: 480; Type: Vaild; Loss: 0.17494: 100%|██████████| 372/372 [00:12<00:00, 30.60it/s]\n"
     ]
    },
    {
     "name": "stdout",
     "output_type": "stream",
     "text": [
      "EarlyStopping counter: 1 out of 10 , Validation loss is 0.269737\n"
     ]
    },
    {
     "name": "stderr",
     "output_type": "stream",
     "text": [
      "Epoch: 481;  Type: Train; Loss: 0.48369: 100%|██████████| 3348/3348 [07:06<00:00,  7.85it/s]\n",
      "Epoch: 481; Type: Vaild; Loss: 0.17541: 100%|██████████| 372/372 [00:12<00:00, 30.70it/s]\n"
     ]
    },
    {
     "name": "stdout",
     "output_type": "stream",
     "text": [
      "Validation loss decreased (0.269606 --> 0.269530).  Saving model ...\n"
     ]
    },
    {
     "name": "stderr",
     "output_type": "stream",
     "text": [
      "Epoch: 482;  Type: Train; Loss: 0.22651: 100%|██████████| 3348/3348 [07:06<00:00,  7.85it/s]\n",
      "Epoch: 482; Type: Vaild; Loss: 0.17548: 100%|██████████| 372/372 [00:12<00:00, 30.63it/s]\n"
     ]
    },
    {
     "name": "stdout",
     "output_type": "stream",
     "text": [
      "EarlyStopping counter: 1 out of 10 , Validation loss is 0.269680\n"
     ]
    },
    {
     "name": "stderr",
     "output_type": "stream",
     "text": [
      "Epoch: 483;  Type: Train; Loss: 0.34140: 100%|██████████| 3348/3348 [07:06<00:00,  7.84it/s]\n",
      "Epoch: 483; Type: Vaild; Loss: 0.17586: 100%|██████████| 372/372 [00:12<00:00, 30.59it/s]\n"
     ]
    },
    {
     "name": "stdout",
     "output_type": "stream",
     "text": [
      "EarlyStopping counter: 2 out of 10 , Validation loss is 0.269667\n"
     ]
    },
    {
     "name": "stderr",
     "output_type": "stream",
     "text": [
      "Epoch: 484;  Type: Train; Loss: 0.20183: 100%|██████████| 3348/3348 [07:06<00:00,  7.84it/s]\n",
      "Epoch: 484; Type: Vaild; Loss: 0.17598: 100%|██████████| 372/372 [00:12<00:00, 30.74it/s]\n"
     ]
    },
    {
     "name": "stdout",
     "output_type": "stream",
     "text": [
      "EarlyStopping counter: 3 out of 10 , Validation loss is 0.269701\n"
     ]
    },
    {
     "name": "stderr",
     "output_type": "stream",
     "text": [
      "Epoch: 485;  Type: Train; Loss: 0.37696: 100%|██████████| 3348/3348 [07:06<00:00,  7.85it/s]\n",
      "Epoch: 485; Type: Vaild; Loss: 0.17607: 100%|██████████| 372/372 [00:12<00:00, 30.67it/s]\n"
     ]
    },
    {
     "name": "stdout",
     "output_type": "stream",
     "text": [
      "EarlyStopping counter: 4 out of 10 , Validation loss is 0.269662\n"
     ]
    },
    {
     "name": "stderr",
     "output_type": "stream",
     "text": [
      "Epoch: 486;  Type: Train; Loss: 0.36418: 100%|██████████| 3348/3348 [07:06<00:00,  7.85it/s]\n",
      "Epoch: 486; Type: Vaild; Loss: 0.17621: 100%|██████████| 372/372 [00:12<00:00, 30.63it/s]\n"
     ]
    },
    {
     "name": "stdout",
     "output_type": "stream",
     "text": [
      "EarlyStopping counter: 5 out of 10 , Validation loss is 0.269737\n"
     ]
    },
    {
     "name": "stderr",
     "output_type": "stream",
     "text": [
      "Epoch: 487;  Type: Train; Loss: 0.31183: 100%|██████████| 3348/3348 [07:07<00:00,  7.84it/s]\n",
      "Epoch: 487; Type: Vaild; Loss: 0.17651: 100%|██████████| 372/372 [00:12<00:00, 30.68it/s]\n"
     ]
    },
    {
     "name": "stdout",
     "output_type": "stream",
     "text": [
      "EarlyStopping counter: 6 out of 10 , Validation loss is 0.269718\n"
     ]
    },
    {
     "name": "stderr",
     "output_type": "stream",
     "text": [
      "Epoch: 488;  Type: Train; Loss: 0.40798: 100%|██████████| 3348/3348 [07:06<00:00,  7.85it/s]\n",
      "Epoch: 488; Type: Vaild; Loss: 0.17657: 100%|██████████| 372/372 [00:12<00:00, 30.73it/s]\n"
     ]
    },
    {
     "name": "stdout",
     "output_type": "stream",
     "text": [
      "EarlyStopping counter: 7 out of 10 , Validation loss is 0.269632\n"
     ]
    },
    {
     "name": "stderr",
     "output_type": "stream",
     "text": [
      "Epoch: 489;  Type: Train; Loss: 0.27023: 100%|██████████| 3348/3348 [07:06<00:00,  7.85it/s]\n",
      "Epoch: 489; Type: Vaild; Loss: 0.17724: 100%|██████████| 372/372 [00:12<00:00, 30.65it/s]\n"
     ]
    },
    {
     "name": "stdout",
     "output_type": "stream",
     "text": [
      "EarlyStopping counter: 8 out of 10 , Validation loss is 0.269645\n"
     ]
    },
    {
     "name": "stderr",
     "output_type": "stream",
     "text": [
      "Epoch: 490;  Type: Train; Loss: 0.31211: 100%|██████████| 3348/3348 [07:06<00:00,  7.85it/s]\n",
      "Epoch: 490; Type: Vaild; Loss: 0.17718: 100%|██████████| 372/372 [00:12<00:00, 30.65it/s]\n"
     ]
    },
    {
     "name": "stdout",
     "output_type": "stream",
     "text": [
      "EarlyStopping counter: 9 out of 10 , Validation loss is 0.269592\n"
     ]
    },
    {
     "name": "stderr",
     "output_type": "stream",
     "text": [
      "Epoch: 491;  Type: Train; Loss: 0.19749: 100%|██████████| 3348/3348 [07:06<00:00,  7.85it/s]\n",
      "Epoch: 491; Type: Vaild; Loss: 0.17758: 100%|██████████| 372/372 [00:12<00:00, 30.68it/s]"
     ]
    },
    {
     "name": "stdout",
     "output_type": "stream",
     "text": [
      "EarlyStopping counter: 10 out of 10 , Validation loss is 0.269612\n"
     ]
    },
    {
     "name": "stderr",
     "output_type": "stream",
     "text": [
      "\n"
     ]
    },
    {
     "ename": "SystemExit",
     "evalue": "Early stopping",
     "output_type": "error",
     "traceback": [
      "An exception has occurred, use %tb to see the full traceback.\n",
      "\u001b[1;31mSystemExit\u001b[0m\u001b[1;31m:\u001b[0m Early stopping\n"
     ]
    },
    {
     "name": "stderr",
     "output_type": "stream",
     "text": [
      "c:\\Users\\stone4022\\anaconda3\\envs\\pytorch38\\lib\\site-packages\\IPython\\core\\interactiveshell.py:3406: UserWarning: To exit: use 'exit', 'quit', or Ctrl-D.\n",
      "  warn(\"To exit: use 'exit', 'quit', or Ctrl-D.\", stacklevel=1)\n"
     ]
    }
   ],
   "source": [
    "import os\n",
    "import argparse\n",
    "import time\n",
    "import json\n",
    "import torch\n",
    "import random\n",
    "import torch.nn as nn\n",
    "import numpy as np\n",
    "from dataset_BERT import EurDataset, collate_data\n",
    "from performance_BERT import performance\n",
    "import logging\n",
    "import sys \n",
    "sys.path.append(\"..\") \n",
    "from models.BERT2FC import DeepSC_BERT2FC\n",
    "from utils import SNR_to_noise, initNetParams, train_step_bart2fc, val_step_bart2fc, NoamOpt, EarlyStopping\n",
    "from torch.utils.data import DataLoader\n",
    "from torch.utils.tensorboard import SummaryWriter\n",
    "from tqdm import tqdm\n",
    "\n",
    "parser = argparse.ArgumentParser()\n",
    "parser.add_argument('--data-dir', default='../data/BERT/train_data.pkl', type=str)\n",
    "parser.add_argument('--checkpoint-path', default='../checkpoints/BERT2FC/lr=1e-5', type=str)\n",
    "parser.add_argument('--channel', default='TEST', type=str, help='Please choose AWGN, Rayleigh, and Rician')\n",
    "parser.add_argument('--MAX-LENGTH', default=70, type=int)\n",
    "parser.add_argument('--batch-size', default=32, type=int)\n",
    "parser.add_argument('--epochs', default=400, type=int)\n",
    "parser.add_argument('--resume', default=False, type=bool)\n",
    "parser.add_argument('--Test_epochs', default=1, type=int)\n",
    "device = torch.device(\"cuda:0\" if torch.cuda.is_available() else \"cpu\")\n",
    "\n",
    "log_format = '%(asctime)s %(message)s'\n",
    "logging.basicConfig(filename='myLog.log', \n",
    "                    filemode='w',\n",
    "                    level=logging.INFO,\n",
    "                    format=log_format,\n",
    "                    datefmt='%m/%d %I:%M:%S %p')\n",
    "logger = logging.getLogger()\n",
    "\n",
    "def setup_seed(seed):\n",
    "    torch.manual_seed(seed)\n",
    "    torch.cuda.manual_seed_all(seed)\n",
    "    np.random.seed(seed)\n",
    "    random.seed(seed)\n",
    "    torch.backends.cudnn.deterministic = True\n",
    "\n",
    "\n",
    "def validate(epoch, args, net, noise_std):\n",
    "    test_eur = EurDataset('test')\n",
    "    test_iterator = DataLoader(test_eur, batch_size=args.batch_size, num_workers=0,\n",
    "                               pin_memory=True, collate_fn=collate_data)\n",
    "    pbar = tqdm(test_iterator)\n",
    "    total = 0\n",
    "\n",
    "    with torch.no_grad():\n",
    "        for sents in pbar:\n",
    "            sents = sents.to(device)\n",
    "            loss = val_step_bart2fc(net, sents, sents, noise_std, pad_idx, criterion, args.channel)\n",
    "            total += loss\n",
    "            pbar.set_description('Epoch: {}; Type: Vaild; Loss: {:.5f}'.format(epoch, loss))\n",
    "    \n",
    "    early_stopping(total / len(test_iterator), net, logger)\n",
    "    if early_stopping.early_stop:\n",
    "        sys.exit(\"Early stopping\")   \n",
    "\n",
    "    return total / len(test_iterator)\n",
    "\n",
    "\n",
    "def train(epoch, args, net, noise_std):\n",
    "    train_eur = EurDataset('train')\n",
    "    train_iterator = DataLoader(train_eur, batch_size=args.batch_size, num_workers=0, shuffle=True,\n",
    "                                pin_memory=True, collate_fn=collate_data)\n",
    "    pbar = tqdm(train_iterator)\n",
    "    total = 0\n",
    "\n",
    "    for sents in pbar:\n",
    "        sents = sents.to(device)\n",
    "        loss = train_step_bart2fc(net, sents, sents, noise_std, pad_idx, opt, criterion, args.channel)\n",
    "        total += loss\n",
    "        pbar.set_description('Epoch: {};  Type: Train; Loss: {:.5f}'.format(epoch, loss))\n",
    "       \n",
    "    return total / len(train_iterator)\n",
    "\n",
    "if __name__ == '__main__':\n",
    "\n",
    "    \"\"\" parameter setting\"\"\"\n",
    "    setup_seed(42)\n",
    "    args = parser.parse_args(args=[])\n",
    "    early_stopping = EarlyStopping(args.checkpoint_path + '/best')\n",
    "    loss_curve = SummaryWriter(\"../logs/BERT2FC/lr=1e-7\", flush_secs=1)\n",
    "    logger.info('The args: {}'.format(args))\n",
    "\n",
    "\n",
    "    \"\"\" special token idx \"\"\"\n",
    "    vocab_size = 30522\n",
    "    start_idx = 101\n",
    "    pad_idx = 0\n",
    "    end_idx = 102\n",
    "\n",
    "\n",
    "    \"\"\" define model \"\"\"\n",
    "    deepsc_bert2fc = DeepSC_BERT2FC(vocab_size).to(device)\n",
    "\n",
    "\n",
    "    \"\"\" load existed model\"\"\"\n",
    "    if args.resume:\n",
    "        model_paths = []\n",
    "        for fn in os.listdir(args.checkpoint_path):\n",
    "            if not fn.endswith('.pth'): continue\n",
    "            idx = int(os.path.splitext(fn)[0].split('_')[-1])  # read the idx of image\n",
    "            model_paths.append((os.path.join(args.checkpoint_path, fn), idx))\n",
    "\n",
    "        model_paths.sort(key=lambda x: x[1])  # sort the image by the idx\n",
    "        model_path, _ = model_paths[-1]\n",
    "        print(model_path)\n",
    "        checkpoint = torch.load(model_path, map_location='cpu')\n",
    "        deepsc_bert2fc.load_state_dict(checkpoint,strict=False)\n",
    "        print('model load!')\n",
    "    else:\n",
    "        print('no existed checkpoint')\n",
    "        for p in deepsc_bert2fc.quantization.parameters():\n",
    "            if p.dim() > 1:\n",
    "                nn.init.xavier_uniform_(p) \n",
    "        for p in deepsc_bert2fc.dequantization.parameters():\n",
    "            if p.dim() > 1:\n",
    "                nn.init.xavier_uniform_(p) \n",
    "        for p in deepsc_bert2fc.dense.parameters():\n",
    "            if p.dim() > 1:\n",
    "                nn.init.xavier_uniform_(p) \n",
    "    \n",
    "    \n",
    "    \"\"\" define optimizer and loss function \"\"\"\n",
    "    criterion = nn.CrossEntropyLoss(reduction='none')\n",
    "    opt = torch.optim.Adam(deepsc_bert2fc.parameters(), lr=1e-6, betas=(0.9, 0.98), eps=1e-8, weight_decay=5e-4)\n",
    "    # opt = NoamOpt(768, 1, 20000, optimizer)\n",
    "\n",
    "    record_acc = 10\n",
    "    for epoch in range(358 , 358 + args.epochs):\n",
    "\n",
    "        start = time.time()\n",
    "        n_std = np.random.uniform(SNR_to_noise(5), SNR_to_noise(10))\n",
    "\n",
    "        tra_acc = train(epoch, args, deepsc_bert2fc, n_std)\n",
    "        avg_acc = validate(epoch, args, deepsc_bert2fc, n_std)\n",
    "\n",
    "        if record_acc >= avg_acc:\n",
    "            record_acc = avg_acc\n",
    "            if not os.path.exists(args.checkpoint_path):\n",
    "                os.makedirs(args.checkpoint_path)\n",
    "            with open(args.checkpoint_path + '/checkpoint_{}.pth'.format(str(epoch).zfill(2)), 'wb') as f:\n",
    "                torch.save(deepsc_bert2fc.state_dict(), f)\n",
    "\n",
    "        bleu1, bleu2, bleu3, bleu4 = performance(args, [0], deepsc_bert2fc, pad_idx, start_idx, end_idx)\n",
    "\n",
    "        # record the results\n",
    "        logger.info('Epoch: {}; Type: Train; Loss: {:.5f}'.format(epoch, tra_acc))  \n",
    "        logger.info('Epoch: {}; Type: Vaild; Loss: {:.5f}'.format(epoch, avg_acc))\n",
    "        logger.info('Epoch: {}; Type: Vaild; BLEU score: {:.5f} {:.5f} {:.5f} {:.5f}'.format(epoch, bleu1[0], bleu2[0], bleu3[0], bleu4[0]))\n",
    "\n",
    "        loss_curve.add_scalar(\"Train loss\", tra_acc, epoch)\n",
    "        loss_curve.add_scalar(\"Vaild loss\", avg_acc, epoch)\n",
    "        loss_curve.add_scalar(\"BLEU score\", bleu1[0], epoch)\n",
    "\n",
    "    loss_curve.close()\n"
   ]
  }
 ],
 "metadata": {
  "kernelspec": {
   "display_name": "base",
   "language": "python",
   "name": "python3"
  },
  "language_info": {
   "codemirror_mode": {
    "name": "ipython",
    "version": 3
   },
   "file_extension": ".py",
   "mimetype": "text/x-python",
   "name": "python",
   "nbconvert_exporter": "python",
   "pygments_lexer": "ipython3",
   "version": "3.9.12 (main, Apr  4 2022, 05:22:27) [MSC v.1916 64 bit (AMD64)]"
  },
  "orig_nbformat": 4,
  "vscode": {
   "interpreter": {
    "hash": "d3d303814ca5ff286526fa90e0ab70cd661e2119bac7791e3f542b984082dd37"
   }
  }
 },
 "nbformat": 4,
 "nbformat_minor": 2
}
