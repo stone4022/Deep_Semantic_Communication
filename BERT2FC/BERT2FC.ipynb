{
 "cells": [
  {
   "cell_type": "code",
   "execution_count": 1,
   "metadata": {},
   "outputs": [
    {
     "name": "stderr",
     "output_type": "stream",
     "text": [
      "Some weights of the model checkpoint at bert-base-uncased were not used when initializing BertModel: ['cls.predictions.transform.LayerNorm.weight', 'cls.seq_relationship.weight', 'cls.predictions.bias', 'cls.predictions.transform.LayerNorm.bias', 'cls.predictions.transform.dense.bias', 'cls.predictions.transform.dense.weight', 'cls.seq_relationship.bias', 'cls.predictions.decoder.weight']\n",
      "- This IS expected if you are initializing BertModel from the checkpoint of a model trained on another task or with another architecture (e.g. initializing a BertForSequenceClassification model from a BertForPreTraining model).\n",
      "- This IS NOT expected if you are initializing BertModel from the checkpoint of a model that you expect to be exactly identical (initializing a BertForSequenceClassification model from a BertForSequenceClassification model).\n"
     ]
    },
    {
     "name": "stdout",
     "output_type": "stream",
     "text": [
      "../checkpoints/BERT2FC/lr=1e-5\\checkpoint_20.pth\n",
      "model load!\n"
     ]
    },
    {
     "name": "stderr",
     "output_type": "stream",
     "text": [
      "Epoch: 21;  Type: Train; Loss: 0.27122: 100%|██████████| 3348/3348 [07:19<00:00,  7.61it/s]\n",
      "Epoch: 21; Type: VAL; Loss: 0.19371: 100%|██████████| 372/372 [00:12<00:00, 30.41it/s]\n"
     ]
    },
    {
     "name": "stdout",
     "output_type": "stream",
     "text": [
      "Validation loss decreased (inf --> 0.325411).  Saving model ...\n"
     ]
    },
    {
     "name": "stderr",
     "output_type": "stream",
     "text": [
      "Epoch: 22;  Type: Train; Loss: 0.16995: 100%|██████████| 3348/3348 [07:10<00:00,  7.78it/s]\n",
      "Epoch: 22; Type: VAL; Loss: 0.19358: 100%|██████████| 372/372 [00:12<00:00, 30.39it/s]\n"
     ]
    },
    {
     "name": "stdout",
     "output_type": "stream",
     "text": [
      "Validation loss decreased (0.325411 --> 0.324935).  Saving model ...\n"
     ]
    },
    {
     "name": "stderr",
     "output_type": "stream",
     "text": [
      "Epoch: 23;  Type: Train; Loss: 0.38838: 100%|██████████| 3348/3348 [07:09<00:00,  7.79it/s]\n",
      "Epoch: 23; Type: VAL; Loss: 0.19326: 100%|██████████| 372/372 [00:12<00:00, 30.47it/s]\n"
     ]
    },
    {
     "name": "stdout",
     "output_type": "stream",
     "text": [
      "Validation loss decreased (0.324935 --> 0.324311).  Saving model ...\n"
     ]
    },
    {
     "name": "stderr",
     "output_type": "stream",
     "text": [
      "Epoch: 24;  Type: Train; Loss: 0.40882: 100%|██████████| 3348/3348 [07:10<00:00,  7.78it/s]\n",
      "Epoch: 24; Type: VAL; Loss: 0.19297: 100%|██████████| 372/372 [00:12<00:00, 30.40it/s]\n"
     ]
    },
    {
     "name": "stdout",
     "output_type": "stream",
     "text": [
      "Validation loss decreased (0.324311 --> 0.323827).  Saving model ...\n"
     ]
    },
    {
     "name": "stderr",
     "output_type": "stream",
     "text": [
      "Epoch: 25;  Type: Train; Loss: 0.28789: 100%|██████████| 3348/3348 [07:10<00:00,  7.78it/s]\n",
      "Epoch: 25; Type: VAL; Loss: 0.19307: 100%|██████████| 372/372 [00:12<00:00, 30.45it/s]\n"
     ]
    },
    {
     "name": "stdout",
     "output_type": "stream",
     "text": [
      "Validation loss decreased (0.323827 --> 0.323389).  Saving model ...\n"
     ]
    },
    {
     "name": "stderr",
     "output_type": "stream",
     "text": [
      "Epoch: 26;  Type: Train; Loss: 0.37825: 100%|██████████| 3348/3348 [07:10<00:00,  7.78it/s]\n",
      "Epoch: 26; Type: VAL; Loss: 0.19259: 100%|██████████| 372/372 [00:12<00:00, 30.46it/s]\n"
     ]
    },
    {
     "name": "stdout",
     "output_type": "stream",
     "text": [
      "Validation loss decreased (0.323389 --> 0.322940).  Saving model ...\n"
     ]
    },
    {
     "name": "stderr",
     "output_type": "stream",
     "text": [
      "Epoch: 27;  Type: Train; Loss: 0.38536: 100%|██████████| 3348/3348 [07:10<00:00,  7.79it/s]\n",
      "Epoch: 27; Type: VAL; Loss: 0.19285: 100%|██████████| 372/372 [00:12<00:00, 30.44it/s]\n"
     ]
    },
    {
     "name": "stdout",
     "output_type": "stream",
     "text": [
      "Validation loss decreased (0.322940 --> 0.322408).  Saving model ...\n"
     ]
    },
    {
     "name": "stderr",
     "output_type": "stream",
     "text": [
      "Epoch: 28;  Type: Train; Loss: 0.47938:  92%|█████████▏| 3070/3348 [08:58<00:48,  5.70it/s]\n"
     ]
    },
    {
     "ename": "KeyboardInterrupt",
     "evalue": "",
     "output_type": "error",
     "traceback": [
      "\u001b[1;31m---------------------------------------------------------------------------\u001b[0m",
      "\u001b[1;31mKeyboardInterrupt\u001b[0m                         Traceback (most recent call last)",
      "\u001b[1;32mc:\\Users\\stone4022\\Downloads\\DeepSC-master_bart\\BERT2FC\\BERT2FC.ipynb Cell 1\u001b[0m in \u001b[0;36m<cell line: 79>\u001b[1;34m()\u001b[0m\n\u001b[0;32m    <a href='vscode-notebook-cell:/c%3A/Users/stone4022/Downloads/DeepSC-master_bart/BERT2FC/BERT2FC.ipynb#W0sZmlsZQ%3D%3D?line=126'>127</a>\u001b[0m \u001b[39mfor\u001b[39;00m epoch \u001b[39min\u001b[39;00m \u001b[39mrange\u001b[39m(\u001b[39m21\u001b[39m , \u001b[39m21\u001b[39m \u001b[39m+\u001b[39m args\u001b[39m.\u001b[39mepochs):\n\u001b[0;32m    <a href='vscode-notebook-cell:/c%3A/Users/stone4022/Downloads/DeepSC-master_bart/BERT2FC/BERT2FC.ipynb#W0sZmlsZQ%3D%3D?line=128'>129</a>\u001b[0m     start \u001b[39m=\u001b[39m time\u001b[39m.\u001b[39mtime()\n\u001b[1;32m--> <a href='vscode-notebook-cell:/c%3A/Users/stone4022/Downloads/DeepSC-master_bart/BERT2FC/BERT2FC.ipynb#W0sZmlsZQ%3D%3D?line=129'>130</a>\u001b[0m     train(epoch, args, deepsc_bert2fc)\n\u001b[0;32m    <a href='vscode-notebook-cell:/c%3A/Users/stone4022/Downloads/DeepSC-master_bart/BERT2FC/BERT2FC.ipynb#W0sZmlsZQ%3D%3D?line=130'>131</a>\u001b[0m     avg_acc \u001b[39m=\u001b[39m validate(epoch, args, deepsc_bert2fc)\n\u001b[0;32m    <a href='vscode-notebook-cell:/c%3A/Users/stone4022/Downloads/DeepSC-master_bart/BERT2FC/BERT2FC.ipynb#W0sZmlsZQ%3D%3D?line=132'>133</a>\u001b[0m     \u001b[39mif\u001b[39;00m record_acc \u001b[39m>\u001b[39m\u001b[39m=\u001b[39m avg_acc:\n",
      "\u001b[1;32mc:\\Users\\stone4022\\Downloads\\DeepSC-master_bart\\BERT2FC\\BERT2FC.ipynb Cell 1\u001b[0m in \u001b[0;36mtrain\u001b[1;34m(epoch, args, net)\u001b[0m\n\u001b[0;32m     <a href='vscode-notebook-cell:/c%3A/Users/stone4022/Downloads/DeepSC-master_bart/BERT2FC/BERT2FC.ipynb#W0sZmlsZQ%3D%3D?line=70'>71</a>\u001b[0m \u001b[39mfor\u001b[39;00m sents \u001b[39min\u001b[39;00m pbar:\n\u001b[0;32m     <a href='vscode-notebook-cell:/c%3A/Users/stone4022/Downloads/DeepSC-master_bart/BERT2FC/BERT2FC.ipynb#W0sZmlsZQ%3D%3D?line=71'>72</a>\u001b[0m     sents \u001b[39m=\u001b[39m sents\u001b[39m.\u001b[39mto(device)\n\u001b[1;32m---> <a href='vscode-notebook-cell:/c%3A/Users/stone4022/Downloads/DeepSC-master_bart/BERT2FC/BERT2FC.ipynb#W0sZmlsZQ%3D%3D?line=72'>73</a>\u001b[0m     loss \u001b[39m=\u001b[39m train_step_bart2fc(net, sents, sents, noise_std[\u001b[39m0\u001b[39;49m], pad_idx, opt, criterion, args\u001b[39m.\u001b[39;49mchannel)\n\u001b[0;32m     <a href='vscode-notebook-cell:/c%3A/Users/stone4022/Downloads/DeepSC-master_bart/BERT2FC/BERT2FC.ipynb#W0sZmlsZQ%3D%3D?line=73'>74</a>\u001b[0m     pbar\u001b[39m.\u001b[39mset_description(\u001b[39m'\u001b[39m\u001b[39mEpoch: \u001b[39m\u001b[39m{}\u001b[39;00m\u001b[39m;  Type: Train; Loss: \u001b[39m\u001b[39m{:.5f}\u001b[39;00m\u001b[39m'\u001b[39m\u001b[39m.\u001b[39mformat(epoch, loss))\n",
      "File \u001b[1;32mc:\\Users\\stone4022\\Downloads\\DeepSC-master_bart\\BERT2FC\\..\\utils.py:451\u001b[0m, in \u001b[0;36mtrain_step_bart2fc\u001b[1;34m(model, src, trg, n_var, pad, opt, criterion, channel)\u001b[0m\n\u001b[0;32m    448\u001b[0m loss\u001b[39m.\u001b[39mbackward()\n\u001b[0;32m    449\u001b[0m opt\u001b[39m.\u001b[39mstep()\n\u001b[1;32m--> 451\u001b[0m \u001b[39mreturn\u001b[39;00m loss\u001b[39m.\u001b[39;49mitem()\n",
      "\u001b[1;31mKeyboardInterrupt\u001b[0m: "
     ]
    }
   ],
   "source": [
    "import os\n",
    "import argparse\n",
    "import time\n",
    "import json\n",
    "import torch\n",
    "import random\n",
    "import torch.nn as nn\n",
    "import numpy as np\n",
    "from dataset_BERT import EurDataset, collate_data\n",
    "import sys \n",
    "sys.path.append(\"..\") \n",
    "from models.BERT2FC import DeepSC_BERT2FC\n",
    "from utils import SNR_to_noise, initNetParams, train_step_bart2fc, val_step_bart2fc, NoamOpt, EarlyStopping\n",
    "from torch.utils.data import DataLoader\n",
    "from torch.utils.tensorboard import SummaryWriter\n",
    "from tqdm import tqdm\n",
    "\n",
    "parser = argparse.ArgumentParser()\n",
    "parser.add_argument('--data-dir', default='../data/BERT/train_data.pkl', type=str)\n",
    "parser.add_argument('--checkpoint-path', default='../checkpoints/BERT2FC/lr=1e-5', type=str)\n",
    "parser.add_argument('--channel', default='TEST', type=str, help='Please choose AWGN, Rayleigh, and Rician')\n",
    "parser.add_argument('--MAX-LENGTH', default=70, type=int)\n",
    "parser.add_argument('--batch-size', default=32, type=int)\n",
    "parser.add_argument('--epochs', default=400, type=int)\n",
    "parser.add_argument('--resume', default=True, type=bool)\n",
    "parser.add_argument('--Test_epochs', default=1, type=int)\n",
    "device = torch.device(\"cuda:0\" if torch.cuda.is_available() else \"cpu\")\n",
    "\n",
    "\n",
    "def setup_seed(seed):\n",
    "    torch.manual_seed(seed)\n",
    "    torch.cuda.manual_seed_all(seed)\n",
    "    np.random.seed(seed)\n",
    "    random.seed(seed)\n",
    "    torch.backends.cudnn.deterministic = True\n",
    "\n",
    "\n",
    "def validate(epoch, args, net):\n",
    "    test_eur = EurDataset('test')\n",
    "    test_iterator = DataLoader(test_eur, batch_size=args.batch_size, num_workers=0,\n",
    "                               pin_memory=True, collate_fn=collate_data)\n",
    "    net.eval()\n",
    "    pbar = tqdm(test_iterator)\n",
    "    total = 0\n",
    "\n",
    "    with torch.no_grad():\n",
    "        for sents in pbar:\n",
    "\n",
    "            sents = sents.to(device)\n",
    "            loss = val_step_bart2fc(net, sents, sents, 0.1, pad_idx, criterion, args.channel)\n",
    "            total += loss\n",
    "            pbar.set_description('Epoch: {}; Type: VAL; Loss: {:.5f}'.format(epoch, loss))\n",
    "    \n",
    "    early_stopping(total / len(test_iterator), net)\n",
    "    if early_stopping.early_stop:\n",
    "        sys.exit(\"Early stopping\")   \n",
    "\n",
    "    #val_loss.add_scalar(\"VAL loss\", loss, epoch)\n",
    "    return total / len(test_iterator)\n",
    "\n",
    "\n",
    "def train(epoch, args, net):\n",
    "    train_eur = EurDataset('train')\n",
    "    train_iterator = DataLoader(train_eur, batch_size=args.batch_size, num_workers=0, shuffle=True,\n",
    "                                pin_memory=True, collate_fn=collate_data)\n",
    "    pbar = tqdm(train_iterator)\n",
    "\n",
    "    noise_std = np.random.uniform(SNR_to_noise(5), SNR_to_noise(10), size=(1))\n",
    "\n",
    "    for sents in pbar:\n",
    "        sents = sents.to(device)\n",
    "        loss = train_step_bart2fc(net, sents, sents, noise_std[0], pad_idx, opt, criterion, args.channel)\n",
    "        pbar.set_description('Epoch: {};  Type: Train; Loss: {:.5f}'.format(epoch, loss))\n",
    "            \n",
    "    #tra_loss.add_scalar(\"Train loss\", loss, epoch)\n",
    "\n",
    "\n",
    "if __name__ == '__main__':\n",
    "\n",
    "    #val_loss = SummaryWriter(\"logs/BART2FC/origin\")\n",
    "    #tra_loss = SummaryWriter(\"logs/BART2FC/origin\")\n",
    "    setup_seed(42)\n",
    "    args = parser.parse_args(args=[])\n",
    "\n",
    "    start_idx = 101\n",
    "    pad_idx = 0\n",
    "    end_idx = 102\n",
    "\n",
    "    \"\"\" define optimizer and loss function \"\"\"\n",
    "\n",
    "    vocab_size = 30522\n",
    "    deepsc_bert2fc = DeepSC_BERT2FC(vocab_size).to(device)\n",
    "    early_stopping = EarlyStopping(args.checkpoint_path + '/best')\n",
    "\n",
    "    \"\"\" load existed model\"\"\"\n",
    "    if args.resume:\n",
    "        model_paths = []\n",
    "        for fn in os.listdir(args.checkpoint_path):\n",
    "            if not fn.endswith('.pth'): continue\n",
    "            idx = int(os.path.splitext(fn)[0].split('_')[-1])  # read the idx of image\n",
    "            model_paths.append((os.path.join(args.checkpoint_path, fn), idx))\n",
    "\n",
    "        model_paths.sort(key=lambda x: x[1])  # sort the image by the idx\n",
    "        model_path, _ = model_paths[-1]\n",
    "        print(model_path)\n",
    "        checkpoint = torch.load(model_path, map_location='cpu')\n",
    "        deepsc_bert2fc.load_state_dict(checkpoint,strict=False)\n",
    "        print('model load!')\n",
    "    else:\n",
    "        print('no existed checkpoint')\n",
    "        for p in deepsc_bert2fc.quantization.parameters():\n",
    "            if p.dim() > 1:\n",
    "                nn.init.xavier_uniform_(p) \n",
    "        for p in deepsc_bert2fc.dequantization.parameters():\n",
    "            if p.dim() > 1:\n",
    "                nn.init.xavier_uniform_(p) \n",
    "        for p in deepsc_bert2fc.dense.parameters():\n",
    "            if p.dim() > 1:\n",
    "                nn.init.xavier_uniform_(p) \n",
    " \n",
    "    criterion = nn.CrossEntropyLoss(reduction='none')\n",
    "    opt = torch.optim.Adam(deepsc_bert2fc.parameters(), lr=1e-6, betas=(0.9, 0.98), eps=1e-8, weight_decay=5e-4)\n",
    "    # opt = NoamOpt(768, 1, 20000, optimizer)\n",
    "\n",
    "    record_acc = 10\n",
    "    for epoch in range(21 , 21 + args.epochs):\n",
    "\n",
    "        start = time.time()\n",
    "        train(epoch, args, deepsc_bert2fc)\n",
    "        avg_acc = validate(epoch, args, deepsc_bert2fc)\n",
    "\n",
    "        if record_acc >= avg_acc:\n",
    "            record_acc = avg_acc\n",
    "            if not os.path.exists(args.checkpoint_path):\n",
    "                os.makedirs(args.checkpoint_path)\n",
    "            with open(args.checkpoint_path + '/checkpoint_{}.pth'.format(str(epoch).zfill(2)), 'wb') as f:\n",
    "                torch.save(deepsc_bert2fc.state_dict(), f)\n",
    "                # bleu_score1, bleu_score2, bleu_score3, bleu_score4 = \\\n",
    "                #     performance(args, [0], deepsc_vqvae, token_to_idx, pad_idx, start_idx, end_idx)\n",
    "                # print(bleu_score1, bleu_score2, bleu_score3, bleu_score4)\n",
    "\n",
    "    #val_loss.close()\n",
    "    #tra_loss.close()\n"
   ]
  }
 ],
 "metadata": {
  "kernelspec": {
   "display_name": "base",
   "language": "python",
   "name": "python3"
  },
  "language_info": {
   "codemirror_mode": {
    "name": "ipython",
    "version": 3
   },
   "file_extension": ".py",
   "mimetype": "text/x-python",
   "name": "python",
   "nbconvert_exporter": "python",
   "pygments_lexer": "ipython3",
   "version": "3.9.12 (main, Apr  4 2022, 05:22:27) [MSC v.1916 64 bit (AMD64)]"
  },
  "orig_nbformat": 4,
  "vscode": {
   "interpreter": {
    "hash": "d3d303814ca5ff286526fa90e0ab70cd661e2119bac7791e3f542b984082dd37"
   }
  }
 },
 "nbformat": 4,
 "nbformat_minor": 2
}
