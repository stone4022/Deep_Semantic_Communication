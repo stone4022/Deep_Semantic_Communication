{
 "cells": [
  {
   "cell_type": "code",
   "execution_count": 1,
   "metadata": {},
   "outputs": [
    {
     "name": "stderr",
     "output_type": "stream",
     "text": [
      "Some weights of the model checkpoint at bert-base-uncased were not used when initializing BertModel: ['cls.seq_relationship.bias', 'cls.predictions.transform.dense.bias', 'cls.predictions.decoder.weight', 'cls.seq_relationship.weight', 'cls.predictions.transform.LayerNorm.weight', 'cls.predictions.bias', 'cls.predictions.transform.dense.weight', 'cls.predictions.transform.LayerNorm.bias']\n",
      "- This IS expected if you are initializing BertModel from the checkpoint of a model trained on another task or with another architecture (e.g. initializing a BertForSequenceClassification model from a BertForPreTraining model).\n",
      "- This IS NOT expected if you are initializing BertModel from the checkpoint of a model that you expect to be exactly identical (initializing a BertForSequenceClassification model from a BertForSequenceClassification model).\n"
     ]
    },
    {
     "name": "stdout",
     "output_type": "stream",
     "text": [
      "../checkpoints/BERT2FC/lr=1e-5\\checkpoint_58.pth\n",
      "model load!\n"
     ]
    },
    {
     "name": "stderr",
     "output_type": "stream",
     "text": [
      "Epoch: 59;  Type: Train; Loss: 0.26722: 100%|██████████| 3348/3348 [07:11<00:00,  7.76it/s]\n",
      "Epoch: 59; Type: VAL; Loss: 0.19158: 100%|██████████| 372/372 [00:12<00:00, 30.65it/s]\n"
     ]
    },
    {
     "name": "stdout",
     "output_type": "stream",
     "text": [
      "Validation loss decreased (inf --> 0.320481).  Saving model ...\n"
     ]
    },
    {
     "name": "stderr",
     "output_type": "stream",
     "text": [
      "Epoch: 60;  Type: Train; Loss: 0.16601: 100%|██████████| 3348/3348 [07:07<00:00,  7.83it/s]\n",
      "Epoch: 60; Type: VAL; Loss: 0.19153: 100%|██████████| 372/372 [00:12<00:00, 30.60it/s]\n"
     ]
    },
    {
     "name": "stdout",
     "output_type": "stream",
     "text": [
      "Validation loss decreased (0.320481 --> 0.320406).  Saving model ...\n"
     ]
    },
    {
     "name": "stderr",
     "output_type": "stream",
     "text": [
      "Epoch: 61;  Type: Train; Loss: 0.38498: 100%|██████████| 3348/3348 [09:04<00:00,  6.14it/s]  \n",
      "Epoch: 61; Type: VAL; Loss: 0.19149: 100%|██████████| 372/372 [00:18<00:00, 19.76it/s]\n"
     ]
    },
    {
     "name": "stdout",
     "output_type": "stream",
     "text": [
      "Validation loss decreased (0.320406 --> 0.320365).  Saving model ...\n"
     ]
    },
    {
     "name": "stderr",
     "output_type": "stream",
     "text": [
      "Epoch: 62;  Type: Train; Loss: 0.40673: 100%|██████████| 3348/3348 [09:20<00:00,  5.97it/s]\n",
      "Epoch: 62; Type: VAL; Loss: 0.19146: 100%|██████████| 372/372 [00:18<00:00, 19.68it/s]\n"
     ]
    },
    {
     "name": "stdout",
     "output_type": "stream",
     "text": [
      "Validation loss decreased (0.320365 --> 0.320280).  Saving model ...\n"
     ]
    },
    {
     "name": "stderr",
     "output_type": "stream",
     "text": [
      "Epoch: 63;  Type: Train; Loss: 0.28512: 100%|██████████| 3348/3348 [09:07<00:00,  6.12it/s]\n",
      "Epoch: 63; Type: VAL; Loss: 0.19149: 100%|██████████| 372/372 [00:18<00:00, 20.37it/s]\n"
     ]
    },
    {
     "name": "stdout",
     "output_type": "stream",
     "text": [
      "Validation loss decreased (0.320280 --> 0.320243).  Saving model ...\n"
     ]
    },
    {
     "name": "stderr",
     "output_type": "stream",
     "text": [
      "Epoch: 64;  Type: Train; Loss: 0.37635: 100%|██████████| 3348/3348 [08:23<00:00,  6.66it/s]\n",
      "Epoch: 64; Type: VAL; Loss: 0.19146: 100%|██████████| 372/372 [00:12<00:00, 28.70it/s]\n"
     ]
    },
    {
     "name": "stdout",
     "output_type": "stream",
     "text": [
      "Validation loss decreased (0.320243 --> 0.320183).  Saving model ...\n"
     ]
    },
    {
     "name": "stderr",
     "output_type": "stream",
     "text": [
      "Epoch: 65;  Type: Train; Loss: 0.38212: 100%|██████████| 3348/3348 [07:30<00:00,  7.44it/s]\n",
      "Epoch: 65; Type: VAL; Loss: 0.19143: 100%|██████████| 372/372 [00:12<00:00, 28.83it/s]\n"
     ]
    },
    {
     "name": "stdout",
     "output_type": "stream",
     "text": [
      "Validation loss decreased (0.320183 --> 0.320117).  Saving model ...\n"
     ]
    },
    {
     "name": "stderr",
     "output_type": "stream",
     "text": [
      "Epoch: 66;  Type: Train; Loss: 0.41750: 100%|██████████| 3348/3348 [07:31<00:00,  7.42it/s]\n",
      "Epoch: 66; Type: VAL; Loss: 0.19142: 100%|██████████| 372/372 [00:12<00:00, 28.69it/s]\n"
     ]
    },
    {
     "name": "stdout",
     "output_type": "stream",
     "text": [
      "Validation loss decreased (0.320117 --> 0.320056).  Saving model ...\n"
     ]
    },
    {
     "name": "stderr",
     "output_type": "stream",
     "text": [
      "Epoch: 67;  Type: Train; Loss: 0.36961: 100%|██████████| 3348/3348 [07:30<00:00,  7.44it/s]\n",
      "Epoch: 67; Type: VAL; Loss: 0.19136: 100%|██████████| 372/372 [00:12<00:00, 29.10it/s]\n"
     ]
    },
    {
     "name": "stdout",
     "output_type": "stream",
     "text": [
      "Validation loss decreased (0.320056 --> 0.320019).  Saving model ...\n"
     ]
    },
    {
     "name": "stderr",
     "output_type": "stream",
     "text": [
      "Epoch: 68;  Type: Train; Loss: 0.40806: 100%|██████████| 3348/3348 [07:28<00:00,  7.46it/s]\n",
      "Epoch: 68; Type: VAL; Loss: 0.19131: 100%|██████████| 372/372 [00:12<00:00, 29.04it/s]\n"
     ]
    },
    {
     "name": "stdout",
     "output_type": "stream",
     "text": [
      "Validation loss decreased (0.320019 --> 0.319940).  Saving model ...\n"
     ]
    },
    {
     "name": "stderr",
     "output_type": "stream",
     "text": [
      "Epoch: 69;  Type: Train; Loss: 0.43115: 100%|██████████| 3348/3348 [07:33<00:00,  7.38it/s]\n",
      "Epoch: 69; Type: VAL; Loss: 0.19132: 100%|██████████| 372/372 [00:12<00:00, 29.11it/s]\n"
     ]
    },
    {
     "name": "stdout",
     "output_type": "stream",
     "text": [
      "Validation loss decreased (0.319940 --> 0.319896).  Saving model ...\n"
     ]
    },
    {
     "name": "stderr",
     "output_type": "stream",
     "text": [
      "Epoch: 70;  Type: Train; Loss: 0.18340: 100%|██████████| 3348/3348 [07:29<00:00,  7.45it/s]\n",
      "Epoch: 70; Type: VAL; Loss: 0.19117: 100%|██████████| 372/372 [00:12<00:00, 29.00it/s]\n"
     ]
    },
    {
     "name": "stdout",
     "output_type": "stream",
     "text": [
      "Validation loss decreased (0.319896 --> 0.319836).  Saving model ...\n"
     ]
    },
    {
     "name": "stderr",
     "output_type": "stream",
     "text": [
      "Epoch: 71;  Type: Train; Loss: 0.38594: 100%|██████████| 3348/3348 [07:28<00:00,  7.46it/s]\n",
      "Epoch: 71; Type: VAL; Loss: 0.19116: 100%|██████████| 372/372 [00:12<00:00, 29.16it/s]\n"
     ]
    },
    {
     "name": "stdout",
     "output_type": "stream",
     "text": [
      "Validation loss decreased (0.319836 --> 0.319776).  Saving model ...\n"
     ]
    },
    {
     "name": "stderr",
     "output_type": "stream",
     "text": [
      "Epoch: 72;  Type: Train; Loss: 0.35711: 100%|██████████| 3348/3348 [07:29<00:00,  7.45it/s]\n",
      "Epoch: 72; Type: VAL; Loss: 0.19113: 100%|██████████| 372/372 [00:12<00:00, 29.08it/s]\n"
     ]
    },
    {
     "name": "stdout",
     "output_type": "stream",
     "text": [
      "Validation loss decreased (0.319776 --> 0.319706).  Saving model ...\n"
     ]
    },
    {
     "name": "stderr",
     "output_type": "stream",
     "text": [
      "Epoch: 73;  Type: Train; Loss: 0.35915: 100%|██████████| 3348/3348 [07:28<00:00,  7.46it/s]\n",
      "Epoch: 73; Type: VAL; Loss: 0.19103: 100%|██████████| 372/372 [00:12<00:00, 29.15it/s]\n"
     ]
    },
    {
     "name": "stdout",
     "output_type": "stream",
     "text": [
      "Validation loss decreased (0.319706 --> 0.319645).  Saving model ...\n"
     ]
    },
    {
     "name": "stderr",
     "output_type": "stream",
     "text": [
      "Epoch: 74;  Type: Train; Loss: 0.27266: 100%|██████████| 3348/3348 [07:29<00:00,  7.46it/s]\n",
      "Epoch: 74; Type: VAL; Loss: 0.19107: 100%|██████████| 372/372 [00:12<00:00, 29.15it/s]\n"
     ]
    },
    {
     "name": "stdout",
     "output_type": "stream",
     "text": [
      "Validation loss decreased (0.319645 --> 0.319586).  Saving model ...\n"
     ]
    },
    {
     "name": "stderr",
     "output_type": "stream",
     "text": [
      "Epoch: 75;  Type: Train; Loss: 0.32392: 100%|██████████| 3348/3348 [07:29<00:00,  7.45it/s]\n",
      "Epoch: 75; Type: VAL; Loss: 0.19103: 100%|██████████| 372/372 [00:12<00:00, 29.09it/s]\n"
     ]
    },
    {
     "name": "stdout",
     "output_type": "stream",
     "text": [
      "Validation loss decreased (0.319586 --> 0.319522).  Saving model ...\n"
     ]
    },
    {
     "name": "stderr",
     "output_type": "stream",
     "text": [
      "Epoch: 76;  Type: Train; Loss: 0.22060: 100%|██████████| 3348/3348 [07:29<00:00,  7.45it/s]\n",
      "Epoch: 76; Type: VAL; Loss: 0.19094: 100%|██████████| 372/372 [00:12<00:00, 29.08it/s]\n"
     ]
    },
    {
     "name": "stdout",
     "output_type": "stream",
     "text": [
      "Validation loss decreased (0.319522 --> 0.319437).  Saving model ...\n"
     ]
    },
    {
     "name": "stderr",
     "output_type": "stream",
     "text": [
      "Epoch: 77;  Type: Train; Loss: 0.23309: 100%|██████████| 3348/3348 [07:29<00:00,  7.45it/s]\n",
      "Epoch: 77; Type: VAL; Loss: 0.19088: 100%|██████████| 372/372 [00:12<00:00, 29.04it/s]\n"
     ]
    },
    {
     "name": "stdout",
     "output_type": "stream",
     "text": [
      "Validation loss decreased (0.319437 --> 0.319385).  Saving model ...\n"
     ]
    },
    {
     "name": "stderr",
     "output_type": "stream",
     "text": [
      "Epoch: 78;  Type: Train; Loss: 0.32661: 100%|██████████| 3348/3348 [07:29<00:00,  7.45it/s]\n",
      "Epoch: 78; Type: VAL; Loss: 0.19083: 100%|██████████| 372/372 [00:12<00:00, 29.09it/s]\n"
     ]
    },
    {
     "name": "stdout",
     "output_type": "stream",
     "text": [
      "Validation loss decreased (0.319385 --> 0.319306).  Saving model ...\n"
     ]
    },
    {
     "name": "stderr",
     "output_type": "stream",
     "text": [
      "Epoch: 79;  Type: Train; Loss: 0.47990: 100%|██████████| 3348/3348 [07:28<00:00,  7.46it/s]\n",
      "Epoch: 79; Type: VAL; Loss: 0.19080: 100%|██████████| 372/372 [00:12<00:00, 29.09it/s]\n"
     ]
    },
    {
     "name": "stdout",
     "output_type": "stream",
     "text": [
      "Validation loss decreased (0.319306 --> 0.319228).  Saving model ...\n"
     ]
    },
    {
     "name": "stderr",
     "output_type": "stream",
     "text": [
      "Epoch: 80;  Type: Train; Loss: 0.44327: 100%|██████████| 3348/3348 [07:29<00:00,  7.45it/s]\n",
      "Epoch: 80; Type: VAL; Loss: 0.19077: 100%|██████████| 372/372 [00:12<00:00, 29.12it/s]\n"
     ]
    },
    {
     "name": "stdout",
     "output_type": "stream",
     "text": [
      "Validation loss decreased (0.319228 --> 0.319184).  Saving model ...\n"
     ]
    },
    {
     "name": "stderr",
     "output_type": "stream",
     "text": [
      "Epoch: 81;  Type: Train; Loss: 0.23907: 100%|██████████| 3348/3348 [07:28<00:00,  7.46it/s]\n",
      "Epoch: 81; Type: VAL; Loss: 0.19069: 100%|██████████| 372/372 [00:12<00:00, 29.08it/s]\n"
     ]
    },
    {
     "name": "stdout",
     "output_type": "stream",
     "text": [
      "Validation loss decreased (0.319184 --> 0.319139).  Saving model ...\n"
     ]
    },
    {
     "name": "stderr",
     "output_type": "stream",
     "text": [
      "Epoch: 82;  Type: Train; Loss: 0.45165: 100%|██████████| 3348/3348 [07:28<00:00,  7.46it/s]\n",
      "Epoch: 82; Type: VAL; Loss: 0.19060: 100%|██████████| 372/372 [00:12<00:00, 29.11it/s]\n"
     ]
    },
    {
     "name": "stdout",
     "output_type": "stream",
     "text": [
      "Validation loss decreased (0.319139 --> 0.319059).  Saving model ...\n"
     ]
    },
    {
     "name": "stderr",
     "output_type": "stream",
     "text": [
      "Epoch: 83;  Type: Train; Loss: 0.33946: 100%|██████████| 3348/3348 [07:29<00:00,  7.46it/s]\n",
      "Epoch: 83; Type: VAL; Loss: 0.19057: 100%|██████████| 372/372 [00:12<00:00, 29.10it/s]\n"
     ]
    },
    {
     "name": "stdout",
     "output_type": "stream",
     "text": [
      "Validation loss decreased (0.319059 --> 0.319003).  Saving model ...\n"
     ]
    },
    {
     "name": "stderr",
     "output_type": "stream",
     "text": [
      "Epoch: 84;  Type: Train; Loss: 0.26187: 100%|██████████| 3348/3348 [07:28<00:00,  7.46it/s]\n",
      "Epoch: 84; Type: VAL; Loss: 0.19056: 100%|██████████| 372/372 [00:12<00:00, 29.11it/s]\n"
     ]
    },
    {
     "name": "stdout",
     "output_type": "stream",
     "text": [
      "Validation loss decreased (0.319003 --> 0.318927).  Saving model ...\n"
     ]
    },
    {
     "name": "stderr",
     "output_type": "stream",
     "text": [
      "Epoch: 85;  Type: Train; Loss: 0.57910: 100%|██████████| 3348/3348 [07:29<00:00,  7.45it/s]\n",
      "Epoch: 85; Type: VAL; Loss: 0.19042: 100%|██████████| 372/372 [00:12<00:00, 29.12it/s]\n"
     ]
    },
    {
     "name": "stdout",
     "output_type": "stream",
     "text": [
      "Validation loss decreased (0.318927 --> 0.318852).  Saving model ...\n"
     ]
    },
    {
     "name": "stderr",
     "output_type": "stream",
     "text": [
      "Epoch: 86;  Type: Train; Loss: 0.35204: 100%|██████████| 3348/3348 [07:28<00:00,  7.46it/s]\n",
      "Epoch: 86; Type: VAL; Loss: 0.19038: 100%|██████████| 372/372 [00:12<00:00, 29.13it/s]\n"
     ]
    },
    {
     "name": "stdout",
     "output_type": "stream",
     "text": [
      "Validation loss decreased (0.318852 --> 0.318777).  Saving model ...\n"
     ]
    },
    {
     "name": "stderr",
     "output_type": "stream",
     "text": [
      "Epoch: 87;  Type: Train; Loss: 0.39024: 100%|██████████| 3348/3348 [07:28<00:00,  7.46it/s]\n",
      "Epoch: 87; Type: VAL; Loss: 0.19039: 100%|██████████| 372/372 [00:12<00:00, 29.07it/s]\n"
     ]
    },
    {
     "name": "stdout",
     "output_type": "stream",
     "text": [
      "Validation loss decreased (0.318777 --> 0.318687).  Saving model ...\n"
     ]
    },
    {
     "name": "stderr",
     "output_type": "stream",
     "text": [
      "Epoch: 88;  Type: Train; Loss: 0.40445: 100%|██████████| 3348/3348 [07:29<00:00,  7.45it/s]\n",
      "Epoch: 88; Type: VAL; Loss: 0.19029: 100%|██████████| 372/372 [00:12<00:00, 29.07it/s]\n"
     ]
    },
    {
     "name": "stdout",
     "output_type": "stream",
     "text": [
      "Validation loss decreased (0.318687 --> 0.318628).  Saving model ...\n"
     ]
    },
    {
     "name": "stderr",
     "output_type": "stream",
     "text": [
      "Epoch: 89;  Type: Train; Loss: 0.19688: 100%|██████████| 3348/3348 [07:28<00:00,  7.46it/s]\n",
      "Epoch: 89; Type: VAL; Loss: 0.19030: 100%|██████████| 372/372 [00:12<00:00, 29.07it/s]\n"
     ]
    },
    {
     "name": "stdout",
     "output_type": "stream",
     "text": [
      "Validation loss decreased (0.318628 --> 0.318539).  Saving model ...\n"
     ]
    },
    {
     "name": "stderr",
     "output_type": "stream",
     "text": [
      "Epoch: 90;  Type: Train; Loss: 0.37332: 100%|██████████| 3348/3348 [07:28<00:00,  7.46it/s]\n",
      "Epoch: 90; Type: VAL; Loss: 0.19024: 100%|██████████| 372/372 [00:12<00:00, 29.13it/s]\n"
     ]
    },
    {
     "name": "stdout",
     "output_type": "stream",
     "text": [
      "Validation loss decreased (0.318539 --> 0.318444).  Saving model ...\n"
     ]
    },
    {
     "name": "stderr",
     "output_type": "stream",
     "text": [
      "Epoch: 91;  Type: Train; Loss: 0.37203: 100%|██████████| 3348/3348 [11:13<00:00,  4.97it/s]\n",
      "Epoch: 91; Type: VAL; Loss: 0.19022: 100%|██████████| 372/372 [00:18<00:00, 20.34it/s]\n"
     ]
    },
    {
     "name": "stdout",
     "output_type": "stream",
     "text": [
      "Validation loss decreased (0.318444 --> 0.318362).  Saving model ...\n"
     ]
    },
    {
     "name": "stderr",
     "output_type": "stream",
     "text": [
      "Epoch: 92;  Type: Train; Loss: 0.30657: 100%|██████████| 3348/3348 [08:56<00:00,  6.24it/s]\n",
      "Epoch: 92; Type: VAL; Loss: 0.19018: 100%|██████████| 372/372 [00:18<00:00, 19.88it/s]\n"
     ]
    },
    {
     "name": "stdout",
     "output_type": "stream",
     "text": [
      "Validation loss decreased (0.318362 --> 0.318267).  Saving model ...\n"
     ]
    },
    {
     "name": "stderr",
     "output_type": "stream",
     "text": [
      "Epoch: 93;  Type: Train; Loss: 0.30041: 100%|██████████| 3348/3348 [08:57<00:00,  6.23it/s]\n",
      "Epoch: 93; Type: VAL; Loss: 0.19017: 100%|██████████| 372/372 [00:18<00:00, 20.04it/s]\n"
     ]
    },
    {
     "name": "stdout",
     "output_type": "stream",
     "text": [
      "Validation loss decreased (0.318267 --> 0.318225).  Saving model ...\n"
     ]
    },
    {
     "name": "stderr",
     "output_type": "stream",
     "text": [
      "Epoch: 94;  Type: Train; Loss: 0.21289: 100%|██████████| 3348/3348 [08:44<00:00,  6.38it/s]\n",
      "Epoch: 94; Type: VAL; Loss: 0.19004: 100%|██████████| 372/372 [00:12<00:00, 28.75it/s]\n"
     ]
    },
    {
     "name": "stdout",
     "output_type": "stream",
     "text": [
      "Validation loss decreased (0.318225 --> 0.318109).  Saving model ...\n"
     ]
    },
    {
     "name": "stderr",
     "output_type": "stream",
     "text": [
      "Epoch: 95;  Type: Train; Loss: 0.39731: 100%|██████████| 3348/3348 [09:50<00:00,  5.67it/s] \n",
      "Epoch: 95; Type: VAL; Loss: 0.19001: 100%|██████████| 372/372 [00:18<00:00, 19.94it/s]\n"
     ]
    },
    {
     "name": "stdout",
     "output_type": "stream",
     "text": [
      "Validation loss decreased (0.318109 --> 0.318036).  Saving model ...\n"
     ]
    },
    {
     "name": "stderr",
     "output_type": "stream",
     "text": [
      "Epoch: 96;  Type: Train; Loss: 0.29546: 100%|██████████| 3348/3348 [08:57<00:00,  6.23it/s]\n",
      "Epoch: 96; Type: VAL; Loss: 0.18996: 100%|██████████| 372/372 [00:18<00:00, 20.00it/s]\n"
     ]
    },
    {
     "name": "stdout",
     "output_type": "stream",
     "text": [
      "Validation loss decreased (0.318036 --> 0.317983).  Saving model ...\n"
     ]
    },
    {
     "name": "stderr",
     "output_type": "stream",
     "text": [
      "Epoch: 97;  Type: Train; Loss: 0.16927: 100%|██████████| 3348/3348 [08:57<00:00,  6.23it/s]\n",
      "Epoch: 97; Type: VAL; Loss: 0.18988: 100%|██████████| 372/372 [00:18<00:00, 20.04it/s]\n"
     ]
    },
    {
     "name": "stdout",
     "output_type": "stream",
     "text": [
      "Validation loss decreased (0.317983 --> 0.317848).  Saving model ...\n"
     ]
    },
    {
     "name": "stderr",
     "output_type": "stream",
     "text": [
      "Epoch: 98;  Type: Train; Loss: 0.27238: 100%|██████████| 3348/3348 [08:17<00:00,  6.73it/s]\n",
      "Epoch: 98; Type: VAL; Loss: 0.18986: 100%|██████████| 372/372 [00:12<00:00, 28.74it/s]\n"
     ]
    },
    {
     "name": "stdout",
     "output_type": "stream",
     "text": [
      "Validation loss decreased (0.317848 --> 0.317785).  Saving model ...\n"
     ]
    },
    {
     "name": "stderr",
     "output_type": "stream",
     "text": [
      "Epoch: 99;  Type: Train; Loss: 0.41429: 100%|██████████| 3348/3348 [07:28<00:00,  7.46it/s]\n",
      "Epoch: 99; Type: VAL; Loss: 0.18978: 100%|██████████| 372/372 [00:12<00:00, 28.75it/s]\n"
     ]
    },
    {
     "name": "stdout",
     "output_type": "stream",
     "text": [
      "Validation loss decreased (0.317785 --> 0.317722).  Saving model ...\n"
     ]
    },
    {
     "name": "stderr",
     "output_type": "stream",
     "text": [
      "Epoch: 100;  Type: Train; Loss: 0.34385: 100%|██████████| 3348/3348 [07:27<00:00,  7.48it/s]\n",
      "Epoch: 100; Type: VAL; Loss: 0.18972: 100%|██████████| 372/372 [00:12<00:00, 28.86it/s]\n"
     ]
    },
    {
     "name": "stdout",
     "output_type": "stream",
     "text": [
      "Validation loss decreased (0.317722 --> 0.317618).  Saving model ...\n"
     ]
    },
    {
     "name": "stderr",
     "output_type": "stream",
     "text": [
      "Epoch: 101;  Type: Train; Loss: 0.36914: 100%|██████████| 3348/3348 [07:27<00:00,  7.48it/s]\n",
      "Epoch: 101; Type: VAL; Loss: 0.18962: 100%|██████████| 372/372 [00:12<00:00, 28.84it/s]\n"
     ]
    },
    {
     "name": "stdout",
     "output_type": "stream",
     "text": [
      "Validation loss decreased (0.317618 --> 0.317548).  Saving model ...\n"
     ]
    },
    {
     "name": "stderr",
     "output_type": "stream",
     "text": [
      "Epoch: 102;  Type: Train; Loss: 0.45098: 100%|██████████| 3348/3348 [07:27<00:00,  7.48it/s]\n",
      "Epoch: 102; Type: VAL; Loss: 0.18952: 100%|██████████| 372/372 [00:12<00:00, 28.81it/s]\n"
     ]
    },
    {
     "name": "stdout",
     "output_type": "stream",
     "text": [
      "Validation loss decreased (0.317548 --> 0.317413).  Saving model ...\n"
     ]
    },
    {
     "name": "stderr",
     "output_type": "stream",
     "text": [
      "Epoch: 103;  Type: Train; Loss: 0.23027: 100%|██████████| 3348/3348 [07:25<00:00,  7.51it/s]\n",
      "Epoch: 103; Type: VAL; Loss: 0.18955: 100%|██████████| 372/372 [00:12<00:00, 29.23it/s]\n"
     ]
    },
    {
     "name": "stdout",
     "output_type": "stream",
     "text": [
      "Validation loss decreased (0.317413 --> 0.317348).  Saving model ...\n"
     ]
    },
    {
     "name": "stderr",
     "output_type": "stream",
     "text": [
      "Epoch: 104;  Type: Train; Loss: 0.23454: 100%|██████████| 3348/3348 [07:25<00:00,  7.51it/s]\n",
      "Epoch: 104; Type: VAL; Loss: 0.18942: 100%|██████████| 372/372 [00:12<00:00, 29.27it/s]\n"
     ]
    },
    {
     "name": "stdout",
     "output_type": "stream",
     "text": [
      "Validation loss decreased (0.317348 --> 0.317257).  Saving model ...\n"
     ]
    },
    {
     "name": "stderr",
     "output_type": "stream",
     "text": [
      "Epoch: 105;  Type: Train; Loss: 0.19849: 100%|██████████| 3348/3348 [07:25<00:00,  7.52it/s]\n",
      "Epoch: 105; Type: VAL; Loss: 0.18944: 100%|██████████| 372/372 [00:12<00:00, 29.26it/s]\n"
     ]
    },
    {
     "name": "stdout",
     "output_type": "stream",
     "text": [
      "Validation loss decreased (0.317257 --> 0.317173).  Saving model ...\n"
     ]
    },
    {
     "name": "stderr",
     "output_type": "stream",
     "text": [
      "Epoch: 106;  Type: Train; Loss: 0.39641: 100%|██████████| 3348/3348 [07:25<00:00,  7.51it/s]\n",
      "Epoch: 106; Type: VAL; Loss: 0.18934: 100%|██████████| 372/372 [00:12<00:00, 29.30it/s]\n"
     ]
    },
    {
     "name": "stdout",
     "output_type": "stream",
     "text": [
      "Validation loss decreased (0.317173 --> 0.317100).  Saving model ...\n"
     ]
    },
    {
     "name": "stderr",
     "output_type": "stream",
     "text": [
      "Epoch: 107;  Type: Train; Loss: 0.36268: 100%|██████████| 3348/3348 [07:25<00:00,  7.52it/s]\n",
      "Epoch: 107; Type: VAL; Loss: 0.18933: 100%|██████████| 372/372 [00:12<00:00, 29.29it/s]\n"
     ]
    },
    {
     "name": "stdout",
     "output_type": "stream",
     "text": [
      "Validation loss decreased (0.317100 --> 0.316997).  Saving model ...\n"
     ]
    },
    {
     "name": "stderr",
     "output_type": "stream",
     "text": [
      "Epoch: 108;  Type: Train; Loss: 0.34777: 100%|██████████| 3348/3348 [07:25<00:00,  7.51it/s]\n",
      "Epoch: 108; Type: VAL; Loss: 0.18926: 100%|██████████| 372/372 [00:12<00:00, 29.34it/s]\n"
     ]
    },
    {
     "name": "stdout",
     "output_type": "stream",
     "text": [
      "Validation loss decreased (0.316997 --> 0.316915).  Saving model ...\n"
     ]
    },
    {
     "name": "stderr",
     "output_type": "stream",
     "text": [
      "Epoch: 109;  Type: Train; Loss: 0.45659: 100%|██████████| 3348/3348 [07:25<00:00,  7.51it/s]\n",
      "Epoch: 109; Type: VAL; Loss: 0.18922: 100%|██████████| 372/372 [00:12<00:00, 29.34it/s]\n"
     ]
    },
    {
     "name": "stdout",
     "output_type": "stream",
     "text": [
      "Validation loss decreased (0.316915 --> 0.316849).  Saving model ...\n"
     ]
    },
    {
     "name": "stderr",
     "output_type": "stream",
     "text": [
      "Epoch: 110;  Type: Train; Loss: 0.40813: 100%|██████████| 3348/3348 [07:25<00:00,  7.51it/s]\n",
      "Epoch: 110; Type: VAL; Loss: 0.18925: 100%|██████████| 372/372 [00:12<00:00, 29.23it/s]\n"
     ]
    },
    {
     "name": "stdout",
     "output_type": "stream",
     "text": [
      "Validation loss decreased (0.316849 --> 0.316735).  Saving model ...\n"
     ]
    },
    {
     "name": "stderr",
     "output_type": "stream",
     "text": [
      "Epoch: 111;  Type: Train; Loss: 0.37465: 100%|██████████| 3348/3348 [07:25<00:00,  7.52it/s]\n",
      "Epoch: 111; Type: VAL; Loss: 0.18911: 100%|██████████| 372/372 [00:12<00:00, 29.21it/s]\n"
     ]
    },
    {
     "name": "stdout",
     "output_type": "stream",
     "text": [
      "Validation loss decreased (0.316735 --> 0.316661).  Saving model ...\n"
     ]
    },
    {
     "name": "stderr",
     "output_type": "stream",
     "text": [
      "Epoch: 112;  Type: Train; Loss: 0.28212: 100%|██████████| 3348/3348 [07:25<00:00,  7.51it/s]\n",
      "Epoch: 112; Type: VAL; Loss: 0.18905: 100%|██████████| 372/372 [00:12<00:00, 29.19it/s]\n"
     ]
    },
    {
     "name": "stdout",
     "output_type": "stream",
     "text": [
      "Validation loss decreased (0.316661 --> 0.316581).  Saving model ...\n"
     ]
    },
    {
     "name": "stderr",
     "output_type": "stream",
     "text": [
      "Epoch: 113;  Type: Train; Loss: 0.37316: 100%|██████████| 3348/3348 [07:25<00:00,  7.52it/s]\n",
      "Epoch: 113; Type: VAL; Loss: 0.18902: 100%|██████████| 372/372 [00:12<00:00, 29.24it/s]\n"
     ]
    },
    {
     "name": "stdout",
     "output_type": "stream",
     "text": [
      "Validation loss decreased (0.316581 --> 0.316484).  Saving model ...\n"
     ]
    },
    {
     "name": "stderr",
     "output_type": "stream",
     "text": [
      "Epoch: 114;  Type: Train; Loss: 0.36123: 100%|██████████| 3348/3348 [07:25<00:00,  7.51it/s]\n",
      "Epoch: 114; Type: VAL; Loss: 0.18899: 100%|██████████| 372/372 [00:12<00:00, 29.26it/s]\n"
     ]
    },
    {
     "name": "stdout",
     "output_type": "stream",
     "text": [
      "Validation loss decreased (0.316484 --> 0.316403).  Saving model ...\n"
     ]
    },
    {
     "name": "stderr",
     "output_type": "stream",
     "text": [
      "Epoch: 115;  Type: Train; Loss: 0.45432: 100%|██████████| 3348/3348 [07:26<00:00,  7.51it/s]\n",
      "Epoch: 115; Type: VAL; Loss: 0.18895: 100%|██████████| 372/372 [00:12<00:00, 29.21it/s]\n"
     ]
    },
    {
     "name": "stdout",
     "output_type": "stream",
     "text": [
      "Validation loss decreased (0.316403 --> 0.316353).  Saving model ...\n"
     ]
    },
    {
     "name": "stderr",
     "output_type": "stream",
     "text": [
      "Epoch: 116;  Type: Train; Loss: 0.35735: 100%|██████████| 3348/3348 [07:25<00:00,  7.51it/s]\n",
      "Epoch: 116; Type: VAL; Loss: 0.18890: 100%|██████████| 372/372 [00:12<00:00, 29.27it/s]\n"
     ]
    },
    {
     "name": "stdout",
     "output_type": "stream",
     "text": [
      "Validation loss decreased (0.316353 --> 0.316298).  Saving model ...\n"
     ]
    },
    {
     "name": "stderr",
     "output_type": "stream",
     "text": [
      "Epoch: 117;  Type: Train; Loss: 0.42354: 100%|██████████| 3348/3348 [07:26<00:00,  7.51it/s]\n",
      "Epoch: 117; Type: VAL; Loss: 0.18883: 100%|██████████| 372/372 [00:12<00:00, 29.24it/s]\n"
     ]
    },
    {
     "name": "stdout",
     "output_type": "stream",
     "text": [
      "Validation loss decreased (0.316298 --> 0.316205).  Saving model ...\n"
     ]
    },
    {
     "name": "stderr",
     "output_type": "stream",
     "text": [
      "Epoch: 118;  Type: Train; Loss: 0.22694: 100%|██████████| 3348/3348 [07:26<00:00,  7.50it/s]\n",
      "Epoch: 118; Type: VAL; Loss: 0.18881: 100%|██████████| 372/372 [00:12<00:00, 29.22it/s]\n"
     ]
    },
    {
     "name": "stdout",
     "output_type": "stream",
     "text": [
      "Validation loss decreased (0.316205 --> 0.316105).  Saving model ...\n"
     ]
    },
    {
     "name": "stderr",
     "output_type": "stream",
     "text": [
      "Epoch: 119;  Type: Train; Loss: 0.35471: 100%|██████████| 3348/3348 [07:25<00:00,  7.51it/s]\n",
      "Epoch: 119; Type: VAL; Loss: 0.18881: 100%|██████████| 372/372 [00:12<00:00, 29.27it/s]\n"
     ]
    },
    {
     "name": "stdout",
     "output_type": "stream",
     "text": [
      "Validation loss decreased (0.316105 --> 0.316024).  Saving model ...\n"
     ]
    },
    {
     "name": "stderr",
     "output_type": "stream",
     "text": [
      "Epoch: 120;  Type: Train; Loss: 0.36166: 100%|██████████| 3348/3348 [07:25<00:00,  7.51it/s]\n",
      "Epoch: 120; Type: VAL; Loss: 0.18882: 100%|██████████| 372/372 [00:12<00:00, 29.31it/s]\n"
     ]
    },
    {
     "name": "stdout",
     "output_type": "stream",
     "text": [
      "Validation loss decreased (0.316024 --> 0.315958).  Saving model ...\n"
     ]
    },
    {
     "name": "stderr",
     "output_type": "stream",
     "text": [
      "Epoch: 121;  Type: Train; Loss: 0.32246: 100%|██████████| 3348/3348 [07:25<00:00,  7.51it/s]\n",
      "Epoch: 121; Type: VAL; Loss: 0.18877: 100%|██████████| 372/372 [00:12<00:00, 29.21it/s]\n"
     ]
    },
    {
     "name": "stdout",
     "output_type": "stream",
     "text": [
      "Validation loss decreased (0.315958 --> 0.315880).  Saving model ...\n"
     ]
    },
    {
     "name": "stderr",
     "output_type": "stream",
     "text": [
      "Epoch: 122;  Type: Train; Loss: 0.23736: 100%|██████████| 3348/3348 [07:25<00:00,  7.52it/s]\n",
      "Epoch: 122; Type: VAL; Loss: 0.18877: 100%|██████████| 372/372 [00:12<00:00, 29.25it/s]\n"
     ]
    },
    {
     "name": "stdout",
     "output_type": "stream",
     "text": [
      "Validation loss decreased (0.315880 --> 0.315813).  Saving model ...\n"
     ]
    },
    {
     "name": "stderr",
     "output_type": "stream",
     "text": [
      "Epoch: 123;  Type: Train; Loss: 0.41548: 100%|██████████| 3348/3348 [07:25<00:00,  7.52it/s]\n",
      "Epoch: 123; Type: VAL; Loss: 0.18861: 100%|██████████| 372/372 [00:12<00:00, 29.29it/s]\n"
     ]
    },
    {
     "name": "stdout",
     "output_type": "stream",
     "text": [
      "Validation loss decreased (0.315813 --> 0.315732).  Saving model ...\n"
     ]
    },
    {
     "name": "stderr",
     "output_type": "stream",
     "text": [
      "Epoch: 124;  Type: Train; Loss: 0.35335: 100%|██████████| 3348/3348 [07:25<00:00,  7.51it/s]\n",
      "Epoch: 124; Type: VAL; Loss: 0.18874: 100%|██████████| 372/372 [00:12<00:00, 29.24it/s]\n"
     ]
    },
    {
     "name": "stdout",
     "output_type": "stream",
     "text": [
      "Validation loss decreased (0.315732 --> 0.315672).  Saving model ...\n"
     ]
    },
    {
     "name": "stderr",
     "output_type": "stream",
     "text": [
      "Epoch: 125;  Type: Train; Loss: 0.42665: 100%|██████████| 3348/3348 [07:25<00:00,  7.51it/s]\n",
      "Epoch: 125; Type: VAL; Loss: 0.18864: 100%|██████████| 372/372 [00:12<00:00, 29.20it/s]\n"
     ]
    },
    {
     "name": "stdout",
     "output_type": "stream",
     "text": [
      "Validation loss decreased (0.315672 --> 0.315585).  Saving model ...\n"
     ]
    },
    {
     "name": "stderr",
     "output_type": "stream",
     "text": [
      "Epoch: 126;  Type: Train; Loss: 0.35347: 100%|██████████| 3348/3348 [07:25<00:00,  7.52it/s]\n",
      "Epoch: 126; Type: VAL; Loss: 0.18855: 100%|██████████| 372/372 [00:12<00:00, 29.26it/s]\n"
     ]
    },
    {
     "name": "stdout",
     "output_type": "stream",
     "text": [
      "Validation loss decreased (0.315585 --> 0.315507).  Saving model ...\n"
     ]
    },
    {
     "name": "stderr",
     "output_type": "stream",
     "text": [
      "Epoch: 127;  Type: Train; Loss: 0.35756: 100%|██████████| 3348/3348 [07:25<00:00,  7.51it/s]\n",
      "Epoch: 127; Type: VAL; Loss: 0.18852: 100%|██████████| 372/372 [00:12<00:00, 29.23it/s]\n"
     ]
    },
    {
     "name": "stdout",
     "output_type": "stream",
     "text": [
      "Validation loss decreased (0.315507 --> 0.315452).  Saving model ...\n"
     ]
    },
    {
     "name": "stderr",
     "output_type": "stream",
     "text": [
      "Epoch: 128;  Type: Train; Loss: 0.33426: 100%|██████████| 3348/3348 [07:25<00:00,  7.51it/s]\n",
      "Epoch: 128; Type: VAL; Loss: 0.18845: 100%|██████████| 372/372 [00:12<00:00, 29.25it/s]\n"
     ]
    },
    {
     "name": "stdout",
     "output_type": "stream",
     "text": [
      "Validation loss decreased (0.315452 --> 0.315374).  Saving model ...\n"
     ]
    },
    {
     "name": "stderr",
     "output_type": "stream",
     "text": [
      "Epoch: 129;  Type: Train; Loss: 0.18018: 100%|██████████| 3348/3348 [07:25<00:00,  7.52it/s]\n",
      "Epoch: 129; Type: VAL; Loss: 0.18850: 100%|██████████| 372/372 [00:12<00:00, 29.24it/s]\n"
     ]
    },
    {
     "name": "stdout",
     "output_type": "stream",
     "text": [
      "Validation loss decreased (0.315374 --> 0.315345).  Saving model ...\n"
     ]
    },
    {
     "name": "stderr",
     "output_type": "stream",
     "text": [
      "Epoch: 130;  Type: Train; Loss: 0.29574: 100%|██████████| 3348/3348 [07:25<00:00,  7.51it/s]\n",
      "Epoch: 130; Type: VAL; Loss: 0.18836: 100%|██████████| 372/372 [00:12<00:00, 29.27it/s]\n"
     ]
    },
    {
     "name": "stdout",
     "output_type": "stream",
     "text": [
      "Validation loss decreased (0.315345 --> 0.315209).  Saving model ...\n"
     ]
    },
    {
     "name": "stderr",
     "output_type": "stream",
     "text": [
      "Epoch: 131;  Type: Train; Loss: 0.23848: 100%|██████████| 3348/3348 [07:25<00:00,  7.52it/s]\n",
      "Epoch: 131; Type: VAL; Loss: 0.18842: 100%|██████████| 372/372 [00:12<00:00, 29.31it/s]\n"
     ]
    },
    {
     "name": "stdout",
     "output_type": "stream",
     "text": [
      "Validation loss decreased (0.315209 --> 0.315167).  Saving model ...\n"
     ]
    },
    {
     "name": "stderr",
     "output_type": "stream",
     "text": [
      "Epoch: 132;  Type: Train; Loss: 0.23957: 100%|██████████| 3348/3348 [07:25<00:00,  7.51it/s]\n",
      "Epoch: 132; Type: VAL; Loss: 0.18827: 100%|██████████| 372/372 [00:12<00:00, 29.27it/s]\n"
     ]
    },
    {
     "name": "stdout",
     "output_type": "stream",
     "text": [
      "Validation loss decreased (0.315167 --> 0.315133).  Saving model ...\n"
     ]
    },
    {
     "name": "stderr",
     "output_type": "stream",
     "text": [
      "Epoch: 133;  Type: Train; Loss: 0.27320: 100%|██████████| 3348/3348 [07:25<00:00,  7.52it/s]\n",
      "Epoch: 133; Type: VAL; Loss: 0.18828: 100%|██████████| 372/372 [00:12<00:00, 29.28it/s]\n"
     ]
    },
    {
     "name": "stdout",
     "output_type": "stream",
     "text": [
      "Validation loss decreased (0.315133 --> 0.315040).  Saving model ...\n"
     ]
    },
    {
     "name": "stderr",
     "output_type": "stream",
     "text": [
      "Epoch: 134;  Type: Train; Loss: 0.27574: 100%|██████████| 3348/3348 [07:25<00:00,  7.51it/s]\n",
      "Epoch: 134; Type: VAL; Loss: 0.18831: 100%|██████████| 372/372 [00:12<00:00, 29.27it/s]\n"
     ]
    },
    {
     "name": "stdout",
     "output_type": "stream",
     "text": [
      "Validation loss decreased (0.315040 --> 0.314955).  Saving model ...\n"
     ]
    },
    {
     "name": "stderr",
     "output_type": "stream",
     "text": [
      "Epoch: 135;  Type: Train; Loss: 0.27830: 100%|██████████| 3348/3348 [07:25<00:00,  7.52it/s]\n",
      "Epoch: 135; Type: VAL; Loss: 0.18822: 100%|██████████| 372/372 [00:12<00:00, 29.27it/s]\n"
     ]
    },
    {
     "name": "stdout",
     "output_type": "stream",
     "text": [
      "Validation loss decreased (0.314955 --> 0.314899).  Saving model ...\n"
     ]
    },
    {
     "name": "stderr",
     "output_type": "stream",
     "text": [
      "Epoch: 136;  Type: Train; Loss: 0.32268: 100%|██████████| 3348/3348 [07:25<00:00,  7.51it/s]\n",
      "Epoch: 136; Type: VAL; Loss: 0.18822: 100%|██████████| 372/372 [00:12<00:00, 29.25it/s]\n"
     ]
    },
    {
     "name": "stdout",
     "output_type": "stream",
     "text": [
      "Validation loss decreased (0.314899 --> 0.314791).  Saving model ...\n"
     ]
    },
    {
     "name": "stderr",
     "output_type": "stream",
     "text": [
      "Epoch: 137;  Type: Train; Loss: 0.31262: 100%|██████████| 3348/3348 [07:25<00:00,  7.51it/s]\n",
      "Epoch: 137; Type: VAL; Loss: 0.18814: 100%|██████████| 372/372 [00:12<00:00, 29.30it/s]\n"
     ]
    },
    {
     "name": "stdout",
     "output_type": "stream",
     "text": [
      "Validation loss decreased (0.314791 --> 0.314762).  Saving model ...\n"
     ]
    },
    {
     "name": "stderr",
     "output_type": "stream",
     "text": [
      "Epoch: 138;  Type: Train; Loss: 0.41166: 100%|██████████| 3348/3348 [07:25<00:00,  7.51it/s]\n",
      "Epoch: 138; Type: VAL; Loss: 0.18813: 100%|██████████| 372/372 [00:12<00:00, 29.24it/s]\n"
     ]
    },
    {
     "name": "stdout",
     "output_type": "stream",
     "text": [
      "Validation loss decreased (0.314762 --> 0.314642).  Saving model ...\n"
     ]
    },
    {
     "name": "stderr",
     "output_type": "stream",
     "text": [
      "Epoch: 139;  Type: Train; Loss: 0.41946: 100%|██████████| 3348/3348 [07:26<00:00,  7.51it/s]\n",
      "Epoch: 139; Type: VAL; Loss: 0.18811: 100%|██████████| 372/372 [00:12<00:00, 29.17it/s]\n"
     ]
    },
    {
     "name": "stdout",
     "output_type": "stream",
     "text": [
      "Validation loss decreased (0.314642 --> 0.314583).  Saving model ...\n"
     ]
    },
    {
     "name": "stderr",
     "output_type": "stream",
     "text": [
      "Epoch: 140;  Type: Train; Loss: 0.43266: 100%|██████████| 3348/3348 [07:26<00:00,  7.50it/s]\n",
      "Epoch: 140; Type: VAL; Loss: 0.18802: 100%|██████████| 372/372 [00:12<00:00, 29.28it/s]\n"
     ]
    },
    {
     "name": "stdout",
     "output_type": "stream",
     "text": [
      "Validation loss decreased (0.314583 --> 0.314510).  Saving model ...\n"
     ]
    },
    {
     "name": "stderr",
     "output_type": "stream",
     "text": [
      "Epoch: 141;  Type: Train; Loss: 0.47229: 100%|██████████| 3348/3348 [07:25<00:00,  7.51it/s]\n",
      "Epoch: 141; Type: VAL; Loss: 0.18804: 100%|██████████| 372/372 [00:12<00:00, 29.26it/s]\n"
     ]
    },
    {
     "name": "stdout",
     "output_type": "stream",
     "text": [
      "Validation loss decreased (0.314510 --> 0.314457).  Saving model ...\n"
     ]
    },
    {
     "name": "stderr",
     "output_type": "stream",
     "text": [
      "Epoch: 142;  Type: Train; Loss: 0.33555: 100%|██████████| 3348/3348 [07:26<00:00,  7.50it/s]\n",
      "Epoch: 142; Type: VAL; Loss: 0.18799: 100%|██████████| 372/372 [00:12<00:00, 29.20it/s]\n"
     ]
    },
    {
     "name": "stdout",
     "output_type": "stream",
     "text": [
      "Validation loss decreased (0.314457 --> 0.314367).  Saving model ...\n"
     ]
    },
    {
     "name": "stderr",
     "output_type": "stream",
     "text": [
      "Epoch: 143;  Type: Train; Loss: 0.35698: 100%|██████████| 3348/3348 [07:26<00:00,  7.50it/s]\n",
      "Epoch: 143; Type: VAL; Loss: 0.18799: 100%|██████████| 372/372 [00:12<00:00, 29.31it/s]\n"
     ]
    },
    {
     "name": "stdout",
     "output_type": "stream",
     "text": [
      "Validation loss decreased (0.314367 --> 0.314350).  Saving model ...\n"
     ]
    },
    {
     "name": "stderr",
     "output_type": "stream",
     "text": [
      "Epoch: 144;  Type: Train; Loss: 0.35401: 100%|██████████| 3348/3348 [07:26<00:00,  7.50it/s]\n",
      "Epoch: 144; Type: VAL; Loss: 0.18795: 100%|██████████| 372/372 [00:12<00:00, 29.22it/s]\n"
     ]
    },
    {
     "name": "stdout",
     "output_type": "stream",
     "text": [
      "Validation loss decreased (0.314350 --> 0.314242).  Saving model ...\n"
     ]
    },
    {
     "name": "stderr",
     "output_type": "stream",
     "text": [
      "Epoch: 145;  Type: Train; Loss: 0.35539: 100%|██████████| 3348/3348 [07:25<00:00,  7.51it/s]\n",
      "Epoch: 145; Type: VAL; Loss: 0.18787: 100%|██████████| 372/372 [00:12<00:00, 29.24it/s]\n"
     ]
    },
    {
     "name": "stdout",
     "output_type": "stream",
     "text": [
      "Validation loss decreased (0.314242 --> 0.314200).  Saving model ...\n"
     ]
    },
    {
     "name": "stderr",
     "output_type": "stream",
     "text": [
      "Epoch: 146;  Type: Train; Loss: 0.40596: 100%|██████████| 3348/3348 [07:25<00:00,  7.51it/s]\n",
      "Epoch: 146; Type: VAL; Loss: 0.18787: 100%|██████████| 372/372 [00:12<00:00, 29.31it/s]\n"
     ]
    },
    {
     "name": "stdout",
     "output_type": "stream",
     "text": [
      "Validation loss decreased (0.314200 --> 0.314141).  Saving model ...\n"
     ]
    },
    {
     "name": "stderr",
     "output_type": "stream",
     "text": [
      "Epoch: 147;  Type: Train; Loss: 0.29166: 100%|██████████| 3348/3348 [07:26<00:00,  7.50it/s]\n",
      "Epoch: 147; Type: VAL; Loss: 0.18784: 100%|██████████| 372/372 [00:12<00:00, 29.28it/s]\n"
     ]
    },
    {
     "name": "stdout",
     "output_type": "stream",
     "text": [
      "Validation loss decreased (0.314141 --> 0.314026).  Saving model ...\n"
     ]
    },
    {
     "name": "stderr",
     "output_type": "stream",
     "text": [
      "Epoch: 148;  Type: Train; Loss: 0.21619: 100%|██████████| 3348/3348 [07:26<00:00,  7.50it/s]\n",
      "Epoch: 148; Type: VAL; Loss: 0.18787: 100%|██████████| 372/372 [00:12<00:00, 29.16it/s]\n"
     ]
    },
    {
     "name": "stdout",
     "output_type": "stream",
     "text": [
      "Validation loss decreased (0.314026 --> 0.313971).  Saving model ...\n"
     ]
    },
    {
     "name": "stderr",
     "output_type": "stream",
     "text": [
      "Epoch: 149;  Type: Train; Loss: 0.35329: 100%|██████████| 3348/3348 [07:26<00:00,  7.50it/s]\n",
      "Epoch: 149; Type: VAL; Loss: 0.18778: 100%|██████████| 372/372 [00:12<00:00, 29.18it/s]\n"
     ]
    },
    {
     "name": "stdout",
     "output_type": "stream",
     "text": [
      "Validation loss decreased (0.313971 --> 0.313908).  Saving model ...\n"
     ]
    },
    {
     "name": "stderr",
     "output_type": "stream",
     "text": [
      "Epoch: 150;  Type: Train; Loss: 0.41633: 100%|██████████| 3348/3348 [07:26<00:00,  7.50it/s]\n",
      "Epoch: 150; Type: VAL; Loss: 0.18775: 100%|██████████| 372/372 [00:12<00:00, 29.23it/s]\n"
     ]
    },
    {
     "name": "stdout",
     "output_type": "stream",
     "text": [
      "Validation loss decreased (0.313908 --> 0.313853).  Saving model ...\n"
     ]
    },
    {
     "name": "stderr",
     "output_type": "stream",
     "text": [
      "Epoch: 151;  Type: Train; Loss: 0.31609: 100%|██████████| 3348/3348 [07:26<00:00,  7.50it/s]\n",
      "Epoch: 151; Type: VAL; Loss: 0.18774: 100%|██████████| 372/372 [00:12<00:00, 29.25it/s]\n"
     ]
    },
    {
     "name": "stdout",
     "output_type": "stream",
     "text": [
      "Validation loss decreased (0.313853 --> 0.313761).  Saving model ...\n"
     ]
    },
    {
     "name": "stderr",
     "output_type": "stream",
     "text": [
      "Epoch: 152;  Type: Train; Loss: 0.27229: 100%|██████████| 3348/3348 [07:25<00:00,  7.51it/s]\n",
      "Epoch: 152; Type: VAL; Loss: 0.18763: 100%|██████████| 372/372 [00:12<00:00, 29.22it/s]\n"
     ]
    },
    {
     "name": "stdout",
     "output_type": "stream",
     "text": [
      "Validation loss decreased (0.313761 --> 0.313694).  Saving model ...\n"
     ]
    },
    {
     "name": "stderr",
     "output_type": "stream",
     "text": [
      "Epoch: 153;  Type: Train; Loss: 0.24890: 100%|██████████| 3348/3348 [07:25<00:00,  7.51it/s]\n",
      "Epoch: 153; Type: VAL; Loss: 0.18759: 100%|██████████| 372/372 [00:12<00:00, 29.21it/s]\n"
     ]
    },
    {
     "name": "stdout",
     "output_type": "stream",
     "text": [
      "Validation loss decreased (0.313694 --> 0.313651).  Saving model ...\n"
     ]
    },
    {
     "name": "stderr",
     "output_type": "stream",
     "text": [
      "Epoch: 154;  Type: Train; Loss: 0.37876: 100%|██████████| 3348/3348 [08:00<00:00,  6.97it/s]\n",
      "Epoch: 154; Type: VAL; Loss: 0.18762: 100%|██████████| 372/372 [00:32<00:00, 11.43it/s]\n"
     ]
    },
    {
     "name": "stdout",
     "output_type": "stream",
     "text": [
      "Validation loss decreased (0.313651 --> 0.313604).  Saving model ...\n"
     ]
    },
    {
     "name": "stderr",
     "output_type": "stream",
     "text": [
      "Epoch: 155;  Type: Train; Loss: 0.28595: 100%|██████████| 3348/3348 [09:20<00:00,  5.97it/s]\n",
      "Epoch: 155; Type: VAL; Loss: 0.18754: 100%|██████████| 372/372 [00:18<00:00, 20.34it/s]\n"
     ]
    },
    {
     "name": "stdout",
     "output_type": "stream",
     "text": [
      "Validation loss decreased (0.313604 --> 0.313521).  Saving model ...\n"
     ]
    },
    {
     "name": "stderr",
     "output_type": "stream",
     "text": [
      "Epoch: 156;  Type: Train; Loss: 0.33571:  48%|████▊     | 1616/3348 [04:49<38:39,  1.34s/it]"
     ]
    }
   ],
   "source": [
    "import os\n",
    "import argparse\n",
    "import time\n",
    "import json\n",
    "import torch\n",
    "import random\n",
    "import torch.nn as nn\n",
    "import numpy as np\n",
    "from dataset_BERT import EurDataset, collate_data\n",
    "import logging\n",
    "import sys \n",
    "sys.path.append(\"..\") \n",
    "from models.BERT2FC import DeepSC_BERT2FC\n",
    "from utils import SNR_to_noise, initNetParams, train_step_bart2fc, val_step_bart2fc, NoamOpt, EarlyStopping\n",
    "from torch.utils.data import DataLoader\n",
    "from torch.utils.tensorboard import SummaryWriter\n",
    "from tqdm import tqdm\n",
    "\n",
    "parser = argparse.ArgumentParser()\n",
    "parser.add_argument('--data-dir', default='../data/BERT/train_data.pkl', type=str)\n",
    "parser.add_argument('--checkpoint-path', default='../checkpoints/BERT2FC/lr=1e-5', type=str)\n",
    "parser.add_argument('--channel', default='TEST', type=str, help='Please choose AWGN, Rayleigh, and Rician')\n",
    "parser.add_argument('--MAX-LENGTH', default=70, type=int)\n",
    "parser.add_argument('--batch-size', default=32, type=int)\n",
    "parser.add_argument('--epochs', default=400, type=int)\n",
    "parser.add_argument('--resume', default=True, type=bool)\n",
    "parser.add_argument('--Test_epochs', default=1, type=int)\n",
    "device = torch.device(\"cuda:0\" if torch.cuda.is_available() else \"cpu\")\n",
    "\n",
    "log_format = '%(asctime)s %(message)s'\n",
    "logging.basicConfig(filename='myLog.log', \n",
    "                    filemode='w',\n",
    "                    level=logging.INFO,\n",
    "                    format=log_format,\n",
    "                    datefmt='%m/%d %I:%M:%S %p')\n",
    "logger = logging.getLogger()\n",
    "\n",
    "def setup_seed(seed):\n",
    "    torch.manual_seed(seed)\n",
    "    torch.cuda.manual_seed_all(seed)\n",
    "    np.random.seed(seed)\n",
    "    random.seed(seed)\n",
    "    torch.backends.cudnn.deterministic = True\n",
    "\n",
    "\n",
    "def validate(epoch, args, net):\n",
    "    test_eur = EurDataset('test')\n",
    "    test_iterator = DataLoader(test_eur, batch_size=args.batch_size, num_workers=0,\n",
    "                               pin_memory=True, collate_fn=collate_data)\n",
    "    net.eval()\n",
    "    pbar = tqdm(test_iterator)\n",
    "    total = 0\n",
    "\n",
    "    with torch.no_grad():\n",
    "        for sents in pbar:\n",
    "\n",
    "            sents = sents.to(device)\n",
    "            loss = val_step_bart2fc(net, sents, sents, 0.1, pad_idx, criterion, args.channel)\n",
    "            total += loss\n",
    "            pbar.set_description('Epoch: {}; Type: VAL; Loss: {:.5f}'.format(epoch, loss))\n",
    "    \n",
    "    early_stopping(total / len(test_iterator), net, logger)\n",
    "    if early_stopping.early_stop:\n",
    "        sys.exit(\"Early stopping\")   \n",
    "\n",
    "    logger.info('Epoch: {}; Type: VAL; Loss: {:.5f}'.format(epoch, total / len(test_iterator)))\n",
    "    #val_loss.add_scalar(\"VAL loss\", loss, epoch)\n",
    "    return total / len(test_iterator)\n",
    "\n",
    "\n",
    "def train(epoch, args, net):\n",
    "    train_eur = EurDataset('train')\n",
    "    train_iterator = DataLoader(train_eur, batch_size=args.batch_size, num_workers=0, shuffle=True,\n",
    "                                pin_memory=True, collate_fn=collate_data)\n",
    "    pbar = tqdm(train_iterator)\n",
    "\n",
    "    noise_std = np.random.uniform(SNR_to_noise(5), SNR_to_noise(10), size=(1))\n",
    "    total = 0\n",
    "\n",
    "    for sents in pbar:\n",
    "        sents = sents.to(device)\n",
    "        loss = train_step_bart2fc(net, sents, sents, noise_std[0], pad_idx, opt, criterion, args.channel)\n",
    "        total += loss\n",
    "        pbar.set_description('Epoch: {};  Type: Train; Loss: {:.5f}'.format(epoch, loss))\n",
    "\n",
    "    logger.info('Epoch: {}; Type: Train; Loss: {:.5f}'.format(epoch, total / len(train_iterator)))         \n",
    "    #tra_loss.add_scalar(\"Train loss\", loss, epoch)\n",
    "\n",
    "\n",
    "if __name__ == '__main__':\n",
    "\n",
    "    #val_loss = SummaryWriter(\"logs/BART2FC/origin\")\n",
    "    #tra_loss = SummaryWriter(\"logs/BART2FC/origin\")\n",
    "    setup_seed(42)\n",
    "    args = parser.parse_args(args=[])\n",
    "    logger.info('The args: {}'.format(args))\n",
    "\n",
    "    start_idx = 101\n",
    "    pad_idx = 0\n",
    "    end_idx = 102\n",
    "\n",
    "    \"\"\" define optimizer and loss function \"\"\"\n",
    "\n",
    "    vocab_size = 30522\n",
    "    deepsc_bert2fc = DeepSC_BERT2FC(vocab_size).to(device)\n",
    "    early_stopping = EarlyStopping(args.checkpoint_path + '/best')\n",
    "\n",
    "    \"\"\" load existed model\"\"\"\n",
    "    if args.resume:\n",
    "        model_paths = []\n",
    "        for fn in os.listdir(args.checkpoint_path):\n",
    "            if not fn.endswith('.pth'): continue\n",
    "            idx = int(os.path.splitext(fn)[0].split('_')[-1])  # read the idx of image\n",
    "            model_paths.append((os.path.join(args.checkpoint_path, fn), idx))\n",
    "\n",
    "        model_paths.sort(key=lambda x: x[1])  # sort the image by the idx\n",
    "        model_path, _ = model_paths[-1]\n",
    "        print(model_path)\n",
    "        checkpoint = torch.load(model_path, map_location='cpu')\n",
    "        deepsc_bert2fc.load_state_dict(checkpoint,strict=False)\n",
    "        print('model load!')\n",
    "    else:\n",
    "        print('no existed checkpoint')\n",
    "        for p in deepsc_bert2fc.quantization.parameters():\n",
    "            if p.dim() > 1:\n",
    "                nn.init.xavier_uniform_(p) \n",
    "        for p in deepsc_bert2fc.dequantization.parameters():\n",
    "            if p.dim() > 1:\n",
    "                nn.init.xavier_uniform_(p) \n",
    "        for p in deepsc_bert2fc.dense.parameters():\n",
    "            if p.dim() > 1:\n",
    "                nn.init.xavier_uniform_(p) \n",
    " \n",
    "    criterion = nn.CrossEntropyLoss(reduction='none')\n",
    "    opt = torch.optim.Adam(deepsc_bert2fc.parameters(), lr=1e-7, betas=(0.9, 0.98), eps=1e-8, weight_decay=5e-4)\n",
    "    # opt = NoamOpt(768, 1, 20000, optimizer)\n",
    "\n",
    "    record_acc = 10\n",
    "    for epoch in range(59 , 59 + args.epochs):\n",
    "\n",
    "        start = time.time()\n",
    "        train(epoch, args, deepsc_bert2fc)\n",
    "        avg_acc = validate(epoch, args, deepsc_bert2fc)\n",
    "\n",
    "        if record_acc >= avg_acc:\n",
    "            record_acc = avg_acc\n",
    "            if not os.path.exists(args.checkpoint_path):\n",
    "                os.makedirs(args.checkpoint_path)\n",
    "            with open(args.checkpoint_path + '/checkpoint_{}.pth'.format(str(epoch).zfill(2)), 'wb') as f:\n",
    "                torch.save(deepsc_bert2fc.state_dict(), f)\n",
    "                # bleu_score1, bleu_score2, bleu_score3, bleu_score4 = \\\n",
    "                #     performance(args, [0], deepsc_vqvae, token_to_idx, pad_idx, start_idx, end_idx)\n",
    "                # print(bleu_score1, bleu_score2, bleu_score3, bleu_score4)\n",
    "\n",
    "    #val_loss.close()\n",
    "    #tra_loss.close()\n"
   ]
  }
 ],
 "metadata": {
  "kernelspec": {
   "display_name": "base",
   "language": "python",
   "name": "python3"
  },
  "language_info": {
   "codemirror_mode": {
    "name": "ipython",
    "version": 3
   },
   "file_extension": ".py",
   "mimetype": "text/x-python",
   "name": "python",
   "nbconvert_exporter": "python",
   "pygments_lexer": "ipython3",
   "version": "3.9.12"
  },
  "orig_nbformat": 4,
  "vscode": {
   "interpreter": {
    "hash": "d3d303814ca5ff286526fa90e0ab70cd661e2119bac7791e3f542b984082dd37"
   }
  }
 },
 "nbformat": 4,
 "nbformat_minor": 2
}
