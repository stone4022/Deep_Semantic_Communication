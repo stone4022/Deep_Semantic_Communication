{
 "cells": [
  {
   "cell_type": "code",
   "execution_count": 1,
   "metadata": {},
   "outputs": [
    {
     "name": "stderr",
     "output_type": "stream",
     "text": [
      "Some weights of the model checkpoint at bert-base-uncased were not used when initializing BertModel: ['cls.predictions.bias', 'cls.seq_relationship.bias', 'cls.seq_relationship.weight', 'cls.predictions.transform.LayerNorm.weight', 'cls.predictions.transform.dense.weight', 'cls.predictions.transform.dense.bias', 'cls.predictions.decoder.weight', 'cls.predictions.transform.LayerNorm.bias']\n",
      "- This IS expected if you are initializing BertModel from the checkpoint of a model trained on another task or with another architecture (e.g. initializing a BertForSequenceClassification model from a BertForPreTraining model).\n",
      "- This IS NOT expected if you are initializing BertModel from the checkpoint of a model that you expect to be exactly identical (initializing a BertForSequenceClassification model from a BertForSequenceClassification model).\n"
     ]
    },
    {
     "name": "stdout",
     "output_type": "stream",
     "text": [
      "../checkpoints/BERT2FC/lr=1e-5\\checkpoint_27.pth\n",
      "model load!\n"
     ]
    },
    {
     "name": "stderr",
     "output_type": "stream",
     "text": [
      "Epoch: 28;  Type: Train; Loss: 0.26864: 100%|██████████| 3348/3348 [08:52<00:00,  6.28it/s]\n",
      "Epoch: 28; Type: VAL; Loss: 0.19291: 100%|██████████| 372/372 [00:18<00:00, 19.69it/s]\n"
     ]
    },
    {
     "name": "stdout",
     "output_type": "stream",
     "text": [
      "Validation loss decreased (inf --> 0.322283).  Saving model ...\n"
     ]
    },
    {
     "name": "stderr",
     "output_type": "stream",
     "text": [
      "Epoch: 29;  Type: Train; Loss: 0.16667: 100%|██████████| 3348/3348 [09:12<00:00,  6.06it/s]\n",
      "Epoch: 29; Type: VAL; Loss: 0.19282: 100%|██████████| 372/372 [00:18<00:00, 19.90it/s]\n"
     ]
    },
    {
     "name": "stdout",
     "output_type": "stream",
     "text": [
      "Validation loss decreased (0.322283 --> 0.322146).  Saving model ...\n"
     ]
    },
    {
     "name": "stderr",
     "output_type": "stream",
     "text": [
      "Epoch: 30;  Type: Train; Loss: 0.38662: 100%|██████████| 3348/3348 [09:12<00:00,  6.06it/s]\n",
      "Epoch: 30; Type: VAL; Loss: 0.19272: 100%|██████████| 372/372 [00:19<00:00, 19.50it/s]\n"
     ]
    },
    {
     "name": "stdout",
     "output_type": "stream",
     "text": [
      "Validation loss decreased (0.322146 --> 0.322065).  Saving model ...\n"
     ]
    },
    {
     "name": "stderr",
     "output_type": "stream",
     "text": [
      "Epoch: 31;  Type: Train; Loss: 0.40906: 100%|██████████| 3348/3348 [07:52<00:00,  7.09it/s]\n",
      "Epoch: 31; Type: VAL; Loss: 0.19264: 100%|██████████| 372/372 [00:12<00:00, 28.65it/s]\n"
     ]
    },
    {
     "name": "stdout",
     "output_type": "stream",
     "text": [
      "Validation loss decreased (0.322065 --> 0.321935).  Saving model ...\n"
     ]
    },
    {
     "name": "stderr",
     "output_type": "stream",
     "text": [
      "Epoch: 32;  Type: Train; Loss: 0.28624: 100%|██████████| 3348/3348 [07:31<00:00,  7.41it/s]\n",
      "Epoch: 32; Type: VAL; Loss: 0.19256: 100%|██████████| 372/372 [00:13<00:00, 28.59it/s]\n"
     ]
    },
    {
     "name": "stdout",
     "output_type": "stream",
     "text": [
      "Validation loss decreased (0.321935 --> 0.321892).  Saving model ...\n"
     ]
    },
    {
     "name": "stderr",
     "output_type": "stream",
     "text": [
      "Epoch: 33;  Type: Train; Loss: 0.37825: 100%|██████████| 3348/3348 [07:31<00:00,  7.41it/s]\n",
      "Epoch: 33; Type: VAL; Loss: 0.19254: 100%|██████████| 372/372 [00:12<00:00, 28.69it/s]\n"
     ]
    },
    {
     "name": "stdout",
     "output_type": "stream",
     "text": [
      "Validation loss decreased (0.321892 --> 0.321816).  Saving model ...\n"
     ]
    },
    {
     "name": "stderr",
     "output_type": "stream",
     "text": [
      "Epoch: 34;  Type: Train; Loss: 0.38490: 100%|██████████| 3348/3348 [07:31<00:00,  7.41it/s]\n",
      "Epoch: 34; Type: VAL; Loss: 0.19252: 100%|██████████| 372/372 [00:12<00:00, 28.64it/s]\n"
     ]
    },
    {
     "name": "stdout",
     "output_type": "stream",
     "text": [
      "Validation loss decreased (0.321816 --> 0.321750).  Saving model ...\n"
     ]
    },
    {
     "name": "stderr",
     "output_type": "stream",
     "text": [
      "Epoch: 35;  Type: Train; Loss: 0.42097: 100%|██████████| 3348/3348 [07:31<00:00,  7.42it/s]\n",
      "Epoch: 35; Type: VAL; Loss: 0.19247: 100%|██████████| 372/372 [00:12<00:00, 28.68it/s]\n"
     ]
    },
    {
     "name": "stdout",
     "output_type": "stream",
     "text": [
      "Validation loss decreased (0.321750 --> 0.321666).  Saving model ...\n"
     ]
    },
    {
     "name": "stderr",
     "output_type": "stream",
     "text": [
      "Epoch: 36;  Type: Train; Loss: 0.37162: 100%|██████████| 3348/3348 [07:30<00:00,  7.43it/s]\n",
      "Epoch: 36; Type: VAL; Loss: 0.19243: 100%|██████████| 372/372 [00:12<00:00, 28.90it/s]\n"
     ]
    },
    {
     "name": "stdout",
     "output_type": "stream",
     "text": [
      "Validation loss decreased (0.321666 --> 0.321629).  Saving model ...\n"
     ]
    },
    {
     "name": "stderr",
     "output_type": "stream",
     "text": [
      "Epoch: 37;  Type: Train; Loss: 0.41026: 100%|██████████| 3348/3348 [07:29<00:00,  7.44it/s]\n",
      "Epoch: 37; Type: VAL; Loss: 0.19227: 100%|██████████| 372/372 [00:12<00:00, 29.01it/s]\n"
     ]
    },
    {
     "name": "stdout",
     "output_type": "stream",
     "text": [
      "Validation loss decreased (0.321629 --> 0.321570).  Saving model ...\n"
     ]
    },
    {
     "name": "stderr",
     "output_type": "stream",
     "text": [
      "Epoch: 38;  Type: Train; Loss: 0.43428: 100%|██████████| 3348/3348 [07:29<00:00,  7.45it/s]\n",
      "Epoch: 38; Type: VAL; Loss: 0.19238: 100%|██████████| 372/372 [00:12<00:00, 29.01it/s]\n"
     ]
    },
    {
     "name": "stdout",
     "output_type": "stream",
     "text": [
      "Validation loss decreased (0.321570 --> 0.321517).  Saving model ...\n"
     ]
    },
    {
     "name": "stderr",
     "output_type": "stream",
     "text": [
      "Epoch: 39;  Type: Train; Loss: 0.18440: 100%|██████████| 3348/3348 [07:29<00:00,  7.45it/s]\n",
      "Epoch: 39; Type: VAL; Loss: 0.19227: 100%|██████████| 372/372 [00:12<00:00, 29.07it/s]\n"
     ]
    },
    {
     "name": "stdout",
     "output_type": "stream",
     "text": [
      "Validation loss decreased (0.321517 --> 0.321433).  Saving model ...\n"
     ]
    },
    {
     "name": "stderr",
     "output_type": "stream",
     "text": [
      "Epoch: 40;  Type: Train; Loss: 0.38915: 100%|██████████| 3348/3348 [07:29<00:00,  7.45it/s]\n",
      "Epoch: 40; Type: VAL; Loss: 0.19224: 100%|██████████| 372/372 [00:12<00:00, 29.06it/s]\n"
     ]
    },
    {
     "name": "stdout",
     "output_type": "stream",
     "text": [
      "Validation loss decreased (0.321433 --> 0.321385).  Saving model ...\n"
     ]
    },
    {
     "name": "stderr",
     "output_type": "stream",
     "text": [
      "Epoch: 41;  Type: Train; Loss: 0.35838: 100%|██████████| 3348/3348 [07:29<00:00,  7.45it/s]\n",
      "Epoch: 41; Type: VAL; Loss: 0.19223: 100%|██████████| 372/372 [00:12<00:00, 29.10it/s]\n"
     ]
    },
    {
     "name": "stdout",
     "output_type": "stream",
     "text": [
      "Validation loss decreased (0.321385 --> 0.321337).  Saving model ...\n"
     ]
    },
    {
     "name": "stderr",
     "output_type": "stream",
     "text": [
      "Epoch: 42;  Type: Train; Loss: 0.36172: 100%|██████████| 3348/3348 [07:28<00:00,  7.46it/s]\n",
      "Epoch: 42; Type: VAL; Loss: 0.19231: 100%|██████████| 372/372 [00:12<00:00, 29.07it/s]\n"
     ]
    },
    {
     "name": "stdout",
     "output_type": "stream",
     "text": [
      "Validation loss decreased (0.321337 --> 0.321291).  Saving model ...\n"
     ]
    },
    {
     "name": "stderr",
     "output_type": "stream",
     "text": [
      "Epoch: 43;  Type: Train; Loss: 0.27320: 100%|██████████| 3348/3348 [07:29<00:00,  7.45it/s]\n",
      "Epoch: 43; Type: VAL; Loss: 0.19216: 100%|██████████| 372/372 [00:12<00:00, 29.05it/s]\n"
     ]
    },
    {
     "name": "stdout",
     "output_type": "stream",
     "text": [
      "Validation loss decreased (0.321291 --> 0.321205).  Saving model ...\n"
     ]
    },
    {
     "name": "stderr",
     "output_type": "stream",
     "text": [
      "Epoch: 44;  Type: Train; Loss: 0.32662: 100%|██████████| 3348/3348 [07:28<00:00,  7.46it/s]\n",
      "Epoch: 44; Type: VAL; Loss: 0.19215: 100%|██████████| 372/372 [00:12<00:00, 29.11it/s]\n"
     ]
    },
    {
     "name": "stdout",
     "output_type": "stream",
     "text": [
      "Validation loss decreased (0.321205 --> 0.321176).  Saving model ...\n"
     ]
    },
    {
     "name": "stderr",
     "output_type": "stream",
     "text": [
      "Epoch: 45;  Type: Train; Loss: 0.22183: 100%|██████████| 3348/3348 [07:28<00:00,  7.46it/s]\n",
      "Epoch: 45; Type: VAL; Loss: 0.19202: 100%|██████████| 372/372 [00:12<00:00, 29.12it/s]\n"
     ]
    },
    {
     "name": "stdout",
     "output_type": "stream",
     "text": [
      "Validation loss decreased (0.321176 --> 0.321105).  Saving model ...\n"
     ]
    },
    {
     "name": "stderr",
     "output_type": "stream",
     "text": [
      "Epoch: 46;  Type: Train; Loss: 0.23425: 100%|██████████| 3348/3348 [07:28<00:00,  7.46it/s]\n",
      "Epoch: 46; Type: VAL; Loss: 0.19208: 100%|██████████| 372/372 [00:12<00:00, 29.08it/s]\n"
     ]
    },
    {
     "name": "stdout",
     "output_type": "stream",
     "text": [
      "Validation loss decreased (0.321105 --> 0.321053).  Saving model ...\n"
     ]
    },
    {
     "name": "stderr",
     "output_type": "stream",
     "text": [
      "Epoch: 47;  Type: Train; Loss: 0.32856: 100%|██████████| 3348/3348 [07:28<00:00,  7.46it/s]\n",
      "Epoch: 47; Type: VAL; Loss: 0.19209: 100%|██████████| 372/372 [00:12<00:00, 29.08it/s]\n"
     ]
    },
    {
     "name": "stdout",
     "output_type": "stream",
     "text": [
      "Validation loss decreased (0.321053 --> 0.320992).  Saving model ...\n"
     ]
    },
    {
     "name": "stderr",
     "output_type": "stream",
     "text": [
      "Epoch: 48;  Type: Train; Loss: 0.48199: 100%|██████████| 3348/3348 [07:28<00:00,  7.47it/s]\n",
      "Epoch: 48; Type: VAL; Loss: 0.19200: 100%|██████████| 372/372 [00:12<00:00, 29.06it/s]\n"
     ]
    },
    {
     "name": "stdout",
     "output_type": "stream",
     "text": [
      "Validation loss decreased (0.320992 --> 0.320915).  Saving model ...\n"
     ]
    },
    {
     "name": "stderr",
     "output_type": "stream",
     "text": [
      "Epoch: 49;  Type: Train; Loss: 0.44525: 100%|██████████| 3348/3348 [07:28<00:00,  7.46it/s]\n",
      "Epoch: 49; Type: VAL; Loss: 0.19188: 100%|██████████| 372/372 [00:12<00:00, 29.11it/s]\n"
     ]
    },
    {
     "name": "stdout",
     "output_type": "stream",
     "text": [
      "Validation loss decreased (0.320915 --> 0.320893).  Saving model ...\n"
     ]
    },
    {
     "name": "stderr",
     "output_type": "stream",
     "text": [
      "Epoch: 50;  Type: Train; Loss: 0.24014: 100%|██████████| 3348/3348 [07:28<00:00,  7.47it/s]\n",
      "Epoch: 50; Type: VAL; Loss: 0.19196: 100%|██████████| 372/372 [00:12<00:00, 29.09it/s]\n"
     ]
    },
    {
     "name": "stdout",
     "output_type": "stream",
     "text": [
      "Validation loss decreased (0.320893 --> 0.320855).  Saving model ...\n"
     ]
    },
    {
     "name": "stderr",
     "output_type": "stream",
     "text": [
      "Epoch: 51;  Type: Train; Loss: 0.45339: 100%|██████████| 3348/3348 [07:28<00:00,  7.47it/s]\n",
      "Epoch: 51; Type: VAL; Loss: 0.19182: 100%|██████████| 372/372 [00:12<00:00, 29.10it/s]\n"
     ]
    },
    {
     "name": "stdout",
     "output_type": "stream",
     "text": [
      "Validation loss decreased (0.320855 --> 0.320790).  Saving model ...\n"
     ]
    },
    {
     "name": "stderr",
     "output_type": "stream",
     "text": [
      "Epoch: 52;  Type: Train; Loss: 0.34182: 100%|██████████| 3348/3348 [07:28<00:00,  7.47it/s]\n",
      "Epoch: 52; Type: VAL; Loss: 0.19179: 100%|██████████| 372/372 [00:12<00:00, 29.11it/s]\n"
     ]
    },
    {
     "name": "stdout",
     "output_type": "stream",
     "text": [
      "Validation loss decreased (0.320790 --> 0.320746).  Saving model ...\n"
     ]
    },
    {
     "name": "stderr",
     "output_type": "stream",
     "text": [
      "Epoch: 53;  Type: Train; Loss: 0.26443: 100%|██████████| 3348/3348 [07:28<00:00,  7.47it/s]\n",
      "Epoch: 53; Type: VAL; Loss: 0.19176: 100%|██████████| 372/372 [00:12<00:00, 29.17it/s]\n"
     ]
    },
    {
     "name": "stdout",
     "output_type": "stream",
     "text": [
      "Validation loss decreased (0.320746 --> 0.320693).  Saving model ...\n"
     ]
    },
    {
     "name": "stderr",
     "output_type": "stream",
     "text": [
      "Epoch: 54;  Type: Train; Loss: 0.58224: 100%|██████████| 3348/3348 [07:28<00:00,  7.47it/s]\n",
      "Epoch: 54; Type: VAL; Loss: 0.19165: 100%|██████████| 372/372 [00:12<00:00, 29.14it/s]\n"
     ]
    },
    {
     "name": "stdout",
     "output_type": "stream",
     "text": [
      "Validation loss decreased (0.320693 --> 0.320631).  Saving model ...\n"
     ]
    },
    {
     "name": "stderr",
     "output_type": "stream",
     "text": [
      "Epoch: 55;  Type: Train; Loss: 0.35457: 100%|██████████| 3348/3348 [07:28<00:00,  7.47it/s]\n",
      "Epoch: 55; Type: VAL; Loss: 0.19157: 100%|██████████| 372/372 [00:12<00:00, 29.06it/s]\n"
     ]
    },
    {
     "name": "stdout",
     "output_type": "stream",
     "text": [
      "Validation loss decreased (0.320631 --> 0.320571).  Saving model ...\n"
     ]
    },
    {
     "name": "stderr",
     "output_type": "stream",
     "text": [
      "Epoch: 56;  Type: Train; Loss: 0.39236: 100%|██████████| 3348/3348 [07:28<00:00,  7.47it/s]\n",
      "Epoch: 56; Type: VAL; Loss: 0.19166: 100%|██████████| 372/372 [00:12<00:00, 29.06it/s]\n"
     ]
    },
    {
     "name": "stdout",
     "output_type": "stream",
     "text": [
      "Validation loss decreased (0.320571 --> 0.320525).  Saving model ...\n"
     ]
    },
    {
     "name": "stderr",
     "output_type": "stream",
     "text": [
      "Epoch: 57;  Type: Train; Loss: 0.40807: 100%|██████████| 3348/3348 [07:28<00:00,  7.46it/s]\n",
      "Epoch: 57; Type: VAL; Loss: 0.19162: 100%|██████████| 372/372 [00:12<00:00, 29.05it/s]\n"
     ]
    },
    {
     "name": "stdout",
     "output_type": "stream",
     "text": [
      "Validation loss decreased (0.320525 --> 0.320476).  Saving model ...\n"
     ]
    },
    {
     "name": "stderr",
     "output_type": "stream",
     "text": [
      "Epoch: 58;  Type: Train; Loss: 0.19867: 100%|██████████| 3348/3348 [07:28<00:00,  7.46it/s]\n",
      "Epoch: 58; Type: VAL; Loss: 0.19162: 100%|██████████| 372/372 [00:12<00:00, 29.05it/s]\n"
     ]
    },
    {
     "name": "stdout",
     "output_type": "stream",
     "text": [
      "Validation loss decreased (0.320476 --> 0.320425).  Saving model ...\n"
     ]
    },
    {
     "name": "stderr",
     "output_type": "stream",
     "text": [
      "Epoch: 59;  Type: Train; Loss: 0.35364:  15%|█▌        | 517/3348 [01:46<55:06,  1.17s/it]  "
     ]
    }
   ],
   "source": [
    "import os\n",
    "import argparse\n",
    "import time\n",
    "import json\n",
    "import torch\n",
    "import random\n",
    "import torch.nn as nn\n",
    "import numpy as np\n",
    "from dataset_BERT import EurDataset, collate_data\n",
    "import sys \n",
    "sys.path.append(\"..\") \n",
    "from models.BERT2FC import DeepSC_BERT2FC\n",
    "from utils import SNR_to_noise, initNetParams, train_step_bart2fc, val_step_bart2fc, NoamOpt, EarlyStopping\n",
    "from torch.utils.data import DataLoader\n",
    "from torch.utils.tensorboard import SummaryWriter\n",
    "from tqdm import tqdm\n",
    "\n",
    "parser = argparse.ArgumentParser()\n",
    "parser.add_argument('--data-dir', default='../data/BERT/train_data.pkl', type=str)\n",
    "parser.add_argument('--checkpoint-path', default='../checkpoints/BERT2FC/lr=1e-5', type=str)\n",
    "parser.add_argument('--channel', default='TEST', type=str, help='Please choose AWGN, Rayleigh, and Rician')\n",
    "parser.add_argument('--MAX-LENGTH', default=70, type=int)\n",
    "parser.add_argument('--batch-size', default=32, type=int)\n",
    "parser.add_argument('--epochs', default=400, type=int)\n",
    "parser.add_argument('--resume', default=True, type=bool)\n",
    "parser.add_argument('--Test_epochs', default=1, type=int)\n",
    "device = torch.device(\"cuda:0\" if torch.cuda.is_available() else \"cpu\")\n",
    "\n",
    "\n",
    "def setup_seed(seed):\n",
    "    torch.manual_seed(seed)\n",
    "    torch.cuda.manual_seed_all(seed)\n",
    "    np.random.seed(seed)\n",
    "    random.seed(seed)\n",
    "    torch.backends.cudnn.deterministic = True\n",
    "\n",
    "\n",
    "def validate(epoch, args, net):\n",
    "    test_eur = EurDataset('test')\n",
    "    test_iterator = DataLoader(test_eur, batch_size=args.batch_size, num_workers=0,\n",
    "                               pin_memory=True, collate_fn=collate_data)\n",
    "    net.eval()\n",
    "    pbar = tqdm(test_iterator)\n",
    "    total = 0\n",
    "\n",
    "    with torch.no_grad():\n",
    "        for sents in pbar:\n",
    "\n",
    "            sents = sents.to(device)\n",
    "            loss = val_step_bart2fc(net, sents, sents, 0.1, pad_idx, criterion, args.channel)\n",
    "            total += loss\n",
    "            pbar.set_description('Epoch: {}; Type: VAL; Loss: {:.5f}'.format(epoch, loss))\n",
    "    \n",
    "    early_stopping(total / len(test_iterator), net)\n",
    "    if early_stopping.early_stop:\n",
    "        sys.exit(\"Early stopping\")   \n",
    "\n",
    "    #val_loss.add_scalar(\"VAL loss\", loss, epoch)\n",
    "    return total / len(test_iterator)\n",
    "\n",
    "\n",
    "def train(epoch, args, net):\n",
    "    train_eur = EurDataset('train')\n",
    "    train_iterator = DataLoader(train_eur, batch_size=args.batch_size, num_workers=0, shuffle=True,\n",
    "                                pin_memory=True, collate_fn=collate_data)\n",
    "    pbar = tqdm(train_iterator)\n",
    "\n",
    "    noise_std = np.random.uniform(SNR_to_noise(5), SNR_to_noise(10), size=(1))\n",
    "\n",
    "    for sents in pbar:\n",
    "        sents = sents.to(device)\n",
    "        loss = train_step_bart2fc(net, sents, sents, noise_std[0], pad_idx, opt, criterion, args.channel)\n",
    "        pbar.set_description('Epoch: {};  Type: Train; Loss: {:.5f}'.format(epoch, loss))\n",
    "            \n",
    "    #tra_loss.add_scalar(\"Train loss\", loss, epoch)\n",
    "\n",
    "\n",
    "if __name__ == '__main__':\n",
    "\n",
    "    #val_loss = SummaryWriter(\"logs/BART2FC/origin\")\n",
    "    #tra_loss = SummaryWriter(\"logs/BART2FC/origin\")\n",
    "    setup_seed(42)\n",
    "    args = parser.parse_args(args=[])\n",
    "\n",
    "    start_idx = 101\n",
    "    pad_idx = 0\n",
    "    end_idx = 102\n",
    "\n",
    "    \"\"\" define optimizer and loss function \"\"\"\n",
    "\n",
    "    vocab_size = 30522\n",
    "    deepsc_bert2fc = DeepSC_BERT2FC(vocab_size).to(device)\n",
    "    early_stopping = EarlyStopping(args.checkpoint_path + '/best')\n",
    "\n",
    "    \"\"\" load existed model\"\"\"\n",
    "    if args.resume:\n",
    "        model_paths = []\n",
    "        for fn in os.listdir(args.checkpoint_path):\n",
    "            if not fn.endswith('.pth'): continue\n",
    "            idx = int(os.path.splitext(fn)[0].split('_')[-1])  # read the idx of image\n",
    "            model_paths.append((os.path.join(args.checkpoint_path, fn), idx))\n",
    "\n",
    "        model_paths.sort(key=lambda x: x[1])  # sort the image by the idx\n",
    "        model_path, _ = model_paths[-1]\n",
    "        print(model_path)\n",
    "        checkpoint = torch.load(model_path, map_location='cpu')\n",
    "        deepsc_bert2fc.load_state_dict(checkpoint,strict=False)\n",
    "        print('model load!')\n",
    "    else:\n",
    "        print('no existed checkpoint')\n",
    "        for p in deepsc_bert2fc.quantization.parameters():\n",
    "            if p.dim() > 1:\n",
    "                nn.init.xavier_uniform_(p) \n",
    "        for p in deepsc_bert2fc.dequantization.parameters():\n",
    "            if p.dim() > 1:\n",
    "                nn.init.xavier_uniform_(p) \n",
    "        for p in deepsc_bert2fc.dense.parameters():\n",
    "            if p.dim() > 1:\n",
    "                nn.init.xavier_uniform_(p) \n",
    " \n",
    "    criterion = nn.CrossEntropyLoss(reduction='none')\n",
    "    opt = torch.optim.Adam(deepsc_bert2fc.parameters(), lr=1e-7, betas=(0.9, 0.98), eps=1e-8, weight_decay=5e-4)\n",
    "    # opt = NoamOpt(768, 1, 20000, optimizer)\n",
    "\n",
    "    record_acc = 10\n",
    "    for epoch in range(28 , 28 + args.epochs):\n",
    "\n",
    "        start = time.time()\n",
    "        train(epoch, args, deepsc_bert2fc)\n",
    "        avg_acc = validate(epoch, args, deepsc_bert2fc)\n",
    "\n",
    "        if record_acc >= avg_acc:\n",
    "            record_acc = avg_acc\n",
    "            if not os.path.exists(args.checkpoint_path):\n",
    "                os.makedirs(args.checkpoint_path)\n",
    "            with open(args.checkpoint_path + '/checkpoint_{}.pth'.format(str(epoch).zfill(2)), 'wb') as f:\n",
    "                torch.save(deepsc_bert2fc.state_dict(), f)\n",
    "                # bleu_score1, bleu_score2, bleu_score3, bleu_score4 = \\\n",
    "                #     performance(args, [0], deepsc_vqvae, token_to_idx, pad_idx, start_idx, end_idx)\n",
    "                # print(bleu_score1, bleu_score2, bleu_score3, bleu_score4)\n",
    "\n",
    "    #val_loss.close()\n",
    "    #tra_loss.close()\n"
   ]
  }
 ],
 "metadata": {
  "kernelspec": {
   "display_name": "base",
   "language": "python",
   "name": "python3"
  },
  "language_info": {
   "codemirror_mode": {
    "name": "ipython",
    "version": 3
   },
   "file_extension": ".py",
   "mimetype": "text/x-python",
   "name": "python",
   "nbconvert_exporter": "python",
   "pygments_lexer": "ipython3",
   "version": "3.9.12 (main, Apr  4 2022, 05:22:27) [MSC v.1916 64 bit (AMD64)]"
  },
  "orig_nbformat": 4,
  "vscode": {
   "interpreter": {
    "hash": "d3d303814ca5ff286526fa90e0ab70cd661e2119bac7791e3f542b984082dd37"
   }
  }
 },
 "nbformat": 4,
 "nbformat_minor": 2
}
