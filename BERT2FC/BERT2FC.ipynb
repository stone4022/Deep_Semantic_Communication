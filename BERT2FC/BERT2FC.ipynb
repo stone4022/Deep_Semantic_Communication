{
 "cells": [
  {
   "cell_type": "code",
   "execution_count": 2,
   "metadata": {},
   "outputs": [
    {
     "name": "stderr",
     "output_type": "stream",
     "text": [
      "Some weights of the model checkpoint at bert-base-uncased were not used when initializing BertModel: ['cls.predictions.transform.dense.weight', 'cls.predictions.transform.LayerNorm.weight', 'cls.seq_relationship.weight', 'cls.predictions.bias', 'cls.seq_relationship.bias', 'cls.predictions.decoder.weight', 'cls.predictions.transform.LayerNorm.bias', 'cls.predictions.transform.dense.bias']\n",
      "- This IS expected if you are initializing BertModel from the checkpoint of a model trained on another task or with another architecture (e.g. initializing a BertForSequenceClassification model from a BertForPreTraining model).\n",
      "- This IS NOT expected if you are initializing BertModel from the checkpoint of a model that you expect to be exactly identical (initializing a BertForSequenceClassification model from a BertForSequenceClassification model).\n"
     ]
    },
    {
     "name": "stdout",
     "output_type": "stream",
     "text": [
      "../checkpoints/BERT2FC/lr=1e-5\\checkpoint_12.pth\n",
      "model load!\n"
     ]
    },
    {
     "name": "stderr",
     "output_type": "stream",
     "text": [
      "Epoch: 13;  Type: Train; Loss: 0.33088: 100%|██████████| 3348/3348 [09:54<00:00,  5.64it/s]\n",
      "Epoch: 13; Type: VAL; Loss: 0.21232: 100%|██████████| 372/372 [00:19<00:00, 18.74it/s]\n"
     ]
    },
    {
     "name": "stdout",
     "output_type": "stream",
     "text": [
      "Validation loss decreased (inf --> 0.375567).  Saving model ...\n"
     ]
    },
    {
     "name": "stderr",
     "output_type": "stream",
     "text": [
      "Epoch: 14;  Type: Train; Loss: 0.20143: 100%|██████████| 3348/3348 [09:43<00:00,  5.74it/s]\n",
      "Epoch: 14; Type: VAL; Loss: 0.20796: 100%|██████████| 372/372 [00:19<00:00, 18.77it/s]\n"
     ]
    },
    {
     "name": "stdout",
     "output_type": "stream",
     "text": [
      "EarlyStopping counter: 1 out of 10\n"
     ]
    },
    {
     "name": "stderr",
     "output_type": "stream",
     "text": [
      "Epoch: 15;  Type: Train; Loss: 0.42909: 100%|██████████| 3348/3348 [09:43<00:00,  5.74it/s]\n",
      "Epoch: 15; Type: VAL; Loss: 0.20442: 100%|██████████| 372/372 [00:17<00:00, 21.77it/s]\n"
     ]
    },
    {
     "name": "stdout",
     "output_type": "stream",
     "text": [
      "EarlyStopping counter: 2 out of 10\n"
     ]
    },
    {
     "name": "stderr",
     "output_type": "stream",
     "text": [
      "Epoch: 16;  Type: Train; Loss: 0.45253: 100%|██████████| 3348/3348 [10:41<00:00,  5.22it/s] \n",
      "Epoch: 16; Type: VAL; Loss: 0.20224: 100%|██████████| 372/372 [00:19<00:00, 18.88it/s]\n"
     ]
    },
    {
     "name": "stdout",
     "output_type": "stream",
     "text": [
      "EarlyStopping counter: 3 out of 10\n"
     ]
    },
    {
     "name": "stderr",
     "output_type": "stream",
     "text": [
      "Epoch: 17;  Type: Train; Loss: 0.30617: 100%|██████████| 3348/3348 [11:39<00:00,  4.79it/s]\n",
      "Epoch: 17; Type: VAL; Loss: 0.19939: 100%|██████████| 372/372 [00:37<00:00, 10.01it/s]\n"
     ]
    },
    {
     "name": "stdout",
     "output_type": "stream",
     "text": [
      "EarlyStopping counter: 4 out of 10\n"
     ]
    },
    {
     "name": "stderr",
     "output_type": "stream",
     "text": [
      "Epoch: 18;  Type: Train; Loss: 0.39619: 100%|██████████| 3348/3348 [16:09<00:00,  3.45it/s]\n",
      "Epoch: 18; Type: VAL; Loss: 0.19626: 100%|██████████| 372/372 [00:18<00:00, 19.91it/s]\n"
     ]
    },
    {
     "name": "stdout",
     "output_type": "stream",
     "text": [
      "EarlyStopping counter: 5 out of 10\n"
     ]
    },
    {
     "name": "stderr",
     "output_type": "stream",
     "text": [
      "Epoch: 19;  Type: Train; Loss: 0.39865: 100%|██████████| 3348/3348 [10:54<00:00,  5.12it/s]  \n",
      "Epoch: 19; Type: VAL; Loss: 0.19696: 100%|██████████| 372/372 [00:29<00:00, 12.46it/s]\n"
     ]
    },
    {
     "name": "stdout",
     "output_type": "stream",
     "text": [
      "EarlyStopping counter: 6 out of 10\n"
     ]
    },
    {
     "name": "stderr",
     "output_type": "stream",
     "text": [
      "Epoch: 20;  Type: Train; Loss: 0.34822:   0%|          | 5/3348 [00:06<1:05:27,  1.17s/it]"
     ]
    }
   ],
   "source": [
    "import os\n",
    "import argparse\n",
    "import time\n",
    "import json\n",
    "import torch\n",
    "import random\n",
    "import torch.nn as nn\n",
    "import numpy as np\n",
    "from dataset_BERT import EurDataset, collate_data\n",
    "import sys \n",
    "sys.path.append(\"..\") \n",
    "from models.BERT2FC import DeepSC_BERT2FC\n",
    "from utils import SNR_to_noise, initNetParams, train_step_bart2fc, val_step_bart2fc, NoamOpt, EarlyStopping\n",
    "from torch.utils.data import DataLoader\n",
    "from torch.utils.tensorboard import SummaryWriter\n",
    "from tqdm import tqdm\n",
    "from performance import performance\n",
    "\n",
    "parser = argparse.ArgumentParser()\n",
    "parser.add_argument('--data-dir', default='../data/BERT/train_data.pkl', type=str)\n",
    "parser.add_argument('--checkpoint-path', default='../checkpoints/BERT2FC/lr=1e-5', type=str)\n",
    "parser.add_argument('--channel', default='TEST', type=str, help='Please choose AWGN, Rayleigh, and Rician')\n",
    "parser.add_argument('--MAX-LENGTH', default=70, type=int)\n",
    "parser.add_argument('--batch-size', default=32, type=int)\n",
    "parser.add_argument('--epochs', default=400, type=int)\n",
    "parser.add_argument('--resume', default=True, type=bool)\n",
    "parser.add_argument('--Test_epochs', default=1, type=int)\n",
    "device = torch.device(\"cuda:0\" if torch.cuda.is_available() else \"cpu\")\n",
    "\n",
    "\n",
    "def setup_seed(seed):\n",
    "    torch.manual_seed(seed)\n",
    "    torch.cuda.manual_seed_all(seed)\n",
    "    np.random.seed(seed)\n",
    "    random.seed(seed)\n",
    "    torch.backends.cudnn.deterministic = True\n",
    "\n",
    "\n",
    "def validate(epoch, args, net):\n",
    "    test_eur = EurDataset('test')\n",
    "    test_iterator = DataLoader(test_eur, batch_size=args.batch_size, num_workers=0,\n",
    "                               pin_memory=True, collate_fn=collate_data)\n",
    "    net.eval()\n",
    "    pbar = tqdm(test_iterator)\n",
    "    total = 0\n",
    "\n",
    "    with torch.no_grad():\n",
    "        for sents in pbar:\n",
    "\n",
    "            sents = sents.to(device)\n",
    "            loss = val_step_bart2fc(net, sents, sents, 0.1, pad_idx, criterion, args.channel)\n",
    "            total += loss\n",
    "            pbar.set_description('Epoch: {}; Type: VAL; Loss: {:.5f}'.format(epoch, loss))\n",
    "    \n",
    "    early_stopping(total / len(test_iterator), net)\n",
    "    if early_stopping.early_stop:\n",
    "        sys.exit(\"Early stopping\")   \n",
    "\n",
    "    #val_loss.add_scalar(\"VAL loss\", loss, epoch)\n",
    "    return total / len(test_iterator)\n",
    "\n",
    "\n",
    "def train(epoch, args, net):\n",
    "    train_eur = EurDataset('train')\n",
    "    train_iterator = DataLoader(train_eur, batch_size=args.batch_size, num_workers=0, shuffle=True,\n",
    "                                pin_memory=True, collate_fn=collate_data)\n",
    "    pbar = tqdm(train_iterator)\n",
    "\n",
    "    noise_std = np.random.uniform(SNR_to_noise(5), SNR_to_noise(10), size=(1))\n",
    "\n",
    "    for sents in pbar:\n",
    "        sents = sents.to(device)\n",
    "        loss = train_step_bart2fc(net, sents, sents, noise_std[0], pad_idx, opt, criterion, args.channel)\n",
    "        pbar.set_description('Epoch: {};  Type: Train; Loss: {:.5f}'.format(epoch, loss))\n",
    "            \n",
    "    #tra_loss.add_scalar(\"Train loss\", loss, epoch)\n",
    "\n",
    "\n",
    "if __name__ == '__main__':\n",
    "\n",
    "    #val_loss = SummaryWriter(\"logs/BART2FC/origin\")\n",
    "    #tra_loss = SummaryWriter(\"logs/BART2FC/origin\")\n",
    "    setup_seed(42)\n",
    "    args = parser.parse_args(args=[])\n",
    "\n",
    "    start_idx = 101\n",
    "    pad_idx = 0\n",
    "    end_idx = 102\n",
    "\n",
    "    \"\"\" define optimizer and loss function \"\"\"\n",
    "\n",
    "    vocab_size = 30522\n",
    "    deepsc_bert2fc = DeepSC_BERT2FC(vocab_size).to(device)\n",
    "    early_stopping = EarlyStopping(args.checkpoint_path + '/best')\n",
    "\n",
    "    \"\"\" load existed model\"\"\"\n",
    "    if args.resume:\n",
    "        model_paths = []\n",
    "        for fn in os.listdir(args.checkpoint_path):\n",
    "            if not fn.endswith('.pth'): continue\n",
    "            idx = int(os.path.splitext(fn)[0].split('_')[-1])  # read the idx of image\n",
    "            model_paths.append((os.path.join(args.checkpoint_path, fn), idx))\n",
    "\n",
    "        model_paths.sort(key=lambda x: x[1])  # sort the image by the idx\n",
    "        model_path, _ = model_paths[-1]\n",
    "        print(model_path)\n",
    "        checkpoint = torch.load(model_path, map_location='cpu')\n",
    "        deepsc_bert2fc.load_state_dict(checkpoint,strict=False)\n",
    "        print('model load!')\n",
    "    else:\n",
    "        print('no existed checkpoint')\n",
    "        for p in deepsc_bert2fc.quantization.parameters():\n",
    "            if p.dim() > 1:\n",
    "                nn.init.xavier_uniform_(p) \n",
    "        for p in deepsc_bert2fc.dequantization.parameters():\n",
    "            if p.dim() > 1:\n",
    "                nn.init.xavier_uniform_(p) \n",
    "        for p in deepsc_bert2fc.dense.parameters():\n",
    "            if p.dim() > 1:\n",
    "                nn.init.xavier_uniform_(p) \n",
    " \n",
    "    criterion = nn.CrossEntropyLoss(reduction='none')\n",
    "    opt = torch.optim.Adam(deepsc_bert2fc.parameters(), lr=1e-5, betas=(0.9, 0.98), eps=1e-8, weight_decay=5e-4)\n",
    "    # opt = NoamOpt(768, 1, 20000, optimizer)\n",
    "\n",
    "    record_acc = 10\n",
    "    for epoch in range(13 , 13 + args.epochs):\n",
    "\n",
    "        start = time.time()\n",
    "        train(epoch, args, deepsc_bert2fc)\n",
    "        avg_acc = validate(epoch, args, deepsc_bert2fc)\n",
    "\n",
    "        if record_acc >= avg_acc:\n",
    "            record_acc = avg_acc\n",
    "            if not os.path.exists(args.checkpoint_path):\n",
    "                os.makedirs(args.checkpoint_path)\n",
    "            with open(args.checkpoint_path + '/checkpoint_{}.pth'.format(str(epoch).zfill(2)), 'wb') as f:\n",
    "                torch.save(deepsc_bert2fc.state_dict(), f)\n",
    "                # bleu_score1, bleu_score2, bleu_score3, bleu_score4 = \\\n",
    "                #     performance(args, [0], deepsc_vqvae, token_to_idx, pad_idx, start_idx, end_idx)\n",
    "                # print(bleu_score1, bleu_score2, bleu_score3, bleu_score4)\n",
    "\n",
    "    #val_loss.close()\n",
    "    #tra_loss.close()\n"
   ]
  }
 ],
 "metadata": {
  "kernelspec": {
   "display_name": "pytorch38",
   "language": "python",
   "name": "python3"
  },
  "language_info": {
   "codemirror_mode": {
    "name": "ipython",
    "version": 3
   },
   "file_extension": ".py",
   "mimetype": "text/x-python",
   "name": "python",
   "nbconvert_exporter": "python",
   "pygments_lexer": "ipython3",
   "version": "3.8.13"
  },
  "orig_nbformat": 4,
  "vscode": {
   "interpreter": {
    "hash": "ec35eb9b335c7e254c8f905d982b9b8442353d7ca0606de2b8530d7f26352d53"
   }
  }
 },
 "nbformat": 4,
 "nbformat_minor": 2
}
